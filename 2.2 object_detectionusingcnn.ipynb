{
 "cells": [
  {
   "cell_type": "markdown",
   "metadata": {},
   "source": [
    "The CIFAR-10 dataset consists of 60000 32x32 colour images in 10 classes, with 6000 images per class. There are 50000 training images and 10000 test images.\n",
    "We are going to build a CNN model to classify these images and then we will use transfer learning to find out which one worked better.\n",
    "Let's start with out dataset and take look at it.\n",
    "* Costume CNN\n",
    "* ResNet50 with fine tuning\n",
    "* MobileNet with fine tuning\n",
    "* VGG-19 with fune tuning"
   ]
  },
  {
   "cell_type": "code",
   "execution_count": null,
   "metadata": {
    "_cell_guid": "b1076dfc-b9ad-4769-8c92-a6c4dae69d19",
    "_uuid": "8f2839f25d086af736a60e9eeb907d3b93b6e0e5",
    "execution": {
     "iopub.execute_input": "2022-01-01T15:44:50.264474Z",
     "iopub.status.busy": "2022-01-01T15:44:50.264221Z",
     "iopub.status.idle": "2022-01-01T15:44:50.269804Z",
     "shell.execute_reply": "2022-01-01T15:44:50.268918Z",
     "shell.execute_reply.started": "2022-01-01T15:44:50.264445Z"
    }
   },
   "outputs": [],
   "source": [
    "import numpy as np\n",
    "import pandas as pd\n",
    "import matplotlib.pyplot as plt\n",
    "import tensorflow as tf\n",
    "from tensorflow.keras.utils import to_categorical\n",
    "from tensorflow.keras.models import Model\n",
    "from tensorflow.keras.layers import Dense, Flatten, Conv2D, Dropout\n",
    "from tensorflow.keras.layers import GlobalAveragePooling2D, UpSampling2D, Input\n",
    "from tensorflow.keras.layers import MaxPooling2D, BatchNormalization\n",
    "from tensorflow.keras.optimizers import Adam, SGD, RMSprop\n",
    "import scipy as sp"
   ]
  },
  {
   "cell_type": "code",
   "execution_count": null,
   "metadata": {
    "execution": {
     "iopub.execute_input": "2022-01-01T15:44:51.208588Z",
     "iopub.status.busy": "2022-01-01T15:44:51.208332Z",
     "iopub.status.idle": "2022-01-01T15:44:55.364094Z",
     "shell.execute_reply": "2022-01-01T15:44:55.363197Z",
     "shell.execute_reply.started": "2022-01-01T15:44:51.208559Z"
    }
   },
   "outputs": [],
   "source": [
    "(train_data, train_labels),(test_data, test_labels) = tf.keras.datasets.cifar10.load_data()"
   ]
  },
  {
   "cell_type": "markdown",
   "metadata": {},
   "source": [
    "As we can see in the cell below out data type is unit8 and we need to change change it to float32. Besides nomalizing our data would be helpfull. That would wrap up out preprocessing for images. We'll see more when we are using transfer learning."
   ]
  },
  {
   "cell_type": "code",
   "execution_count": null,
   "metadata": {
    "execution": {
     "iopub.execute_input": "2022-01-01T15:44:55.365675Z",
     "iopub.status.busy": "2022-01-01T15:44:55.365448Z",
     "iopub.status.idle": "2022-01-01T15:44:55.376484Z",
     "shell.execute_reply": "2022-01-01T15:44:55.375722Z",
     "shell.execute_reply.started": "2022-01-01T15:44:55.365643Z"
    }
   },
   "outputs": [],
   "source": [
    "train_data.shape, train_labels.shape, train_data.dtype, test_data.dtype"
   ]
  },
  {
   "cell_type": "markdown",
   "metadata": {},
   "source": [
    "Before changing our data let's see some examples of it to have better sight of our dataset."
   ]
  },
  {
   "cell_type": "code",
   "execution_count": null,
   "metadata": {
    "execution": {
     "iopub.execute_input": "2022-01-01T15:44:55.796048Z",
     "iopub.status.busy": "2022-01-01T15:44:55.795787Z",
     "iopub.status.idle": "2022-01-01T15:44:56.779037Z",
     "shell.execute_reply": "2022-01-01T15:44:56.778301Z",
     "shell.execute_reply.started": "2022-01-01T15:44:55.796008Z"
    }
   },
   "outputs": [],
   "source": [
    "class_names = ['airplane', 'automobile', 'bird', 'cat', 'deer',\n",
    "               'dog', 'frog', 'horse', 'ship', 'truck']\n",
    "plt.figure(figsize=(10,10))\n",
    "for i in range(25):\n",
    "    plt.subplot(5,5,i+1)\n",
    "    plt.xticks([])\n",
    "    plt.yticks([])\n",
    "    plt.grid(False)\n",
    "    plt.imshow(train_data[i])\n",
    "    # The CIFAR labels happen to be arrays,which is why you need the extra index\n",
    "    plt.xlabel(class_names[train_labels[i][0]])\n",
    "plt.show()"
   ]
  },
  {
   "cell_type": "code",
   "execution_count": null,
   "metadata": {
    "execution": {
     "iopub.execute_input": "2022-01-01T15:44:56.81178Z",
     "iopub.status.busy": "2022-01-01T15:44:56.811568Z",
     "iopub.status.idle": "2022-01-01T15:44:57.070246Z",
     "shell.execute_reply": "2022-01-01T15:44:57.069514Z",
     "shell.execute_reply.started": "2022-01-01T15:44:56.811756Z"
    }
   },
   "outputs": [],
   "source": [
    "train_data = train_data.astype(np.float32)\n",
    "test_data = test_data.astype(np.float32)\n",
    "train_labels = to_categorical(train_labels)\n",
    "test_labels = to_categorical(test_labels)\n",
    "train_data /= 255.\n",
    "test_data /= 255."
   ]
  },
  {
   "cell_type": "code",
   "execution_count": null,
   "metadata": {},
   "outputs": [],
   "source": [
    "print(train_data.shape)\n",
    "print(test_data.shape)"
   ]
  },
  {
   "cell_type": "code",
   "execution_count": null,
   "metadata": {
    "execution": {
     "iopub.execute_input": "2022-01-01T15:45:06.53432Z",
     "iopub.status.busy": "2022-01-01T15:45:06.534063Z",
     "iopub.status.idle": "2022-01-01T15:45:08.893992Z",
     "shell.execute_reply": "2022-01-01T15:45:08.893247Z",
     "shell.execute_reply.started": "2022-01-01T15:45:06.534292Z"
    }
   },
   "outputs": [],
   "source": [
    "inp = Input(shape=(32,32,3))\n",
    "x = Conv2D(filters=32, kernel_size=(3,3),activation='relu', \n",
    "           padding='same')(inp)\n",
    "x = Conv2D(filters=32, kernel_size=(3,3),activation='relu', \n",
    "           padding='same')(x)\n",
    "x = MaxPooling2D(pool_size=2, strides=2,padding='valid')(x)\n",
    "x = Conv2D(filters=64, kernel_size=(3,3),activation='relu', \n",
    "           padding='same')(x)\n",
    "x = Conv2D(filters=64, kernel_size=(3,3),activation='relu', \n",
    "           padding='same')(x)\n",
    "x = MaxPooling2D(pool_size=2, strides=2, padding='valid')(x)\n",
    "x = Flatten()(x)\n",
    "x = Dropout(0.4)(x)\n",
    "x = Dense(units=64, activation='relu')(x)\n",
    "x = Dense(units=10, activation='softmax')(x)\n",
    "model_costume_cnn = Model(inp, x)\n",
    "model_costume_cnn.summary()"
   ]
  },
  {
   "cell_type": "code",
   "execution_count": null,
   "metadata": {
    "execution": {
     "iopub.execute_input": "2022-01-01T15:45:08.896288Z",
     "iopub.status.busy": "2022-01-01T15:45:08.895776Z",
     "iopub.status.idle": "2022-01-01T15:49:32.721574Z",
     "shell.execute_reply": "2022-01-01T15:49:32.720785Z",
     "shell.execute_reply.started": "2022-01-01T15:45:08.89625Z"
    }
   },
   "outputs": [],
   "source": [
    "model_costume_cnn.compile(optimizer='adam', \n",
    "                          loss='categorical_crossentropy', \n",
    "                          metrics=['accuracy'])\n",
    "history_costume_cnn = model_costume_cnn.fit(train_data,train_labels, \n",
    "                batch_size=8, epochs=30, validation_split=0.15)"
   ]
  },
  {
   "cell_type": "code",
   "execution_count": null,
   "metadata": {
    "execution": {
     "iopub.execute_input": "2022-01-01T15:49:48.599951Z",
     "iopub.status.busy": "2022-01-01T15:49:48.599674Z",
     "iopub.status.idle": "2022-01-01T15:49:48.94725Z",
     "shell.execute_reply": "2022-01-01T15:49:48.94657Z",
     "shell.execute_reply.started": "2022-01-01T15:49:48.599923Z"
    }
   },
   "outputs": [],
   "source": [
    "f,ax=plt.subplots(2,1,figsize=(10,10)) \n",
    "\n",
    "#Assigning the first subplot to graph training loss and validation loss\n",
    "ax[0].plot(history_costume_cnn.history['loss'],label='Training Loss')\n",
    "ax[0].plot(history_costume_cnn.history['val_loss'],label='Validation Loss')\n",
    "\n",
    "#Plotting the training accuracy and validation accuracy\n",
    "ax[1].plot(history_costume_cnn.history['accuracy'],label='Training Accuracy')\n",
    "ax[1].plot(history_costume_cnn.history['val_accuracy'],label='Validation Accuracy')\n",
    "\n",
    "plt.legend()"
   ]
  },
  {
   "cell_type": "markdown",
   "metadata": {},
   "source": [
    "As we can see in the plots, our model is overfitted at epoch=10. we can use earlystop in order to prevent this issue but let's use some pretrained model and compare our model to them."
   ]
  },
  {
   "cell_type": "code",
   "execution_count": null,
   "metadata": {},
   "outputs": [],
   "source": []
  },
  {
   "cell_type": "code",
   "execution_count": null,
   "metadata": {},
   "outputs": [],
   "source": []
  },
  {
   "cell_type": "code",
   "execution_count": null,
   "metadata": {},
   "outputs": [],
   "source": []
  },
  {
   "cell_type": "code",
   "execution_count": null,
   "metadata": {},
   "outputs": [],
   "source": []
  },
  {
   "cell_type": "code",
   "execution_count": null,
   "metadata": {},
   "outputs": [],
   "source": []
  },
  {
   "cell_type": "code",
   "execution_count": null,
   "metadata": {},
   "outputs": [],
   "source": []
  },
  {
   "cell_type": "code",
   "execution_count": null,
   "metadata": {},
   "outputs": [],
   "source": []
  },
  {
   "cell_type": "code",
   "execution_count": null,
   "metadata": {},
   "outputs": [],
   "source": []
  },
  {
   "cell_type": "markdown",
   "metadata": {},
   "source": [
    "# ResNet50 with fine tuning\n",
    "we will use resnet50 model without its top and we will freeze the layers wieghts. After training and fitting data our weights would be something reasonable, then we will unfreeze all the weight and fit the data again."
   ]
  },
  {
   "cell_type": "code",
   "execution_count": null,
   "metadata": {
    "execution": {
     "iopub.execute_input": "2022-01-01T15:50:02.716826Z",
     "iopub.status.busy": "2022-01-01T15:50:02.716081Z",
     "iopub.status.idle": "2022-01-01T15:50:03.825827Z",
     "shell.execute_reply": "2022-01-01T15:50:03.825065Z",
     "shell.execute_reply.started": "2022-01-01T15:50:02.716781Z"
    }
   },
   "outputs": [],
   "source": [
    "(train_data, train_labels),(test_data, test_labels) = tf.keras.\n",
    "datasets.cifar10.load_data()\n",
    "train_data = tf.keras.applications.resnet50.preprocess_input(train_data)\n",
    "test_data = tf.keras.applications.resnet50.preprocess_input(test_data)"
   ]
  },
  {
   "cell_type": "code",
   "execution_count": null,
   "metadata": {
    "execution": {
     "iopub.execute_input": "2022-01-01T15:50:03.915646Z",
     "iopub.status.busy": "2022-01-01T15:50:03.915408Z",
     "iopub.status.idle": "2022-01-01T15:50:06.123168Z",
     "shell.execute_reply": "2022-01-01T15:50:06.122396Z",
     "shell.execute_reply.started": "2022-01-01T15:50:03.915618Z"
    }
   },
   "outputs": [],
   "source": [
    "resnet = tf.keras.applications.ResNet50(input_shape=(224,224,3), \n",
    "                include_top=False, weights='imagenet', classes=10)\n",
    "resnet.trainable = False\n",
    "inputs = Input((32,32,3))\n",
    "x = UpSampling2D((7,7))(inputs)\n",
    "x = resnet(x)\n",
    "x = GlobalAveragePooling2D()(x)\n",
    "x = Dropout(0.3)(x)\n",
    "x = Dense(units=128, activation='relu')(x)\n",
    "x = BatchNormalization()(x)\n",
    "output = Dense(units=10,activation = 'softmax')(x)\n",
    "model_resnet = Model(inputs, output)\n",
    "model_resnet.summary()"
   ]
  },
  {
   "cell_type": "code",
   "execution_count": null,
   "metadata": {
    "execution": {
     "iopub.execute_input": "2022-01-01T15:50:08.691926Z",
     "iopub.status.busy": "2022-01-01T15:50:08.691653Z",
     "iopub.status.idle": "2022-01-01T16:09:34.734824Z",
     "shell.execute_reply": "2022-01-01T16:09:34.734046Z",
     "shell.execute_reply.started": "2022-01-01T15:50:08.691898Z"
    }
   },
   "outputs": [],
   "source": [
    "resnet_learning_rate = 0.0001\n",
    "model_resnet.compile(optimizer=Adam(learning_rate=resnet_learning_rate)\n",
    "        ,loss='sparse_categorical_crossentropy',metrics=['accuracy'])\n",
    "savebest = tf.keras.callbacks.ModelCheckpoint(\n",
    "    'resnet_beforefinetuning.h5', save_best_only=True);\n",
    "history_resnet = model_resnet.fit(train_data, train_labels, \n",
    "    batch_size=64, epochs=15, validation_split=0.15, \n",
    "                                  callbacks=[savebest])"
   ]
  },
  {
   "cell_type": "code",
   "execution_count": null,
   "metadata": {
    "execution": {
     "iopub.execute_input": "2022-01-01T16:09:34.737054Z",
     "iopub.status.busy": "2022-01-01T16:09:34.736831Z",
     "iopub.status.idle": "2022-01-01T16:21:32.2535Z",
     "shell.execute_reply": "2022-01-01T16:21:32.252782Z",
     "shell.execute_reply.started": "2022-01-01T16:09:34.737028Z"
    }
   },
   "outputs": [],
   "source": [
    "model_resnet = tf.keras.models.load_model('resnet_beforefinetuning.h5')\n",
    "model_resnet.trainable = True\n",
    "model_resnet.compile(optimizer=RMSprop(\n",
    "    learning_rate=resnet_learning_rate/10),\n",
    "        loss='sparse_categorical_crossentropy',metrics=['accuracy'])\n",
    "history_resnet = model_resnet.fit(train_data, train_labels, \n",
    "                    batch_size=32, epochs=3, validation_split=0.15)"
   ]
  },
  {
   "cell_type": "code",
   "execution_count": null,
   "metadata": {
    "execution": {
     "iopub.execute_input": "2022-01-01T16:22:30.891787Z",
     "iopub.status.busy": "2022-01-01T16:22:30.891346Z",
     "iopub.status.idle": "2022-01-01T16:22:31.403793Z",
     "shell.execute_reply": "2022-01-01T16:22:31.403144Z",
     "shell.execute_reply.started": "2022-01-01T16:22:30.891727Z"
    }
   },
   "outputs": [],
   "source": [
    "f,ax=plt.subplots(2,1,figsize=(10,10)) \n",
    "#Assigning the first subplot to graph training loss and validation loss\n",
    "ax[0].plot(history_resnet.history['loss'],label='Training Loss')\n",
    "ax[0].plot(history_resnet.history['val_loss'],label='Validation Loss')\n",
    "#Plotting the training accuracy and validation accuracy\n",
    "ax[1].plot(history_resnet.history['accuracy'],label='Training Accuracy')\n",
    "ax[1].plot(history_resnet.history['val_accuracy'],label='Validation Accuracy')\n",
    "\n",
    "plt.legend()"
   ]
  },
  {
   "cell_type": "code",
   "execution_count": null,
   "metadata": {
    "execution": {
     "iopub.execute_input": "2022-01-01T16:22:36.584717Z",
     "iopub.status.busy": "2022-01-01T16:22:36.584458Z",
     "iopub.status.idle": "2022-01-01T16:22:57.405316Z",
     "shell.execute_reply": "2022-01-01T16:22:57.404606Z",
     "shell.execute_reply.started": "2022-01-01T16:22:36.584684Z"
    }
   },
   "outputs": [],
   "source": [
    "model_resnet.evaluate(test_data,test_labels)"
   ]
  },
  {
   "cell_type": "markdown",
   "metadata": {},
   "source": [
    "# MobileNetV2 "
   ]
  },
  {
   "cell_type": "code",
   "execution_count": null,
   "metadata": {
    "execution": {
     "iopub.execute_input": "2022-01-01T16:23:04.872661Z",
     "iopub.status.busy": "2022-01-01T16:23:04.872397Z",
     "iopub.status.idle": "2022-01-01T16:23:05.611437Z",
     "shell.execute_reply": "2022-01-01T16:23:05.610703Z",
     "shell.execute_reply.started": "2022-01-01T16:23:04.87263Z"
    }
   },
   "outputs": [],
   "source": [
    "(train_data, train_labels),(test_data, test_labels) = tf.keras.datasets.cifar10.load_data()\n",
    "train_data = tf.keras.applications.mobilenet_v3.preprocess_input(train_data)\n",
    "test_data = tf.keras.applications.mobilenet_v3.preprocess_input(test_data)\n",
    "train_labels = to_categorical(train_labels)\n",
    "test_labels = to_categorical(test_labels)"
   ]
  },
  {
   "cell_type": "code",
   "execution_count": null,
   "metadata": {
    "execution": {
     "iopub.execute_input": "2022-01-01T16:23:08.493926Z",
     "iopub.status.busy": "2022-01-01T16:23:08.493536Z",
     "iopub.status.idle": "2022-01-01T16:23:10.026779Z",
     "shell.execute_reply": "2022-01-01T16:23:10.026082Z",
     "shell.execute_reply.started": "2022-01-01T16:23:08.493886Z"
    }
   },
   "outputs": [],
   "source": [
    "mobilenet = tf.keras.applications.MobileNetV3Small(input_shape=(96,96,3), include_top=False, weights='imagenet', classes=10)\n",
    "mobilenet.trainable = False\n",
    "\n",
    "inputs = Input((32,32,3))\n",
    "\n",
    "x = UpSampling2D((3,3))(inputs)\n",
    "\n",
    "x = mobilenet(x)\n",
    "\n",
    "x = GlobalAveragePooling2D()(x)\n",
    "x = BatchNormalization()(x)\n",
    "x = Dropout(0.4)(x)\n",
    "\n",
    "x = Dense(units=128, activation='relu')(x)\n",
    "x = BatchNormalization()(x)\n",
    "\n",
    "\n",
    "output = Dense(units=10,activation = 'softmax')(x)\n",
    "model_mobilenet = Model(inputs, output)\n",
    "model_mobilenet.summary()"
   ]
  },
  {
   "cell_type": "code",
   "execution_count": null,
   "metadata": {
    "execution": {
     "iopub.execute_input": "2022-01-01T16:24:06.216416Z",
     "iopub.status.busy": "2022-01-01T16:24:06.216159Z",
     "iopub.status.idle": "2022-01-01T16:25:32.004011Z",
     "shell.execute_reply": "2022-01-01T16:25:32.00323Z",
     "shell.execute_reply.started": "2022-01-01T16:24:06.216387Z"
    }
   },
   "outputs": [],
   "source": [
    "model_mobilenet.compile(optimizer='adam',loss='categorical_crossentropy',metrics=['accuracy'])\n",
    "savebest = tf.keras.callbacks.ModelCheckpoint('mobile_beforefinetuning.h5', save_best_only=True)\n",
    "history_mobilenet_1 = model_mobilenet.fit(train_data, train_labels, batch_size=64, epochs=5, validation_split=0.15, callbacks=[savebest])"
   ]
  },
  {
   "cell_type": "code",
   "execution_count": null,
   "metadata": {
    "execution": {
     "iopub.execute_input": "2022-01-01T16:25:39.789545Z",
     "iopub.status.busy": "2022-01-01T16:25:39.78883Z",
     "iopub.status.idle": "2022-01-01T16:42:11.5404Z",
     "shell.execute_reply": "2022-01-01T16:42:11.539619Z",
     "shell.execute_reply.started": "2022-01-01T16:25:39.789483Z"
    }
   },
   "outputs": [],
   "source": [
    "model_mobilenet = tf.keras.models.load_model('mobile_beforefinetuning.h5')\n",
    "model_mobilenet.trainable = True\n",
    "model_mobilenet.compile(optimizer=RMSprop(0.00001),loss='categorical_crossentropy',metrics=['accuracy'])\n",
    "history_mobilenet = model_mobilenet.fit(train_data, train_labels, batch_size=32, epochs=20, validation_split=0.15)"
   ]
  },
  {
   "cell_type": "code",
   "execution_count": null,
   "metadata": {
    "execution": {
     "iopub.execute_input": "2022-01-01T16:44:36.183975Z",
     "iopub.status.busy": "2022-01-01T16:44:36.183705Z",
     "iopub.status.idle": "2022-01-01T16:44:36.541836Z",
     "shell.execute_reply": "2022-01-01T16:44:36.541156Z",
     "shell.execute_reply.started": "2022-01-01T16:44:36.183946Z"
    }
   },
   "outputs": [],
   "source": [
    "f,ax=plt.subplots(2,1,figsize=(10,10)) \n",
    "\n",
    "#Assigning the first subplot to graph training loss and validation loss\n",
    "ax[0].plot(history_mobilenet.history['loss'],label='Training Loss')\n",
    "ax[0].plot(history_mobilenet.history['val_loss'],label='Validation Loss')\n",
    "\n",
    "#Plotting the training accuracy and validation accuracy\n",
    "ax[1].plot(history_mobilenet.history['accuracy'],label='Training Accuracy')\n",
    "ax[1].plot(history_mobilenet.history['val_accuracy'],label='Validation Accuracy')\n",
    "\n",
    "plt.legend()"
   ]
  },
  {
   "cell_type": "markdown",
   "metadata": {},
   "source": [
    "So MobileNetV3 with fine tuning did actually a pretty good job. According to the plot the model is obviously not overfitting and we have solid accuracy of 87%. Let's see if VGG-19 can do a better job!"
   ]
  },
  {
   "cell_type": "markdown",
   "metadata": {},
   "source": [
    "# VGG-19"
   ]
  },
  {
   "cell_type": "code",
   "execution_count": null,
   "metadata": {
    "execution": {
     "iopub.execute_input": "2022-01-01T16:49:02.86051Z",
     "iopub.status.busy": "2022-01-01T16:49:02.860259Z",
     "iopub.status.idle": "2022-01-01T16:49:03.959143Z",
     "shell.execute_reply": "2022-01-01T16:49:03.958395Z",
     "shell.execute_reply.started": "2022-01-01T16:49:02.860481Z"
    }
   },
   "outputs": [],
   "source": [
    "(train_data, train_labels),(test_data, test_labels) = tf.keras.datasets.cifar10.load_data()\n",
    "train_data = tf.keras.applications.vgg19.preprocess_input(train_data)\n",
    "test_data = tf.keras.applications.vgg19.preprocess_input(test_data)\n",
    "train_labels = to_categorical(train_labels)\n",
    "test_labels = to_categorical(test_labels)"
   ]
  },
  {
   "cell_type": "code",
   "execution_count": null,
   "metadata": {
    "execution": {
     "iopub.execute_input": "2022-01-01T16:51:15.249236Z",
     "iopub.status.busy": "2022-01-01T16:51:15.248966Z",
     "iopub.status.idle": "2022-01-01T16:51:15.99803Z",
     "shell.execute_reply": "2022-01-01T16:51:15.997261Z",
     "shell.execute_reply.started": "2022-01-01T16:51:15.249206Z"
    }
   },
   "outputs": [],
   "source": [
    "vgg19 = tf.keras.applications.VGG19(input_shape=(224,224,3), include_top=False, weights='imagenet', classes=10)\n",
    "vgg19.trainable = False\n",
    "\n",
    "inputs = Input((32,32,3))\n",
    "\n",
    "x = UpSampling2D((7,7))(inputs)\n",
    "\n",
    "x = vgg19(x)\n",
    "\n",
    "x = GlobalAveragePooling2D()(x)\n",
    "x = BatchNormalization()(x)\n",
    "x = Dropout(0.3)(x)\n",
    "\n",
    "x = Dense(units=128, activation='relu')(x)\n",
    "x = BatchNormalization()(x)\n",
    "x = Dropout(0.3)(x)\n",
    "\n",
    "output = Dense(units=10,activation = 'softmax')(x)\n",
    "model_vgg19 = Model(inputs, output)\n",
    "model_vgg19.summary()"
   ]
  },
  {
   "cell_type": "code",
   "execution_count": null,
   "metadata": {
    "execution": {
     "iopub.execute_input": "2022-01-01T16:51:28.907301Z",
     "iopub.status.busy": "2022-01-01T16:51:28.90658Z",
     "iopub.status.idle": "2022-01-01T17:20:53.005845Z",
     "shell.execute_reply": "2022-01-01T17:20:53.004998Z",
     "shell.execute_reply.started": "2022-01-01T16:51:28.907262Z"
    }
   },
   "outputs": [],
   "source": [
    "initial_epochs = 17\n",
    "model_vgg19.compile(optimizer=Adam(0.001),loss='categorical_crossentropy',metrics=['accuracy'])\n",
    "savebest = tf.keras.callbacks.ModelCheckpoint('vgg19_beforefinetuning.h5', save_best_only=True)\n",
    "history_vgg19_1 = model_vgg19.fit(train_data, train_labels, batch_size=64, epochs=initial_epochs, validation_split=0.15, callbacks=[savebest])"
   ]
  },
  {
   "cell_type": "code",
   "execution_count": null,
   "metadata": {
    "execution": {
     "iopub.execute_input": "2022-01-01T17:26:36.261201Z",
     "iopub.status.busy": "2022-01-01T17:26:36.260474Z",
     "iopub.status.idle": "2022-01-01T17:55:01.747277Z",
     "shell.execute_reply": "2022-01-01T17:55:01.746489Z",
     "shell.execute_reply.started": "2022-01-01T17:26:36.261164Z"
    }
   },
   "outputs": [],
   "source": [
    "model_vgg19 = tf.keras.models.load_model('vgg19_beforefinetuning.h5')\n",
    "model_vgg19.trainable = True\n",
    "model_vgg19.compile(optimizer=RMSprop(0.00001),loss='categorical_crossentropy',metrics=['accuracy'])\n",
    "history_vgg19 = model_vgg19.fit(train_data, train_labels, batch_size=32, epochs=5, validation_split=0.15)"
   ]
  },
  {
   "cell_type": "code",
   "execution_count": null,
   "metadata": {
    "execution": {
     "iopub.execute_input": "2022-01-01T17:56:33.230477Z",
     "iopub.status.busy": "2022-01-01T17:56:33.229664Z",
     "iopub.status.idle": "2022-01-01T17:56:33.600514Z",
     "shell.execute_reply": "2022-01-01T17:56:33.599883Z",
     "shell.execute_reply.started": "2022-01-01T17:56:33.230439Z"
    }
   },
   "outputs": [],
   "source": [
    "f,ax=plt.subplots(2,1,figsize=(10,10)) \n",
    "\n",
    "#Assigning the first subplot to graph training loss and validation loss\n",
    "ax[0].plot(history_vgg19.history['loss'],label='Training Loss')\n",
    "ax[0].plot(history_vgg19.history['val_loss'],label='Validation Loss')\n",
    "\n",
    "#Plotting the training accuracy and validation accuracy\n",
    "ax[1].plot(history_vgg19.history['accuracy'],label='Training Accuracy')\n",
    "ax[1].plot(history_vgg19.history['val_accuracy'],label='Validation Accuracy')\n",
    "\n",
    "plt.legend()"
   ]
  }
 ],
 "metadata": {
  "kaggle": {
   "accelerator": "gpu",
   "dataSources": [],
   "dockerImageVersionId": 30152,
   "isGpuEnabled": true,
   "isInternetEnabled": false,
   "language": "python",
   "sourceType": "notebook"
  },
  "kernelspec": {
   "display_name": "Python 3",
   "language": "python",
   "name": "python3"
  },
  "language_info": {
   "codemirror_mode": {
    "name": "ipython",
    "version": 3
   },
   "file_extension": ".py",
   "mimetype": "text/x-python",
   "name": "python",
   "nbconvert_exporter": "python",
   "pygments_lexer": "ipython3",
   "version": "3.6.6"
  }
 },
 "nbformat": 4,
 "nbformat_minor": 4
}
