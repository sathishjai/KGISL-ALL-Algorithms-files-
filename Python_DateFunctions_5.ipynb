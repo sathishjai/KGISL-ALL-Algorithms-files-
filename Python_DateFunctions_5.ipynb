{
 "cells": [
  {
   "cell_type": "markdown",
   "id": "dc2101bd",
   "metadata": {},
   "source": [
    "## Date Functions\n",
    "\n",
    "\n",
    "\n",
    "Refer: \n",
    "https://docs.python.org/3/library/datetime.html \n",
    "https://www.geeksforgeeks.org/python-datetime-module/"
   ]
  },
  {
   "cell_type": "code",
   "execution_count": 11,
   "id": "83a4c8c1",
   "metadata": {},
   "outputs": [],
   "source": [
    "import datetime\n",
    "from datetime import date\n",
    "from datetime import time\n",
    "from datetime import tzinfo\n",
    "from datetime import timezone\n",
    "from datetime import timedelta"
   ]
  },
  {
   "cell_type": "raw",
   "id": "96506394",
   "metadata": {},
   "source": [
    "---date – An idealized naive date, assuming the current Gregorian calendar always was, and always will be, in effect. Its attributes are year, month, and day. \n",
    "\n",
    "---time – An idealized time, independent of any particular day, assuming that every day has exactly 24*60*60 seconds. Its attributes are hour, minute, second, microsecond, and tzinfo. \n",
    "\n",
    "---date-time – It is a combination of date and time along with the attributes year, month, day, hour, minute, second, microsecond, and tzinfo. \n",
    "\n",
    "---timedelta – A duration expressing the difference between two date, time, or datetime instances to microsecond resolution. \n",
    "\n",
    "---tzinfo – It provides time zone information objects. \n",
    "\n",
    "---timezone – A class that implements the tzinfo abstract base class as a fixed offset from the UTC. "
   ]
  },
  {
   "cell_type": "raw",
   "id": "d737eb8e",
   "metadata": {},
   "source": [
    "MAJOR DIFFERENCE BETWEEN DATETIME AND TIMEDELTA:\n",
    "\n",
    "datetime object:\n",
    "\n",
    "- Represents a specific date and time.\n",
    "- Contains attributes like year, month, day, hour, minute, second, microsecond.\n",
    "- Supports various operations for comparison, formatting, and arithmetic with other datetime objects and timedelta objects.\n",
    "\n",
    "timedelta object:\n",
    "\n",
    "- Represents a duration of time.\n",
    "- It doesn't represent a specific date or time; instead, it represents a difference in time, like \"5 days,\" \"3 hours,\" etc.\n",
    "- When you perform arithmetic operations with datetime objects, the result is often a timedelta object.\n",
    "- Contains attributes like days, seconds, microseconds."
   ]
  },
  {
   "cell_type": "raw",
   "id": "773f7df6",
   "metadata": {},
   "source": [
    "MAJOR DIFFERENCE BETWEEN tzinfo AND timezone:\n",
    "\n",
    "tzinfo:\n",
    "\n",
    "- Abstract Base Class: tzinfo is an abstract base class provided by the datetime module for implementing time zone support in Python.\n",
    "- Customization: It allows you to create custom time zone classes by subclassing tzinfo and implementing methods like utcoffset(), tzname(), and dst().\n",
    "\n",
    "timezone:\n",
    "\n",
    "- Concrete Implementation: timezone is a concrete implementation of the tzinfo class provided by Python's standard library (since Python 3.2).\n",
    "- Fixed Offset: It represents a fixed offset from UTC (Coordinated Universal Time) without considering daylight saving time adjustments, making it suitable for representing time zones with constant offsets."
   ]
  },
  {
   "cell_type": "code",
   "execution_count": 12,
   "id": "73189469",
   "metadata": {},
   "outputs": [
    {
     "name": "stdout",
     "output_type": "stream",
     "text": [
      "<class 'datetime.tzinfo'>\n",
      "<class 'datetime.time'>\n",
      "<class 'datetime.date'>\n",
      "<class 'datetime.timedelta'>\n",
      "<class 'datetime.timezone'>\n",
      "1\n",
      "9999\n"
     ]
    }
   ],
   "source": [
    "print(datetime.tzinfo)\n",
    "print(datetime.time)\n",
    "print(datetime.date)\n",
    "print(datetime.timedelta)\n",
    "print(datetime.timezone)\n",
    "print(datetime.MINYEAR)\n",
    "print(datetime.MAXYEAR)"
   ]
  },
  {
   "cell_type": "code",
   "execution_count": 16,
   "id": "0413bcfc",
   "metadata": {},
   "outputs": [
    {
     "name": "stdout",
     "output_type": "stream",
     "text": [
      "Current year: 2024\n",
      "Current month: 4\n",
      "Current day: 27\n"
     ]
    }
   ],
   "source": [
    "today = date.today() \n",
    " \n",
    "print(\"Current year:\", today.year)\n",
    "print(\"Current month:\", today.month)\n",
    "print(\"Current day:\", today.day)"
   ]
  },
  {
   "cell_type": "code",
   "execution_count": 15,
   "id": "ce4c828f",
   "metadata": {},
   "outputs": [
    {
     "name": "stdout",
     "output_type": "stream",
     "text": [
      "Date passed as argument is 1992-09-09\n"
     ]
    }
   ],
   "source": [
    "my_date = date(1992, 9, 9)\n",
    " \n",
    "print(\"Date passed as argument is\", my_date)"
   ]
  },
  {
   "cell_type": "code",
   "execution_count": 46,
   "id": "3fda171d",
   "metadata": {},
   "outputs": [
    {
     "name": "stdout",
     "output_type": "stream",
     "text": [
      "Datetime from timestamp: 2029-10-25 21:47:47\n"
     ]
    }
   ],
   "source": [
    "from datetime import datetime\n",
    " \n",
    "# Getting Datetime from timestamp\n",
    "\n",
    "date_time = datetime.fromtimestamp(1887639467)\n",
    "print(\"Datetime from timestamp:\", date_time)"
   ]
  },
  {
   "cell_type": "code",
   "execution_count": 19,
   "id": "54b650f3",
   "metadata": {},
   "outputs": [
    {
     "name": "stdout",
     "output_type": "stream",
     "text": [
      "String Representation 2024-04-27\n",
      "<class 'str'>\n"
     ]
    }
   ],
   "source": [
    "# Converting the date to the string\n",
    "\n",
    "string = date.isoformat(today)\n",
    "print(\"String Representation\", string)\n",
    "print(type(string))"
   ]
  },
  {
   "cell_type": "code",
   "execution_count": 25,
   "id": "6a3d759c",
   "metadata": {},
   "outputs": [
    {
     "name": "stdout",
     "output_type": "stream",
     "text": [
      "Entered time 13:24:56\n",
      "\n",
      "Time with one argument 00:12:00\n",
      "\n",
      "Time without argument 00:00:00\n",
      "12:00:00\n"
     ]
    }
   ],
   "source": [
    "from datetime import time\n",
    " \n",
    "# calling the constructor\n",
    "\n",
    "my_time = time(13, 24, 56)\n",
    " \n",
    "print(\"Entered time\", my_time)\n",
    " \n",
    "# calling constructor with 1 argument\n",
    "\n",
    "my_time = time(minute=12)\n",
    "\n",
    "print(\"\\nTime with one argument\", my_time)\n",
    " \n",
    "# Calling constructor with 0 argument\n",
    "\n",
    "my_time = time()\n",
    "\n",
    "print(\"\\nTime without argument\", my_time)\n",
    " \n",
    "print(time(hour=12))\n",
    "\n",
    "# print(time(hour=28))\n",
    "# print(time(hour='28'))"
   ]
  },
  {
   "cell_type": "code",
   "execution_count": 26,
   "id": "5ec26086",
   "metadata": {},
   "outputs": [
    {
     "name": "stdout",
     "output_type": "stream",
     "text": [
      "hour = 11\n",
      "minute = 34\n",
      "second = 56\n",
      "microsecond = 0\n"
     ]
    }
   ],
   "source": [
    "from datetime import time\n",
    " \n",
    "Time = time(11, 34, 56)\n",
    " \n",
    "print(\"hour =\", Time.hour)\n",
    "print(\"minute =\", Time.minute)\n",
    "print(\"second =\", Time.second)\n",
    "print(\"microsecond =\", Time.microsecond)"
   ]
  },
  {
   "cell_type": "code",
   "execution_count": 27,
   "id": "c01d91ef",
   "metadata": {},
   "outputs": [
    {
     "name": "stdout",
     "output_type": "stream",
     "text": [
      "String Representation: 11:34:56\n",
      "<class 'str'>\n"
     ]
    }
   ],
   "source": [
    "string = Time.isoformat()\n",
    "print(\"String Representation:\", string)\n",
    "print(type(string))"
   ]
  },
  {
   "cell_type": "code",
   "execution_count": 28,
   "id": "22ac6a2b",
   "metadata": {},
   "outputs": [
    {
     "name": "stdout",
     "output_type": "stream",
     "text": [
      "1999-12-12 00:00:00\n",
      "1999-12-12 12:12:12.342380\n"
     ]
    }
   ],
   "source": [
    "from datetime import datetime\n",
    " \n",
    "# Initializing constructor\n",
    "\n",
    "a = datetime(1999, 12, 12)\n",
    "print(a)\n",
    " \n",
    "# Initializing constructor with time parameters as well\n",
    "\n",
    "a = datetime(1999, 12, 12, 12, 12, 12, 342380)\n",
    "print(a)"
   ]
  },
  {
   "cell_type": "code",
   "execution_count": 29,
   "id": "963bb2bb",
   "metadata": {},
   "outputs": [
    {
     "name": "stdout",
     "output_type": "stream",
     "text": [
      "year = 1999\n",
      "month = 12\n",
      "hour = 12\n",
      "minute = 12\n",
      "timestamp = 944980932.34238\n"
     ]
    }
   ],
   "source": [
    "print(\"year =\", a.year)\n",
    "print(\"month =\", a.month)\n",
    "print(\"hour =\", a.hour)\n",
    "print(\"minute =\", a.minute)\n",
    "print(\"timestamp =\", a.timestamp())"
   ]
  },
  {
   "cell_type": "code",
   "execution_count": 30,
   "id": "3b615e69",
   "metadata": {},
   "outputs": [
    {
     "name": "stdout",
     "output_type": "stream",
     "text": [
      "Current date and time is 2024-04-27 11:05:01.334639\n"
     ]
    }
   ],
   "source": [
    "today = datetime.now()\n",
    " \n",
    "print(\"Current date and time is\", today)"
   ]
  },
  {
   "cell_type": "code",
   "execution_count": 31,
   "id": "89caed03",
   "metadata": {},
   "outputs": [
    {
     "name": "stdout",
     "output_type": "stream",
     "text": [
      "2024-04-27T11:05:21.787160\n",
      "<class 'str'>\n"
     ]
    }
   ],
   "source": [
    "from datetime import datetime as dt\n",
    " \n",
    "# Getting current date and time\n",
    "\n",
    "now = dt.now()\n",
    " \n",
    "string = dt.isoformat(now)\n",
    "print(string)\n",
    "print(type(string))"
   ]
  },
  {
   "cell_type": "code",
   "execution_count": 32,
   "id": "92fb548a",
   "metadata": {},
   "outputs": [
    {
     "name": "stdout",
     "output_type": "stream",
     "text": [
      "The difference between the two dates is: 15 days, 0:00:00\n"
     ]
    }
   ],
   "source": [
    "# To find difference (in days) between two dates\n",
    "\n",
    "from datetime import datetime\n",
    "\n",
    "date1 = datetime(2024, 4, 30)  # First date\n",
    "date2 = datetime(2024, 4, 15)  # Second date\n",
    "\n",
    "difference = date1 - date2  # Subtract the two dates\n",
    "\n",
    "print(\"The difference between the two dates is:\", difference)"
   ]
  },
  {
   "cell_type": "code",
   "execution_count": 35,
   "id": "794f4a66",
   "metadata": {},
   "outputs": [
    {
     "name": "stdout",
     "output_type": "stream",
     "text": [
      "There are 129 days, 0:00:00 days to my birthday\n"
     ]
    }
   ],
   "source": [
    "# To find how many days to my birthday from today\n",
    "\n",
    "Birthday = date(2024, 9, 6)\n",
    "today = date.today()\n",
    "\n",
    "diff = Birthday - today\n",
    "print(f\"There are {diff} days to my birthday\")"
   ]
  },
  {
   "cell_type": "code",
   "execution_count": 36,
   "id": "f3473049",
   "metadata": {},
   "outputs": [
    {
     "name": "stdout",
     "output_type": "stream",
     "text": [
      "date1 is before date2\n"
     ]
    }
   ],
   "source": [
    "# We can compare 2 dates\n",
    "\n",
    "date1 = datetime(2024, 4, 30)\n",
    "date2 = datetime(2024, 5, 15)\n",
    "\n",
    "if date1 < date2:\n",
    "    print(\"date1 is before date2\")\n",
    "elif date1 > date2:\n",
    "    print(\"date1 is after date2\")\n",
    "else:\n",
    "    print(\"date1 is equal to date2\")"
   ]
  },
  {
   "cell_type": "code",
   "execution_count": 38,
   "id": "86caabd1",
   "metadata": {},
   "outputs": [
    {
     "name": "stdout",
     "output_type": "stream",
     "text": [
      "2024-05-07 11:11:40.998735\n",
      "2024-04-27 11:11:40.998735\n"
     ]
    }
   ],
   "source": [
    "# We can add or subtract time from a datetime object using timedelta.\n",
    "\n",
    "from datetime import timedelta\n",
    "\n",
    "current_time = datetime.now()\n",
    "one_week_later = current_time + timedelta(weeks=1)\n",
    "three_days_ago = current_time - timedelta(days=3)\n",
    "\n",
    "print(one_week_later)\n",
    "print(three_days_ago)"
   ]
  },
  {
   "cell_type": "code",
   "execution_count": 43,
   "id": "04051c94",
   "metadata": {},
   "outputs": [
    {
     "name": "stdout",
     "output_type": "stream",
     "text": [
      "Current date and time: 2024-04-30 11:13:34.949563\n",
      "<class 'datetime.datetime'>\n",
      "Formatted date with time: 2024-04-30 11:13:34\n",
      "<class 'str'>\n"
     ]
    }
   ],
   "source": [
    "# Format datetime objects into date strings using strftime\n",
    "\n",
    "from datetime import datetime\n",
    "\n",
    "now = datetime.now()\n",
    "print(\"Current date and time:\",now)\n",
    "print(type(now))\n",
    "formatted_date = now.strftime(\"%Y-%m-%d %H:%M:%S\")\n",
    "print(\"Formatted date with time:\", formatted_date)\n",
    "print(type(formatted_date))"
   ]
  },
  {
   "cell_type": "code",
   "execution_count": 44,
   "id": "e93c947c",
   "metadata": {},
   "outputs": [
    {
     "name": "stdout",
     "output_type": "stream",
     "text": [
      "Parsed date: 2024-04-30 00:00:00\n"
     ]
    }
   ],
   "source": [
    "# We can parse date strings into datetime objects using strptime\n",
    "\n",
    "date_string = \"2024-04-30\"\n",
    "date_object = datetime.strptime(date_string, \"%Y-%m-%d\")\n",
    "print(\"Parsed date:\", date_object)"
   ]
  },
  {
   "cell_type": "markdown",
   "id": "35d739a6",
   "metadata": {},
   "source": [
    "## a. Convert String to Datetime Object: "
   ]
  },
  {
   "cell_type": "code",
   "execution_count": 67,
   "id": "7d21f553",
   "metadata": {},
   "outputs": [
    {
     "name": "stdout",
     "output_type": "stream",
     "text": [
      "Datetime object: 2024-04-30 00:00:00\n"
     ]
    }
   ],
   "source": [
    "date_string = \"2024-04-30\"\n",
    "date_object = datetime.datetime.strptime(date_string, \"%Y-%m-%d\")\n",
    "print(\"Datetime object:\", date_object)"
   ]
  },
  {
   "cell_type": "markdown",
   "id": "faf2ed9f",
   "metadata": {},
   "source": [
    "## b. Convert Datetime Object to String:"
   ]
  },
  {
   "cell_type": "code",
   "execution_count": 68,
   "id": "a74d9c0a",
   "metadata": {},
   "outputs": [
    {
     "name": "stdout",
     "output_type": "stream",
     "text": [
      "Date string: 2024-04-30\n"
     ]
    }
   ],
   "source": [
    "date_object = datetime.datetime(2024, 4, 30)\n",
    "date_string = date_object.strftime(\"%Y-%m-%d\")\n",
    "print(\"Date string:\", date_string)"
   ]
  },
  {
   "cell_type": "markdown",
   "id": "d2a27507",
   "metadata": {},
   "source": [
    "## c. Convert String to Date Object:"
   ]
  },
  {
   "cell_type": "code",
   "execution_count": 69,
   "id": "60cf207c",
   "metadata": {},
   "outputs": [
    {
     "name": "stdout",
     "output_type": "stream",
     "text": [
      "Date object: 2024-04-30\n"
     ]
    }
   ],
   "source": [
    "date_string = \"2024-04-30\"\n",
    "date_object = datetime.datetime.strptime(date_string, \"%Y-%m-%d\").date()\n",
    "print(\"Date object:\", date_object)"
   ]
  },
  {
   "cell_type": "markdown",
   "id": "730178eb",
   "metadata": {},
   "source": [
    "## d. Convert Date Object to String:"
   ]
  },
  {
   "cell_type": "code",
   "execution_count": 70,
   "id": "edaeea22",
   "metadata": {},
   "outputs": [
    {
     "name": "stdout",
     "output_type": "stream",
     "text": [
      "Date string: 2024-04-30\n"
     ]
    }
   ],
   "source": [
    "date_object = datetime.date(2024, 4, 30)\n",
    "date_string = date_object.strftime(\"%Y-%m-%d\")\n",
    "print(\"Date string:\", date_string)"
   ]
  },
  {
   "cell_type": "markdown",
   "id": "30530b2e",
   "metadata": {},
   "source": [
    "## e. Convert String in One Format to Another Format:"
   ]
  },
  {
   "cell_type": "code",
   "execution_count": 71,
   "id": "ba590caf",
   "metadata": {},
   "outputs": [
    {
     "name": "stdout",
     "output_type": "stream",
     "text": [
      "New date string: 2024-04-30\n"
     ]
    }
   ],
   "source": [
    "date_string = \"30-04-2024\"\n",
    "date_object = datetime.datetime.strptime(date_string, \"%d-%m-%Y\")\n",
    "new_date_string = date_object.strftime(\"%Y-%m-%d\")\n",
    "print(\"New date string:\", new_date_string)"
   ]
  },
  {
   "cell_type": "markdown",
   "id": "639051e9",
   "metadata": {},
   "source": [
    "## f. Convert Date Object to Timestamp:"
   ]
  },
  {
   "cell_type": "code",
   "execution_count": 73,
   "id": "f52c0ad4",
   "metadata": {},
   "outputs": [
    {
     "name": "stdout",
     "output_type": "stream",
     "text": [
      "Timestamp: 1714415400.0\n"
     ]
    }
   ],
   "source": [
    "date_object = datetime.date(2024, 4, 30)\n",
    "midnight = datetime.time()\n",
    "datetime_object = datetime.datetime.combine(date_object, midnight)\n",
    "timestamp = datetime_object.timestamp()\n",
    "\n",
    "print(\"Timestamp:\", timestamp)"
   ]
  },
  {
   "cell_type": "markdown",
   "id": "8ac2d10f",
   "metadata": {},
   "source": [
    "## g. Convert Timestamp to Datetime Object:"
   ]
  },
  {
   "cell_type": "code",
   "execution_count": 74,
   "id": "0bfd539a",
   "metadata": {},
   "outputs": [
    {
     "name": "stdout",
     "output_type": "stream",
     "text": [
      "Datetime object: 2023-06-07 13:30:00\n"
     ]
    }
   ],
   "source": [
    "timestamp = 1686124800  # Example timestamp\n",
    "date_object = datetime.datetime.fromtimestamp(timestamp)\n",
    "print(\"Datetime object:\", date_object)"
   ]
  },
  {
   "cell_type": "markdown",
   "id": "0cf6979f",
   "metadata": {},
   "source": [
    "## 1. Calculate Age: Write a Python function that takes a birth date as input and returns the age of the person in years."
   ]
  },
  {
   "cell_type": "code",
   "execution_count": 47,
   "id": "025d1200",
   "metadata": {},
   "outputs": [
    {
     "name": "stdout",
     "output_type": "stream",
     "text": [
      "Age: 33\n"
     ]
    }
   ],
   "source": [
    "def calculate_age(birth_date):\n",
    "    today = datetime.date.today()\n",
    "    \n",
    "    # (today.month, today.day) < (birth_date.month, birth_date.day) returns 1 if condition is true, otherwise returns 0 \n",
    "    age = today.year - birth_date.year - ((today.month, today.day) < (birth_date.month, birth_date.day))\n",
    "    \n",
    "    return age\n",
    "\n",
    "birth_date = datetime.date(1990, 5, 15)\n",
    "print(\"Age:\", calculate_age(birth_date))"
   ]
  },
  {
   "cell_type": "markdown",
   "id": "538199d1",
   "metadata": {},
   "source": [
    "## 2. Day of the Week: Write a Python function that takes a date as input and returns the corresponding day of the week (e.g., Monday, Tuesday, etc.)."
   ]
  },
  {
   "cell_type": "code",
   "execution_count": 49,
   "id": "dac8b6f2",
   "metadata": {},
   "outputs": [
    {
     "name": "stdout",
     "output_type": "stream",
     "text": [
      "1\n",
      "Day of the week: Tuesday\n"
     ]
    }
   ],
   "source": [
    "def get_day_of_week(date):\n",
    "    days_of_week = ['Monday', 'Tuesday', 'Wednesday', 'Thursday', 'Friday', 'Saturday', 'Sunday']\n",
    "    \n",
    "    # date.weekday() returns 0 to 1 for Monday to Sunday\n",
    "    print(date.weekday())\n",
    "    \n",
    "    return days_of_week[date.weekday()]\n",
    "\n",
    "date = datetime.date(2024, 4, 30)\n",
    "print(\"Day of the week:\", get_day_of_week(date))"
   ]
  },
  {
   "cell_type": "markdown",
   "id": "c26be111",
   "metadata": {},
   "source": [
    "## 3. Work Days Count: Write a Python function that takes two dates as input (start date and end date) and returns the number of workdays (excluding weekends) between them."
   ]
  },
  {
   "cell_type": "code",
   "execution_count": 52,
   "id": "9281b2d4",
   "metadata": {},
   "outputs": [
    {
     "name": "stdout",
     "output_type": "stream",
     "text": [
      "Workdays count: 22\n"
     ]
    }
   ],
   "source": [
    "def work_days_count(start_date, end_date):\n",
    "    \n",
    "    # add 1 day extra to cover the end date also\n",
    "    days_count = (end_date - start_date).days + 1\n",
    "    \n",
    "    # date.weekday() returns 0 to 1 for Monday to Sunday, thus 6 and 7 represent weekends which we have to count\n",
    "    weekends_count = sum((start_date + datetime.timedelta(days=i)).weekday() >= 5 for i in range(days_count))\n",
    "    \n",
    "    return days_count - weekends_count\n",
    "\n",
    "start_date = datetime.date(2024, 4, 1)\n",
    "end_date = datetime.date(2024, 4, 30)\n",
    "print(\"Workdays count:\", work_days_count(start_date, end_date))"
   ]
  },
  {
   "cell_type": "markdown",
   "id": "7b2da1fe",
   "metadata": {},
   "source": [
    "## 4. Leap Year Check: Write a Python function that takes a year as input and returns True if it's a leap year, and False otherwise."
   ]
  },
  {
   "cell_type": "code",
   "execution_count": 53,
   "id": "7b0f1699",
   "metadata": {},
   "outputs": [
    {
     "name": "stdout",
     "output_type": "stream",
     "text": [
      "Is leap year? True\n"
     ]
    }
   ],
   "source": [
    "def is_leap_year(year):\n",
    "    if (year % 4 == 0 and year % 100 != 0) or (year % 400 == 0):\n",
    "        return True\n",
    "    else:\n",
    "        return False\n",
    "\n",
    "year = 2024\n",
    "print(\"Is leap year?\", is_leap_year(year))"
   ]
  },
  {
   "cell_type": "markdown",
   "id": "fb04e6d7",
   "metadata": {},
   "source": [
    "## 5. Next Friday the 13th: Write a Python function that takes a year as input and returns the next Friday the 13th date in that year."
   ]
  },
  {
   "cell_type": "code",
   "execution_count": 57,
   "id": "1a4f0518",
   "metadata": {},
   "outputs": [
    {
     "name": "stdout",
     "output_type": "stream",
     "text": [
      "Next Friday the 13th: 2024-09-13\n"
     ]
    }
   ],
   "source": [
    "def next_friday_13th(year):\n",
    "    date = datetime.date(year, 1, 1)\n",
    "    while date.weekday() != 4 or date.day != 13:\n",
    "        date += datetime.timedelta(days=1)\n",
    "    return date\n",
    "\n",
    "year = 2024\n",
    "print(\"Next Friday the 13th:\", next_friday_13th(year))"
   ]
  },
  {
   "cell_type": "markdown",
   "id": "36c9c462",
   "metadata": {},
   "source": [
    "## 6. Business Hours Check: Write a Python function that takes a datetime object as input and returns True if it falls within business hours (e.g., 9 AM to 5 PM), and False otherwise."
   ]
  },
  {
   "cell_type": "code",
   "execution_count": 58,
   "id": "86dc8c7e",
   "metadata": {},
   "outputs": [
    {
     "name": "stdout",
     "output_type": "stream",
     "text": [
      "Is within business hours? True\n"
     ]
    }
   ],
   "source": [
    "def is_business_hours(datetime_obj):\n",
    "    return datetime_obj.hour >= 9 and datetime_obj.hour < 17\n",
    "\n",
    "datetime_obj = datetime.datetime(2024, 4, 30, 10, 30)  # 10:30 AM\n",
    "print(\"Is within business hours?\", is_business_hours(datetime_obj))"
   ]
  },
  {
   "cell_type": "markdown",
   "id": "b94f6579",
   "metadata": {},
   "source": [
    "## 7. Easter Date Calculation: Write a Python function that takes a year as input and returns the date of Easter Sunday in that year, according to the Gregorian calendar."
   ]
  },
  {
   "cell_type": "code",
   "execution_count": 60,
   "id": "4c5ee4fe",
   "metadata": {},
   "outputs": [
    {
     "name": "stdout",
     "output_type": "stream",
     "text": [
      "Easter date: 2024-03-31\n"
     ]
    }
   ],
   "source": [
    "def easter_date(year):\n",
    "    a = year % 19\n",
    "    b = year // 100\n",
    "    c = year % 100\n",
    "    d = b // 4\n",
    "    e = b % 4\n",
    "    f = (b + 8) // 25\n",
    "    g = (b - f + 1) // 3\n",
    "    h = (19 * a + b - d - g + 15) % 30\n",
    "    i = c // 4\n",
    "    k = c % 4\n",
    "    l = (32 + 2 * e + 2 * i - h - k) % 7\n",
    "    m = (a + 11 * h + 22 * l) // 451\n",
    "    month = (h + l - 7 * m + 114) // 31\n",
    "    day = ((h + l - 7 * m + 114) % 31) + 1\n",
    "    return datetime.date(year, month, day)\n",
    "\n",
    "year = 2024\n",
    "print(\"Easter date:\", easter_date(year))"
   ]
  },
  {
   "cell_type": "markdown",
   "id": "e4b3fff1",
   "metadata": {},
   "source": [
    "## 8. Quarter Calculation: Write a Python function that takes a date as input and returns the corresponding quarter of the year (e.g., Q1 for January to March, Q2 for April to June, etc.)."
   ]
  },
  {
   "cell_type": "code",
   "execution_count": 61,
   "id": "01f0ea21",
   "metadata": {},
   "outputs": [
    {
     "name": "stdout",
     "output_type": "stream",
     "text": [
      "Quarter: Q2\n"
     ]
    }
   ],
   "source": [
    "def get_quarter(date):\n",
    "    quarters = {1: 'Q1', 2: 'Q1', 3: 'Q1', 4: 'Q2', 5: 'Q2', 6: 'Q2', 7: 'Q3', 8: 'Q3', 9: 'Q3', \n",
    "                10: 'Q4', 11: 'Q4', 12: 'Q4'}\n",
    "    return quarters[date.month]\n",
    "\n",
    "date = datetime.date(2024, 5, 15)\n",
    "print(\"Quarter:\", get_quarter(date))"
   ]
  },
  {
   "cell_type": "markdown",
   "id": "445d5e7e",
   "metadata": {},
   "source": [
    "## 9. Holiday Check: Write a Python function that takes a date as input and returns True if it's a public holiday, and False otherwise. You can use a predefined list of public holidays for your country."
   ]
  },
  {
   "cell_type": "code",
   "execution_count": 63,
   "id": "7a586d97",
   "metadata": {},
   "outputs": [
    {
     "name": "stdout",
     "output_type": "stream",
     "text": [
      "Is public holiday? True\n"
     ]
    }
   ],
   "source": [
    "def is_public_holiday(date):\n",
    "    # Assuming a list of public holidays for a specific country\n",
    "    public_holidays = [datetime.date(2024, 1, 1), datetime.date(2024, 12, 25)]\n",
    "    return date in public_holidays\n",
    "\n",
    "date = datetime.date(2024, 1, 1)\n",
    "print(\"Is public holiday?\", is_public_holiday(date))"
   ]
  },
  {
   "cell_type": "markdown",
   "id": "f09bf795",
   "metadata": {},
   "source": [
    "## 10. Age Group Classification: Write a Python function that takes a birth date as input and returns the age group of the person (e.g., child, teenager, adult, senior) based on their age."
   ]
  },
  {
   "cell_type": "code",
   "execution_count": 64,
   "id": "7b3e3e90",
   "metadata": {},
   "outputs": [
    {
     "name": "stdout",
     "output_type": "stream",
     "text": [
      "Age group: Adult\n"
     ]
    }
   ],
   "source": [
    "def age_group(birth_date):\n",
    "    age = calculate_age(birth_date)\n",
    "    if age < 18:\n",
    "        return \"Child\"\n",
    "    elif 18 <= age < 65:\n",
    "        return \"Adult\"\n",
    "    else:\n",
    "        return \"Senior\"\n",
    "\n",
    "birth_date = datetime.date(1990, 5, 15)\n",
    "print(\"Age group:\", age_group(birth_date))"
   ]
  },
  {
   "cell_type": "code",
   "execution_count": null,
   "id": "a173d17a",
   "metadata": {},
   "outputs": [],
   "source": []
  }
 ],
 "metadata": {
  "kernelspec": {
   "display_name": "Python 3 (ipykernel)",
   "language": "python",
   "name": "python3"
  },
  "language_info": {
   "codemirror_mode": {
    "name": "ipython",
    "version": 3
   },
   "file_extension": ".py",
   "mimetype": "text/x-python",
   "name": "python",
   "nbconvert_exporter": "python",
   "pygments_lexer": "ipython3",
   "version": "3.9.7"
  }
 },
 "nbformat": 4,
 "nbformat_minor": 5
}
