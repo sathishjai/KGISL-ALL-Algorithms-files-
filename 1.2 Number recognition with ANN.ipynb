{
 "cells": [
  {
   "cell_type": "markdown",
   "metadata": {
    "id": "rRC9b1SznzgZ"
   },
   "source": [
    "# Digit Recognition with Artificial Neural Networks\n",
    "\n",
    "<p>\n",
    "<ol>\n",
    "<li>Business Problem Understanding</li>\n",
    "<li>Data Understanding</li>\n",
    "<li>Data Preparation</li>\n",
    "<li>Modeling</li>\n",
    "<li>Evaluation</li>\n",
    "</ol>\n",
    "</p>"
   ]
  },
  {
   "cell_type": "markdown",
   "metadata": {
    "id": "xcsEMRshqJle"
   },
   "source": [
    "# Business Problem Understanding\n",
    "\n",
    "<p>The problem To correctly recognize and classify handwritten digits.</p>\n",
    "\n",
    "![mnist](https://storage.googleapis.com/khanhlvg-public.appspot.com/digit-classifier/mnist.png)"
   ]
  },
  {
   "cell_type": "markdown",
   "metadata": {
    "id": "Bfm3Fw_-rz9a"
   },
   "source": [
    "# Data Understanding"
   ]
  },
  {
   "cell_type": "code",
   "execution_count": 1,
   "metadata": {
    "execution": {
     "iopub.execute_input": "2024-07-26T12:33:44.24412Z",
     "iopub.status.busy": "2024-07-26T12:33:44.243615Z",
     "iopub.status.idle": "2024-07-26T12:33:48.904164Z",
     "shell.execute_reply": "2024-07-26T12:33:48.902866Z",
     "shell.execute_reply.started": "2024-07-26T12:33:44.244071Z"
    },
    "id": "WywyWq6hsATX"
   },
   "outputs": [],
   "source": [
    "import tensorflow as tf\n",
    "from tensorflow.keras.datasets import mnist\n",
    "from tensorflow.keras.models import load_model, Sequential\n",
    "from tensorflow.keras.layers import Dense, Flatten\n",
    "from tensorflow.keras.utils import to_categorical, plot_model\n",
    "import matplotlib.pyplot as plt\n",
    "import numpy as np\n",
    "import seaborn as sns\n",
    "from sklearn.metrics import confusion_matrix, classification_report\n",
    "from warnings import filterwarnings\n",
    "filterwarnings(\"ignore\")"
   ]
  },
  {
   "cell_type": "code",
   "execution_count": 2,
   "metadata": {
    "collapsed": true,
    "execution": {
     "iopub.execute_input": "2024-07-26T12:33:48.911192Z",
     "iopub.status.busy": "2024-07-26T12:33:48.910854Z",
     "iopub.status.idle": "2024-07-26T12:33:49.230214Z",
     "shell.execute_reply": "2024-07-26T12:33:49.228902Z",
     "shell.execute_reply.started": "2024-07-26T12:33:48.911157Z"
    },
    "id": "UecxtKJ3oNVN"
   },
   "outputs": [
    {
     "name": "stdout",
     "output_type": "stream",
     "text": [
      "Training Set Size:  (60000, 28, 28) (60000,)\n",
      "Test Set Size:  (10000, 28, 28) (10000,)\n"
     ]
    }
   ],
   "source": [
    "# Loading the Mnist dataset\n",
    "(X_train, y_train), (X_test, y_test) = mnist.load_data()\n",
    "print(\"Training Set Size: \", X_train.shape, y_train.shape)\n",
    "print(\"Test Set Size: \", X_test.shape, y_test.shape)"
   ]
  },
  {
   "cell_type": "code",
   "execution_count": 3,
   "metadata": {
    "execution": {
     "iopub.execute_input": "2024-07-26T12:33:49.253526Z",
     "iopub.status.busy": "2024-07-26T12:33:49.253175Z",
     "iopub.status.idle": "2024-07-26T12:33:49.270879Z",
     "shell.execute_reply": "2024-07-26T12:33:49.26961Z",
     "shell.execute_reply.started": "2024-07-26T12:33:49.253491Z"
    },
    "id": "eQ4DRUI0uCm4",
    "outputId": "04d59304-e5f3-4585-f175-422536408aec"
   },
   "outputs": [
    {
     "data": {
      "text/plain": [
       "10"
      ]
     },
     "execution_count": 3,
     "metadata": {},
     "output_type": "execute_result"
    }
   ],
   "source": [
    "# Number of classes\n",
    "num_labels = len(np.unique(y_train))\n",
    "num_labels"
   ]
  },
  {
   "cell_type": "code",
   "execution_count": 4,
   "metadata": {
    "collapsed": true,
    "execution": {
     "iopub.execute_input": "2024-07-26T12:33:49.27279Z",
     "iopub.status.busy": "2024-07-26T12:33:49.272348Z",
     "iopub.status.idle": "2024-07-26T12:33:49.537568Z",
     "shell.execute_reply": "2024-07-26T12:33:49.536447Z",
     "shell.execute_reply.started": "2024-07-26T12:33:49.27275Z"
    },
    "id": "2-XA1xMJuaAs",
    "outputId": "6aac0f89-3135-42d8-8872-1fee30d76c96"
   },
   "outputs": [
    {
     "data": {
      "text/plain": [
       "<matplotlib.image.AxesImage at 0x248e107a0b8>"
      ]
     },
     "execution_count": 4,
     "metadata": {},
     "output_type": "execute_result"
    },
    {
     "data": {
      "image/png": "[encoded data removed]",
      "text/plain": [
       "<Figure size 360x360 with 1 Axes>"
      ]
     },
     "metadata": {
      "needs_background": "light"
     },
     "output_type": "display_data"
    }
   ],
   "source": [
    "# Showing Examples from the Data Set\n",
    "plt.figure(figsize=(5,5))\n",
    "plt.imshow(X_train[560], cmap=\"gray\")"
   ]
  },
  {
   "cell_type": "code",
   "execution_count": 6,
   "metadata": {
    "execution": {
     "iopub.execute_input": "2024-07-26T12:33:49.916419Z",
     "iopub.status.busy": "2024-07-26T12:33:49.915745Z",
     "iopub.status.idle": "2024-07-26T12:33:49.924633Z",
     "shell.execute_reply": "2024-07-26T12:33:49.923328Z",
     "shell.execute_reply.started": "2024-07-26T12:33:49.916372Z"
    },
    "id": "dMAgvA3ovqOY"
   },
   "outputs": [],
   "source": [
    "def visualize_img(data, num=10):\n",
    "  plt.figure(figsize=(5, 5))\n",
    "  for i in range(0, num):\n",
    "    ax = plt.subplot(5, 5, i+1)\n",
    "    plt.imshow(data[i], cmap=\"gray\")\n",
    "    plt.axis(\"off\")"
   ]
  },
  {
   "cell_type": "code",
   "execution_count": 17,
   "metadata": {
    "collapsed": true,
    "execution": {
     "iopub.execute_input": "2024-07-26T12:33:49.927737Z",
     "iopub.status.busy": "2024-07-26T12:33:49.925996Z",
     "iopub.status.idle": "2024-07-26T12:33:50.295621Z",
     "shell.execute_reply": "2024-07-26T12:33:50.29433Z",
     "shell.execute_reply.started": "2024-07-26T12:33:49.92768Z"
    },
    "id": "Qj5BAFSvwWdE",
    "outputId": "47c490cb-e34d-453c-de7d-0698eef4c7ba"
   },
   "outputs": [
    {
     "data": {
      "image/png": "[encoded data removed]",
      "text/plain": [
       "<Figure size 360x360 with 25 Axes>"
      ]
     },
     "metadata": {
      "needs_background": "light"
     },
     "output_type": "display_data"
    }
   ],
   "source": [
    "visualize_img(X_train,25)"
   ]
  },
  {
   "cell_type": "code",
   "execution_count": 8,
   "metadata": {
    "collapsed": true,
    "execution": {
     "iopub.execute_input": "2024-07-26T12:33:50.298927Z",
     "iopub.status.busy": "2024-07-26T12:33:50.297929Z",
     "iopub.status.idle": "2024-07-26T12:33:50.31103Z",
     "shell.execute_reply": "2024-07-26T12:33:50.309775Z",
     "shell.execute_reply.started": "2024-07-26T12:33:50.298878Z"
    },
    "id": "Duq3lnSQwZSe",
    "outputId": "eb6a9b98-99c5-4c02-991e-15453335ad94"
   },
   "outputs": [
    {
     "name": "stdout",
     "output_type": "stream",
     "text": [
      "[[  0   0   0   0   0   0   0   0   0   0   0   0   0   0   0   0   0   0\n",
      "    0   0   0   0   0   0   0   0   0   0]\n",
      " [  0   0   0   0   0   0   0   0   0   0   0   0   0   0   0   0   0   0\n",
      "    0   0   0   0   0   0   0   0   0   0]\n",
      " [  0   0   0   0   0   0   0   0   0   0   0   0   0   0   0   0   0   0\n",
      "    0   0   0   0   0   0   0   0   0   0]\n",
      " [  0   0   0   0   0   0   0   0   0   0   0   0   0   0   0   0   0   0\n",
      "    0   0   0   0   0   0   0   0   0   0]\n",
      " [  0   0   0   0   0   0   0   0   0   0   0   0   0   0   0   0   0   0\n",
      "    0   0   0   0   0   0   0   0   0   0]\n",
      " [  0   0   0   0   0   0   0   0   0   0   0   0   0   0   0   0   0   0\n",
      "  124 253 255  63   0   0   0   0   0   0]\n",
      " [  0   0   0   0   0   0   0   0   0   0   0   0   0   0   0   0   0  96\n",
      "  244 251 253  62   0   0   0   0   0   0]\n",
      " [  0   0   0   0   0   0   0   0   0   0   0   0   0   0   0   0   0 127\n",
      "  251 251 253  62   0   0   0   0   0   0]\n",
      " [  0   0   0   0   0   0   0   0   0   0   0   0   0   0   0   0  68 236\n",
      "  251 211  31   8   0   0   0   0   0   0]\n",
      " [  0   0   0   0   0   0   0   0   0   0   0   0   0   0   0  60 228 251\n",
      "  251  94   0   0   0   0   0   0   0   0]\n",
      " [  0   0   0   0   0   0   0   0   0   0   0   0   0   0   0 155 253 253\n",
      "  189   0   0   0   0   0   0   0   0   0]\n",
      " [  0   0   0   0   0   0   0   0   0   0   0   0   0   0  20 253 251 235\n",
      "   66   0   0   0   0   0   0   0   0   0]\n",
      " [  0   0   0   0   0   0   0   0   0   0   0   0   0  32 205 253 251 126\n",
      "    0   0   0   0   0   0   0   0   0   0]\n",
      " [  0   0   0   0   0   0   0   0   0   0   0   0   0 104 251 253 184  15\n",
      "    0   0   0   0   0   0   0   0   0   0]\n",
      " [  0   0   0   0   0   0   0   0   0   0   0   0  80 240 251 193  23   0\n",
      "    0   0   0   0   0   0   0   0   0   0]\n",
      " [  0   0   0   0   0   0   0   0   0   0   0  32 253 253 253 159   0   0\n",
      "    0   0   0   0   0   0   0   0   0   0]\n",
      " [  0   0   0   0   0   0   0   0   0   0   0 151 251 251 251  39   0   0\n",
      "    0   0   0   0   0   0   0   0   0   0]\n",
      " [  0   0   0   0   0   0   0   0   0   0  48 221 251 251 172   0   0   0\n",
      "    0   0   0   0   0   0   0   0   0   0]\n",
      " [  0   0   0   0   0   0   0   0   0   0 234 251 251 196  12   0   0   0\n",
      "    0   0   0   0   0   0   0   0   0   0]\n",
      " [  0   0   0   0   0   0   0   0   0   0 253 251 251  89   0   0   0   0\n",
      "    0   0   0   0   0   0   0   0   0   0]\n",
      " [  0   0   0   0   0   0   0   0   0 159 255 253 253  31   0   0   0   0\n",
      "    0   0   0   0   0   0   0   0   0   0]\n",
      " [  0   0   0   0   0   0   0   0  48 228 253 247 140   8   0   0   0   0\n",
      "    0   0   0   0   0   0   0   0   0   0]\n",
      " [  0   0   0   0   0   0   0   0  64 251 253 220   0   0   0   0   0   0\n",
      "    0   0   0   0   0   0   0   0   0   0]\n",
      " [  0   0   0   0   0   0   0   0  64 251 253 220   0   0   0   0   0   0\n",
      "    0   0   0   0   0   0   0   0   0   0]\n",
      " [  0   0   0   0   0   0   0   0  24 193 253 220   0   0   0   0   0   0\n",
      "    0   0   0   0   0   0   0   0   0   0]\n",
      " [  0   0   0   0   0   0   0   0   0   0   0   0   0   0   0   0   0   0\n",
      "    0   0   0   0   0   0   0   0   0   0]\n",
      " [  0   0   0   0   0   0   0   0   0   0   0   0   0   0   0   0   0   0\n",
      "    0   0   0   0   0   0   0   0   0   0]\n",
      " [  0   0   0   0   0   0   0   0   0   0   0   0   0   0   0   0   0   0\n",
      "    0   0   0   0   0   0   0   0   0   0]]\n",
      "0\n",
      "237\n",
      "24.799744897959183\n",
      "19443\n",
      "[[ 49 116 144 150 241 243 234 179 241 252]\n",
      " [254 250 240 198 143  91  28   5 233 250]\n",
      " [ 98  56   0   0   0   0   0 102 254 220]\n",
      " [  0   0   0   0   0   0   0 169 254 137]\n",
      " [  0   0   0   0   0   0   0 169 254  57]\n",
      " [  0   0   0   0   0   0   0 169 254  57]]\n",
      "96.51666666666667\n"
     ]
    }
   ],
   "source": [
    "# The process of translating the image into a computer-understandable form\n",
    "\n",
    "print(X_train[3])\n",
    "\n",
    "# The value of the 3rd image in the data set in row 10 and column 10\n",
    "print(X_train[2][10,10])\n",
    "\n",
    "# The value of the 3rd image in the data set in row 15 and column 5\n",
    "print(X_train[2][15,5])\n",
    "\n",
    "# Average of the pixel values of the 3rd image in the data set\n",
    "print(X_train[2].mean())\n",
    "\n",
    "# Sum of pixel values of the 3rd image in the data set\n",
    "print(X_train[2].sum())\n",
    "\n",
    "# Values of the 3rd image in the dataset between rows 14 and 20 and columns 10 and 20\n",
    "print(X_train[2][14:20, 10:20])\n",
    "\n",
    "# Average of the values between rows 14 and 20 and columns 10 and 20 of the 3rd image in the data set\n",
    "print(X_train[2][14:20, 10:20].mean())"
   ]
  },
  {
   "cell_type": "code",
   "execution_count": 9,
   "metadata": {
    "execution": {
     "iopub.execute_input": "2024-07-26T12:33:50.31416Z",
     "iopub.status.busy": "2024-07-26T12:33:50.313264Z",
     "iopub.status.idle": "2024-07-26T12:33:50.322677Z",
     "shell.execute_reply": "2024-07-26T12:33:50.321461Z",
     "shell.execute_reply.started": "2024-07-26T12:33:50.314114Z"
    },
    "id": "Vj9x0bZzyk21"
   },
   "outputs": [],
   "source": [
    "def pixel_visualize(img):\n",
    "  fig = plt.figure(figsize=(12,12))\n",
    "  ax = fig.add_subplot(111)\n",
    "  ax.imshow(img, cmap=\"gray\")\n",
    "  width, height = img.shape\n",
    "\n",
    "  threshold = img.max() / 2.5\n",
    "\n",
    "  for x in range(width):\n",
    "    for y in range(height):\n",
    "      ax.annotate(str(round(img[x][y], 2)), xy=(y,x), \n",
    "                  color=\"white\" if img[x][y] < threshold else \"black\")"
   ]
  },
  {
   "cell_type": "code",
   "execution_count": 10,
   "metadata": {
    "collapsed": true,
    "execution": {
     "iopub.execute_input": "2024-07-26T12:33:50.32562Z",
     "iopub.status.busy": "2024-07-26T12:33:50.324734Z",
     "iopub.status.idle": "2024-07-26T12:33:53.750115Z",
     "shell.execute_reply": "2024-07-26T12:33:53.748958Z",
     "shell.execute_reply.started": "2024-07-26T12:33:50.325574Z"
    },
    "id": "QZ-Ai4oM1YqD",
    "outputId": "0ccb37d4-1ceb-4199-e4f1-e6bfb0eec405"
   },
   "outputs": [
    {
     "data": {
      "image/png": "[encoded data removed]",
      "text/plain": [
       "<Figure size 864x864 with 1 Axes>"
      ]
     },
     "metadata": {
      "needs_background": "light"
     },
     "output_type": "display_data"
    }
   ],
   "source": [
    "pixel_visualize(X_train[2])"
   ]
  },
  {
   "cell_type": "markdown",
   "metadata": {
    "id": "1BElmnO0-UxX"
   },
   "source": [
    "# Data Preparation"
   ]
  },
  {
   "cell_type": "markdown",
   "metadata": {
    "id": "ErVn7Mto-nMz"
   },
   "source": [
    "## Encoding for Dependent Variable"
   ]
  },
  {
   "cell_type": "code",
   "execution_count": 11,
   "metadata": {
    "execution": {
     "iopub.execute_input": "2024-07-26T12:33:53.75507Z",
     "iopub.status.busy": "2024-07-26T12:33:53.754691Z",
     "iopub.status.idle": "2024-07-26T12:33:53.762581Z",
     "shell.execute_reply": "2024-07-26T12:33:53.761269Z",
     "shell.execute_reply.started": "2024-07-26T12:33:53.755026Z"
    },
    "id": "MNrLgiEa_hY7",
    "outputId": "99b094c5-81d9-4ccb-e94f-95c1ca9c1a92"
   },
   "outputs": [
    {
     "data": {
      "text/plain": [
       "array([5, 0, 4, 1, 9], dtype=uint8)"
      ]
     },
     "execution_count": 11,
     "metadata": {},
     "output_type": "execute_result"
    }
   ],
   "source": [
    "# Before encoding\n",
    "y_train[0:5]"
   ]
  },
  {
   "cell_type": "code",
   "execution_count": 12,
   "metadata": {
    "execution": {
     "iopub.execute_input": "2024-07-26T12:33:53.763938Z",
     "iopub.status.busy": "2024-07-26T12:33:53.763623Z",
     "iopub.status.idle": "2024-07-26T12:33:53.77557Z",
     "shell.execute_reply": "2024-07-26T12:33:53.774504Z",
     "shell.execute_reply.started": "2024-07-26T12:33:53.763914Z"
    },
    "id": "OYsx556c1ihm"
   },
   "outputs": [],
   "source": [
    "y_train = to_categorical(y_train)\n",
    "y_test = to_categorical(y_test)"
   ]
  },
  {
   "cell_type": "code",
   "execution_count": 13,
   "metadata": {
    "execution": {
     "iopub.execute_input": "2024-07-26T12:33:53.77723Z",
     "iopub.status.busy": "2024-07-26T12:33:53.776896Z",
     "iopub.status.idle": "2024-07-26T12:33:53.786992Z",
     "shell.execute_reply": "2024-07-26T12:33:53.785758Z",
     "shell.execute_reply.started": "2024-07-26T12:33:53.777198Z"
    },
    "id": "NgTkSnwP_B9E",
    "outputId": "5f26738e-28aa-4a0b-de4e-e43bade623f6"
   },
   "outputs": [
    {
     "data": {
      "text/plain": [
       "array([[0., 0., 0., 0., 0., 1., 0., 0., 0., 0.],\n",
       "       [1., 0., 0., 0., 0., 0., 0., 0., 0., 0.],\n",
       "       [0., 0., 0., 0., 1., 0., 0., 0., 0., 0.],\n",
       "       [0., 1., 0., 0., 0., 0., 0., 0., 0., 0.],\n",
       "       [0., 0., 0., 0., 0., 0., 0., 0., 0., 1.]], dtype=float32)"
      ]
     },
     "execution_count": 13,
     "metadata": {},
     "output_type": "execute_result"
    }
   ],
   "source": [
    "# How classes are expressed after encoding (one-hot encoding)\n",
    "\n",
    "y_train[0:5]"
   ]
  },
  {
   "cell_type": "markdown",
   "metadata": {
    "id": "8fl9W3kl_2l7"
   },
   "source": [
    "## Reshaping\n",
    "\n",
    "<p>In deep learning problems, reshaping is done to adapt the data to the requirements of the model and to make data processing more efficient. The number of channels is determined according to the color information of the image and the requirements of the model.\n",
    "\n",
    "Why is reshaping done?\n",
    "<ol>\n",
    "<li><strong>Model Input Matching:</strong> Models expect data of a certain size and shape. In particular, convolutional neural networks (CNNs) receive images of specific sizes as input. Reshaping ensures that the data conforms to the input dimensions and format expected by the model.</li>\n",
    "\n",
    "<li><strong>Batch Processing:</strong> Deep learning models process data in batches. Therefore, the data must be in a certain format. For example, all images in a batch must have the same size and shape.</li>\n",
    "    \n",
    "<li><strong>Data Normalization:</strong> Reshaping is also used when normalizing data and bringing it into a specific range (e.g., 0-1 range).</li>\n",
    "<li><strong>Memory and Computational Efficiency</strong></li>\n",
    "<li><strong>Improving Model Training and Performance</strong></li>\n",
    "</ol>\n",
    "\n",
    "What Determines the Number of Channels?\n",
    "<ol>\n",
    "    <li><strong>By Image Type:</strong></li>\n",
    "    <ul>\n",
    "        <li><strong>Black and White (Grayscale) Images:</strong> These images contain a single channel because each pixel has only one intensity or brightness value. For example, images from the MNIST dataset.\n",
    "            Reshaping: (height, width, 1).</li>\n",
    "        <li><strong>Color Images:</strong> Color images usually have three channels (RGB). Each pixel has red, green and blue components.\n",
    "            Reshaping: (height, width, 3).</li>\n",
    "    </ul>\n",
    "    <li><strong>According to Model Requirements:</strong></li>\n",
    "    <ul>\n",
    "        <li>Some specific models or data processing techniques may require a different number of channels. For example, different spectral bands may be used in medical image processing or remote sensing applications, in which case the number of channels may vary depending on the type of data.</li>\n",
    "    </ul>\n",
    "</ol>\n",
    "</p>"
   ]
  },
  {
   "cell_type": "code",
   "execution_count": 18,
   "metadata": {
    "execution": {
     "iopub.execute_input": "2024-07-26T12:33:53.788704Z",
     "iopub.status.busy": "2024-07-26T12:33:53.78837Z",
     "iopub.status.idle": "2024-07-26T12:33:53.801357Z",
     "shell.execute_reply": "2024-07-26T12:33:53.79999Z",
     "shell.execute_reply.started": "2024-07-26T12:33:53.788678Z"
    },
    "id": "YNh7r3kV_wRO",
    "outputId": "960dd824-5246-48c8-f5e0-587668abbf5a"
   },
   "outputs": [
    {
     "data": {
      "text/plain": [
       "28"
      ]
     },
     "execution_count": 18,
     "metadata": {},
     "output_type": "execute_result"
    }
   ],
   "source": [
    "image_size = X_train.shape[1]\n",
    "image_size"
   ]
  },
  {
   "cell_type": "code",
   "execution_count": 63,
   "metadata": {
    "execution": {
     "iopub.execute_input": "2024-07-26T12:33:53.803548Z",
     "iopub.status.busy": "2024-07-26T12:33:53.803177Z",
     "iopub.status.idle": "2024-07-26T12:33:53.816067Z",
     "shell.execute_reply": "2024-07-26T12:33:53.814705Z",
     "shell.execute_reply.started": "2024-07-26T12:33:53.803519Z"
    },
    "id": "mP_FzyZhAkQZ",
    "outputId": "505ab825-98cc-48fc-b7a4-03966cb0ba26"
   },
   "outputs": [
    {
     "name": "stdout",
     "output_type": "stream",
     "text": [
      "X_train size: (60000, 28, 28)\n",
      "\n",
      "X_test size: (10000, 28, 28)\n"
     ]
    }
   ],
   "source": [
    "print(f\"X_train size: {X_train.shape}\\n\\nX_test size: {X_test.shape}\")"
   ]
  },
  {
   "cell_type": "code",
   "execution_count": 19,
   "metadata": {
    "execution": {
     "iopub.execute_input": "2024-07-26T12:33:53.817832Z",
     "iopub.status.busy": "2024-07-26T12:33:53.817468Z",
     "iopub.status.idle": "2024-07-26T12:33:53.828969Z",
     "shell.execute_reply": "2024-07-26T12:33:53.827655Z",
     "shell.execute_reply.started": "2024-07-26T12:33:53.817785Z"
    },
    "id": "doA3FaTsBVan"
   },
   "outputs": [],
   "source": [
    "X_train = X_train.reshape(X_train.shape[0], 28, 28, 1) # Here, 1 indicates the number of channels. Since the images in the dataset we are working with are in black and white, we specified the number of channels as 1 here.\n",
    "X_test = X_test.reshape(X_test.shape[0], 28, 28, 1) # Here, 1 indicates the number of channels. Since the images in the dataset we are working with are in black and white, we specified the number of channels as 1 here."
   ]
  },
  {
   "cell_type": "code",
   "execution_count": 20,
   "metadata": {
    "execution": {
     "iopub.execute_input": "2024-07-26T12:33:53.830807Z",
     "iopub.status.busy": "2024-07-26T12:33:53.830467Z",
     "iopub.status.idle": "2024-07-26T12:33:53.847289Z",
     "shell.execute_reply": "2024-07-26T12:33:53.845955Z",
     "shell.execute_reply.started": "2024-07-26T12:33:53.830779Z"
    },
    "id": "MwAgoLPDB0in",
    "outputId": "ac8605a7-839a-42b7-d8e0-26ebe7cb8a59"
   },
   "outputs": [
    {
     "name": "stdout",
     "output_type": "stream",
     "text": [
      "X_train size: (60000, 28, 28, 1)\n",
      "\n",
      "X_test size: (10000, 28, 28, 1)\n"
     ]
    }
   ],
   "source": [
    "print(f\"X_train size: {X_train.shape}\\n\\nX_test size: {X_test.shape}\")"
   ]
  },
  {
   "cell_type": "markdown",
   "metadata": {
    "id": "LSjcSYd5DhU6"
   },
   "source": [
    "## Standardization\n",
    "\n",
    "<p>In deep learning problems, standardization (normalization) is a critical step to make the model learn more efficiently and faster, increase computational stability and improve overall performance.\n",
    "\n",
    "Reasons and benefits of standardization:\n",
    "<ol>\n",
    "    <li><strong>Faster and Stable Training:</strong></li>\n",
    "    <ul>\n",
    "        <li><strong>Increasing Learning Speed:</strong> Standardized data allows optimization algorithms to run faster and more efficiently. When data is in the same scaled range, weight updates are more balanced and the model converges faster.</li>\n",
    "        <li><strong>Computational Stability:</strong> Large or small scale data values can cause the weights to be updated too large or small, which negatively affects the stability of the model. Standardization reduces this problem.</li>\n",
    "    </ul>\n",
    "            <li><strong>Enhancing the Effect of Gradient Descent:</strong></li>\n",
    "    <ul>\n",
    "        <li><strong>Balancing Gradients:</strong> Standardized data balances the gradients of different features, making the learning process more stable. This allows the model to learn in a more balanced way and perform better overall.</li>\n",
    "    </ul>\n",
    "        <li><strong>Mitigating the Risks of Overfitting and Underfitting:</strong></li>\n",
    "    <ul>\n",
    "        <li>Increasing the Ability to Generalize</li>\n",
    "        <li>Better Regularization</li>\n",
    "    </ul>\n",
    "            <li><strong>Equalization of Attributes:</strong></li>\n",
    "    <ul>\n",
    "        <li><strong>Same Weighting of Attributes:</strong> Having the data in the same scaled range ensures that the model treats all attributes equally. Attributes at different scales can cause the model to give more importance to some attributes, leading to unbalanced learning.</li>\n",
    "    </ul>\n",
    "        <li><strong>Numerical Stability:</strong></li>\n",
    "    <ul><li><strong>Numerical Stability:</strong> Standardized data increases numerical stability, reducing computational errors that can be caused by extremely large or small numbers.</li></ul>\n",
    "    \n",
    "</ol>\n",
    "</p>"
   ]
  },
  {
   "cell_type": "code",
   "execution_count": 66,
   "metadata": {
    "execution": {
     "iopub.execute_input": "2024-07-26T12:33:53.849169Z",
     "iopub.status.busy": "2024-07-26T12:33:53.848749Z",
     "iopub.status.idle": "2024-07-26T12:33:53.941917Z",
     "shell.execute_reply": "2024-07-26T12:33:53.940725Z",
     "shell.execute_reply.started": "2024-07-26T12:33:53.849138Z"
    },
    "id": "nA7l3r9uDYvJ"
   },
   "outputs": [],
   "source": [
    "X_train = X_train.astype(\"float32\") / 255\n",
    "X_test = X_test.astype(\"float32\") / 255"
   ]
  },
  {
   "attachments": {
    "image-2.png": {
     "image/png": "[encoded data removed]"
    },
    "image-3.png": {
     "image/png": "[encoded data removed]"
    },
    "image.png": {
     "image/png": "[encoded data removed]"
    }
   },
   "cell_type": "markdown",
   "metadata": {},
   "source": [
    "### Neuron\n",
    "Think of a **neuron** as a small unit or a decision-maker in a neural network. In the brain, neurons receive signals from other neurons, process them, and decide whether to pass the signal forward. Similarly, in a neural network, a neuron receives inputs, processes them, and produces an output.\n",
    "\n",
    "#### Example:\n",
    "Imagine you're deciding whether to go to the gym. Your inputs could be:\n",
    "- How tired you are (Input 1)\n",
    "- How much free time you have (Input 2)\n",
    "- Whether it's raining outside (Input 3)\n",
    "\n",
    "Each of these inputs influences your decision. A neuron in a neural network does something similar: it takes inputs, processes them using weights and biases, and then makes a decision (i.e., gives an output).\n",
    "\n",
    "### Weight\n",
    "The **weight** determines how important an input is to the neuron’s decision. In simple terms, a weight adjusts the influence of each input.\n",
    "\n",
    "#### Example:\n",
    "- If you’re not that tired, the weight for the \"tired\" input might be low (meaning this input won't affect your decision much).\n",
    "- If having free time is very important for your decision, the weight for the \"free time\" input will be high.\n",
    "\n",
    "Mathematically, each input is multiplied by its corresponding weight before being passed to the neuron.\n",
    "\n",
    "### Bias\n",
    "The **bias** allows the neuron to shift the decision threshold, meaning it adjusts the overall output independently of the inputs.\n",
    "\n",
    "#### Example:\n",
    "Let’s say you always go to the gym unless it’s a stormy day. This tendency can be represented by a bias, making the neuron more likely to output \"go to the gym\" unless certain conditions (like the weather) drastically change the decision.\n",
    "\n",
    "Mathematically, the bias is added to the weighted sum of inputs, allowing the model to fit the data better.\n",
    "\n",
    "### Mathematical Formulation\n",
    "If you have inputs \\(x_1, x_2, x_3\\) and weights \\(w_1, w_2, w_3\\), and a bias \\(b\\), the neuron's output (before activation) can be calculated as:\n",
    "\n",
    "\n",
    "![image.png](attachment:image.png)\n",
    "\n",
    "\n",
    "### Activation Function\n",
    "After calculating \\(z\\), the neuron applies an **activation function** to produce the final output. The purpose of the activation function is to introduce non-linearity, meaning the model can learn more complex patterns.\n",
    "\n",
    "#### Example:\n",
    "If you're trying to predict whether to go to the gym, the activation function might take the combined inputs and weights, and give you a probability (between 0 and 1) of whether you'll go.\n",
    "\n",
    "### Common Activation Functions\n",
    "\n",
    "1. **Sigmoid Activation Function**: This function gives an output between 0 and 1, making it useful for binary decisions. Mathematically:\n",
    "\n",
    "   ![image-2.png](attachment:image-2.png)\n",
    "\n",
    "   For large positive \\(z\\), the output approaches 1. For large negative \\(z\\), it approaches 0. \n",
    "\n",
    "2. **ReLU (Rectified Linear Unit)**: It outputs the input directly if it's positive, or 0 if it's negative:\n",
    "\n",
    "\n",
    "   ![image-3.png](attachment:image-3.png)\n",
    "\n",
    "\n",
    "   ReLU is very popular because it helps the model learn efficiently by avoiding some issues with the sigmoid function, like vanishing gradients.\n",
    "\n",
    "#### Why Activation Functions Matter\n",
    "Without an activation function, the neural network would just be a linear combination of inputs, weights, and bias, which is limited in its capacity to learn complex patterns. By introducing non-linearity, the activation function allows the network to make sophisticated decisions.\n",
    "\n",
    "---\n",
    "\n",
    "### Summary\n",
    "- **Neuron**: Processes inputs and generates an output.\n",
    "- **Weight**: Determines how much influence each input has.\n",
    "- **Bias**: Shifts the decision-making threshold.\n",
    "- **Activation Function**: Adds non-linearity, helping the model learn complex patterns."
   ]
  },
  {
   "cell_type": "markdown",
   "metadata": {
    "id": "M89dpjn4FYgJ"
   },
   "source": [
    "# Modeling"
   ]
  },
  {
   "cell_type": "markdown",
   "metadata": {
    "id": "SRbToAi3GUBL"
   },
   "source": [
    "## Defining Neural Network Architecture"
   ]
  },
  {
   "cell_type": "code",
   "execution_count": 67,
   "metadata": {
    "execution": {
     "iopub.execute_input": "2024-07-26T12:33:53.943544Z",
     "iopub.status.busy": "2024-07-26T12:33:53.943227Z",
     "iopub.status.idle": "2024-07-26T12:33:54.026222Z",
     "shell.execute_reply": "2024-07-26T12:33:54.024913Z",
     "shell.execute_reply.started": "2024-07-26T12:33:53.943519Z"
    },
    "id": "Rnvj1X-OFP5z"
   },
   "outputs": [],
   "source": [
    "model = tf.keras.Sequential([\n",
    "    Flatten(input_shape=(28, 28, 1)), # Making the data understandable to the neural network\n",
    "    Dense(units=128, activation=\"relu\", name=\"layer1\"), # Hidden layer\n",
    "    Dense(units=num_labels, activation=\"softmax\", name=\"output_layer\")])  # Output Layer\n",
    "\n",
    "model.compile(loss=\"categorical_crossentropy\", # Error evaluation metric, the objective is to minimize this function\n",
    "              optimizer=\"adam\", # Optimization algorithm to minimize the loss function\n",
    "              metrics=[tf.keras.metrics.Precision(), tf.keras.metrics.Recall(), \"accuracy\"]) # Evaluation metrics"
   ]
  },
  {
   "cell_type": "code",
   "execution_count": 68,
   "metadata": {
    "execution": {
     "iopub.execute_input": "2024-07-26T12:33:54.027803Z",
     "iopub.status.busy": "2024-07-26T12:33:54.027486Z",
     "iopub.status.idle": "2024-07-26T12:33:54.051716Z",
     "shell.execute_reply": "2024-07-26T12:33:54.050544Z",
     "shell.execute_reply.started": "2024-07-26T12:33:54.027778Z"
    },
    "id": "ncD67txbMlq-",
    "outputId": "688b10ee-9a73-4f04-ebfa-817877f412d6"
   },
   "outputs": [
    {
     "name": "stdout",
     "output_type": "stream",
     "text": [
      "Model: \"sequential_1\"\n",
      "_________________________________________________________________\n",
      "Layer (type)                 Output Shape              Param #   \n",
      "=================================================================\n",
      "flatten_1 (Flatten)          (None, 784)               0         \n",
      "_________________________________________________________________\n",
      "layer1 (Dense)               (None, 128)               100480    \n",
      "_________________________________________________________________\n",
      "output_layer (Dense)         (None, 10)                1290      \n",
      "=================================================================\n",
      "Total params: 101,770\n",
      "Trainable params: 101,770\n",
      "Non-trainable params: 0\n",
      "_________________________________________________________________\n"
     ]
    }
   ],
   "source": [
    "model.summary()"
   ]
  },
  {
   "cell_type": "code",
   "execution_count": 70,
   "metadata": {
    "_kg_hide-output": true,
    "execution": {
     "iopub.execute_input": "2024-07-26T12:33:54.053316Z",
     "iopub.status.busy": "2024-07-26T12:33:54.052962Z",
     "iopub.status.idle": "2024-07-26T12:34:10.425086Z",
     "shell.execute_reply": "2024-07-26T12:34:10.423873Z",
     "shell.execute_reply.started": "2024-07-26T12:33:54.053288Z"
    },
    "id": "Nypf5_X7Mw8_",
    "outputId": "57201304-4900-416c-fc84-b0d0e2ae7491"
   },
   "outputs": [
    {
     "name": "stdout",
     "output_type": "stream",
     "text": [
      "Epoch 1/8\n",
      "469/469 [==============================] - 4s 6ms/step - loss: 0.3518 - precision_1: 0.9478 - recall_1: 0.8525 - accuracy: 0.9038 - val_loss: 0.1933 - val_precision_1: 0.9567 - val_recall_1: 0.9312 - val_accuracy: 0.9443\n",
      "Epoch 2/8\n",
      "469/469 [==============================] - 2s 4ms/step - loss: 0.1599 - precision_1: 0.9653 - recall_1: 0.9445 - accuracy: 0.9545 - val_loss: 0.1317 - val_precision_1: 0.9695 - val_recall_1: 0.9547 - val_accuracy: 0.9613\n",
      "Epoch 3/8\n",
      "469/469 [==============================] - 2s 4ms/step - loss: 0.1147 - precision_1: 0.9740 - recall_1: 0.9606 - accuracy: 0.9669 - val_loss: 0.1114 - val_precision_1: 0.9724 - val_recall_1: 0.9617 - val_accuracy: 0.9670\n",
      "Epoch 4/8\n",
      "469/469 [==============================] - 2s 5ms/step - loss: 0.0895 - precision_1: 0.9793 - recall_1: 0.9698 - accuracy: 0.9744 - val_loss: 0.0965 - val_precision_1: 0.9760 - val_recall_1: 0.9670 - val_accuracy: 0.9704\n",
      "Epoch 5/8\n",
      "469/469 [==============================] - 3s 7ms/step - loss: 0.0725 - precision_1: 0.9832 - recall_1: 0.9757 - accuracy: 0.9792 - val_loss: 0.0878 - val_precision_1: 0.9769 - val_recall_1: 0.9688 - val_accuracy: 0.9716\n",
      "Epoch 6/8\n",
      "469/469 [==============================] - 3s 7ms/step - loss: 0.0590 - precision_1: 0.9863 - recall_1: 0.9802 - accuracy: 0.9827 - val_loss: 0.0815 - val_precision_1: 0.9768 - val_recall_1: 0.9701 - val_accuracy: 0.9738\n",
      "Epoch 7/8\n",
      "469/469 [==============================] - 2s 4ms/step - loss: 0.0495 - precision_1: 0.9881 - recall_1: 0.9831 - accuracy: 0.9855 - val_loss: 0.0735 - val_precision_1: 0.9803 - val_recall_1: 0.9742 - val_accuracy: 0.9769\n",
      "Epoch 8/8\n",
      "469/469 [==============================] - 3s 6ms/step - loss: 0.0415 - precision_1: 0.9896 - recall_1: 0.9860 - accuracy: 0.9878 - val_loss: 0.0738 - val_precision_1: 0.9804 - val_recall_1: 0.9748 - val_accuracy: 0.9770\n"
     ]
    },
    {
     "data": {
      "text/plain": [
       "<keras.callbacks.History at 0x1cd3be5bac8>"
      ]
     },
     "execution_count": 70,
     "metadata": {},
     "output_type": "execute_result"
    }
   ],
   "source": [
    "# Model fit\n",
    "model.fit(X_train, y_train, epochs=8, batch_size=128, \n",
    "          validation_data=(X_test, y_test))"
   ]
  },
  {
   "cell_type": "markdown",
   "metadata": {
    "id": "CF0ueKysQYgW"
   },
   "source": [
    "## Model Evaluation"
   ]
  },
  {
   "cell_type": "code",
   "execution_count": 71,
   "metadata": {
    "_kg_hide-input": false,
    "_kg_hide-output": false,
    "collapsed": true,
    "execution": {
     "iopub.execute_input": "2024-07-26T12:34:10.427123Z",
     "iopub.status.busy": "2024-07-26T12:34:10.426609Z",
     "iopub.status.idle": "2024-07-26T12:34:25.143911Z",
     "shell.execute_reply": "2024-07-26T12:34:25.142582Z",
     "shell.execute_reply.started": "2024-07-26T12:34:10.427085Z"
    },
    "id": "QpF4hZkVPi4f",
    "outputId": "3873baa6-d2eb-4137-90de-313f625cfaaf"
   },
   "outputs": [
    {
     "name": "stdout",
     "output_type": "stream",
     "text": [
      "Epoch 1/8\n",
      "469/469 [==============================] - 2s 5ms/step - loss: 0.0351 - precision_1: 0.9919 - recall_1: 0.9887 - accuracy: 0.9901 - val_loss: 0.0674 - val_precision_1: 0.9813 - val_recall_1: 0.9770 - val_accuracy: 0.9788\n",
      "Epoch 2/8\n",
      "469/469 [==============================] - 2s 5ms/step - loss: 0.0296 - precision_1: 0.9931 - recall_1: 0.9903 - accuracy: 0.9918 - val_loss: 0.0709 - val_precision_1: 0.9807 - val_recall_1: 0.9766 - val_accuracy: 0.9785\n",
      "Epoch 3/8\n",
      "469/469 [==============================] - 2s 5ms/step - loss: 0.0251 - precision_1: 0.9943 - recall_1: 0.9922 - accuracy: 0.9932 - val_loss: 0.0713 - val_precision_1: 0.9792 - val_recall_1: 0.9751 - val_accuracy: 0.9770\n",
      "Epoch 4/8\n",
      "469/469 [==============================] - 2s 5ms/step - loss: 0.0211 - precision_1: 0.9955 - recall_1: 0.9937 - accuracy: 0.9947 - val_loss: 0.0654 - val_precision_1: 0.9818 - val_recall_1: 0.9785 - val_accuracy: 0.9801\n",
      "Epoch 5/8\n",
      "469/469 [==============================] - 2s 5ms/step - loss: 0.0184 - precision_1: 0.9962 - recall_1: 0.9950 - accuracy: 0.9956 - val_loss: 0.0643 - val_precision_1: 0.9817 - val_recall_1: 0.9788 - val_accuracy: 0.9795\n",
      "Epoch 6/8\n",
      "469/469 [==============================] - 2s 5ms/step - loss: 0.0150 - precision_1: 0.9971 - recall_1: 0.9961 - accuracy: 0.9967 - val_loss: 0.0718 - val_precision_1: 0.9816 - val_recall_1: 0.9775 - val_accuracy: 0.9790\n",
      "Epoch 7/8\n",
      "469/469 [==============================] - 2s 5ms/step - loss: 0.0126 - precision_1: 0.9977 - recall_1: 0.9969 - accuracy: 0.9974 - val_loss: 0.0696 - val_precision_1: 0.9814 - val_recall_1: 0.9785 - val_accuracy: 0.9796\n",
      "Epoch 8/8\n",
      "469/469 [==============================] - 2s 5ms/step - loss: 0.0113 - precision_1: 0.9979 - recall_1: 0.9973 - accuracy: 0.9977 - val_loss: 0.0709 - val_precision_1: 0.9810 - val_recall_1: 0.9782 - val_accuracy: 0.9791\n"
     ]
    }
   ],
   "source": [
    "history = model.fit(X_train, # Dependent Variable\n",
    "                    y_train, # Independent Variable\n",
    "                    epochs=8, # Number of iterations\n",
    "                    batch_size=128, # Number of neurons to be optimized\n",
    "                    validation_data=(X_test, y_test)) # Test data set"
   ]
  },
  {
   "cell_type": "code",
   "execution_count": 72,
   "metadata": {
    "collapsed": true,
    "execution": {
     "iopub.execute_input": "2024-07-26T12:34:25.146467Z",
     "iopub.status.busy": "2024-07-26T12:34:25.146036Z",
     "iopub.status.idle": "2024-07-26T12:34:25.814484Z",
     "shell.execute_reply": "2024-07-26T12:34:25.813451Z",
     "shell.execute_reply.started": "2024-07-26T12:34:25.146434Z"
    },
    "id": "KU3szwuxRKP-",
    "outputId": "f995910f-8254-4258-e81e-6a18d05e3de5"
   },
   "outputs": [
    {
     "data": {
      "text/plain": [
       "Text(0.5, 1.0, 'Training and Test Loss Graph')"
      ]
     },
     "execution_count": 72,
     "metadata": {},
     "output_type": "execute_result"
    },
    {
     "data": {
      "image/png": "[encoded data removed]",
      "text/plain": [
       "<Figure size 1440x360 with 2 Axes>"
      ]
     },
     "metadata": {
      "needs_background": "light"
     },
     "output_type": "display_data"
    }
   ],
   "source": [
    "# Accuracy and Loss Charts\n",
    "# Accuracy\n",
    "plt.figure(figsize=(20, 5))\n",
    "plt.subplot(1,2,1)\n",
    "plt.plot(history.history[\"accuracy\"], color=\"b\", \n",
    "         label=\"Training Accuracy\")\n",
    "plt.plot(history.history[\"val_accuracy\"], color=\"r\", \n",
    "         label=\"Validation Accuracy\")\n",
    "plt.legend(loc=\"lower right\")\n",
    "plt.xlabel(\"Epoch\", fontsize=16)\n",
    "plt.ylabel(\"Accuracy\", fontsize=16)\n",
    "plt.ylim([min(plt.ylim()), 1])\n",
    "plt.title(\"Training and Test Accuracy Graph\", fontsize=16)\n",
    "# Loss\n",
    "plt.subplot(1,2,2)\n",
    "plt.plot(history.history[\"loss\"], color=\"b\", label=\"Training Loss\")\n",
    "plt.plot(history.history[\"val_loss\"], color=\"r\", \n",
    "         label=\"Validation Loss\")\n",
    "plt.legend(loc=\"upper right\")\n",
    "plt.xlabel(\"Epoch\", fontsize=16)\n",
    "plt.ylabel(\"Loss\", fontsize=16)\n",
    "plt.ylim([0, max(plt.ylim())])\n",
    "plt.title(\"Training and Test Loss Graph\", fontsize=16)"
   ]
  },
  {
   "cell_type": "code",
   "execution_count": 73,
   "metadata": {
    "execution": {
     "iopub.execute_input": "2024-07-26T12:34:25.816646Z",
     "iopub.status.busy": "2024-07-26T12:34:25.816196Z",
     "iopub.status.idle": "2024-07-26T12:34:26.384303Z",
     "shell.execute_reply": "2024-07-26T12:34:26.383016Z",
     "shell.execute_reply.started": "2024-07-26T12:34:25.816609Z"
    },
    "id": "1EwxlB18S21y",
    "outputId": "c17e5833-df51-4b1e-c6f3-051f156f850e"
   },
   "outputs": [
    {
     "name": "stdout",
     "output_type": "stream",
     "text": [
      "Test Accuracy: 97.91\n",
      "Test Loss: 7.09\n",
      "Test Precision: 98.1\n",
      "Test Recall: 97.82\n"
     ]
    }
   ],
   "source": [
    "loss, precision, recall, acc = model.evaluate(X_test, y_test, \n",
    "                                              verbose=False)\n",
    "print(f\"Test Accuracy: {round(acc * 100, 2)}\")\n",
    "print(f\"Test Loss: {round(loss * 100, 2)}\")\n",
    "print(f\"Test Precision: {round(precision * 100, 2)}\")\n",
    "print(f\"Test Recall: {round(recall * 100, 2)}\")"
   ]
  },
  {
   "cell_type": "markdown",
   "metadata": {},
   "source": [
    "## Prediction and Visualization"
   ]
  },
  {
   "cell_type": "code",
   "execution_count": 74,
   "metadata": {
    "execution": {
     "iopub.execute_input": "2024-07-26T12:34:26.386109Z",
     "iopub.status.busy": "2024-07-26T12:34:26.385712Z",
     "iopub.status.idle": "2024-07-26T12:34:27.115707Z",
     "shell.execute_reply": "2024-07-26T12:34:27.114529Z",
     "shell.execute_reply.started": "2024-07-26T12:34:26.386014Z"
    }
   },
   "outputs": [],
   "source": [
    "y_pred = model.predict(X_test)"
   ]
  },
  {
   "cell_type": "code",
   "execution_count": 75,
   "metadata": {
    "execution": {
     "iopub.execute_input": "2024-07-26T12:34:27.118377Z",
     "iopub.status.busy": "2024-07-26T12:34:27.117935Z",
     "iopub.status.idle": "2024-07-26T12:34:27.123669Z",
     "shell.execute_reply": "2024-07-26T12:34:27.122396Z",
     "shell.execute_reply.started": "2024-07-26T12:34:27.118346Z"
    }
   },
   "outputs": [],
   "source": [
    "y_pred_classes = np.argmax(y_pred, axis=1)"
   ]
  },
  {
   "cell_type": "code",
   "execution_count": 76,
   "metadata": {
    "execution": {
     "iopub.execute_input": "2024-07-26T12:34:27.125494Z",
     "iopub.status.busy": "2024-07-26T12:34:27.125081Z",
     "iopub.status.idle": "2024-07-26T12:34:27.137691Z",
     "shell.execute_reply": "2024-07-26T12:34:27.135636Z",
     "shell.execute_reply.started": "2024-07-26T12:34:27.125464Z"
    }
   },
   "outputs": [],
   "source": [
    "if len(y_test.shape) > 1 and y_test.shape[1] != 1:\n",
    "    y_test = np.argmax(y_test, axis=1)\n",
    "    \n",
    "#Bu kod parçası, y_test değişkeninin çok boyutlu olup olmadığını kontrol eder ve gerekiyorsa onu tek boyutlu bir hale getirir. Özellikle, eğer y_test bir \"one-hot encoded\" formda ise, yani her sınıf için ayrı bir sütun içeriyorsa, onu sınıf indekslerini içeren tek boyutlu bir array'e dönüştürür."
   ]
  },
  {
   "cell_type": "code",
   "execution_count": 77,
   "metadata": {
    "execution": {
     "iopub.execute_input": "2024-07-26T12:34:27.139662Z",
     "iopub.status.busy": "2024-07-26T12:34:27.139266Z",
     "iopub.status.idle": "2024-07-26T12:34:27.675327Z",
     "shell.execute_reply": "2024-07-26T12:34:27.673975Z",
     "shell.execute_reply.started": "2024-07-26T12:34:27.139631Z"
    }
   },
   "outputs": [
    {
     "data": {
      "image/png": "[encoded data removed]",
      "text/plain": [
       "<Figure size 720x504 with 2 Axes>"
      ]
     },
     "metadata": {
      "needs_background": "light"
     },
     "output_type": "display_data"
    }
   ],
   "source": [
    "# Confusion Matrix\n",
    "cm = confusion_matrix(y_test, y_pred_classes)\n",
    "plt.figure(figsize=(10,7))\n",
    "sns.heatmap(cm, annot=True, fmt='d', cmap='Blues')\n",
    "plt.xlabel('Predicted')\n",
    "plt.ylabel('True')\n",
    "plt.title('Confusion Matrix')\n",
    "plt.show()"
   ]
  },
  {
   "cell_type": "markdown",
   "metadata": {
    "id": "bReMP1JlUU6r"
   },
   "source": [
    "### Registering the Model and Predicting a Randomly Selected Image from the Data Set"
   ]
  },
  {
   "cell_type": "code",
   "execution_count": 78,
   "metadata": {
    "execution": {
     "iopub.execute_input": "2024-07-26T12:35:48.628291Z",
     "iopub.status.busy": "2024-07-26T12:35:48.627427Z",
     "iopub.status.idle": "2024-07-26T12:35:48.668456Z",
     "shell.execute_reply": "2024-07-26T12:35:48.667068Z",
     "shell.execute_reply.started": "2024-07-26T12:35:48.628235Z"
    },
    "id": "iNUe49I6UFGe"
   },
   "outputs": [],
   "source": [
    "model.save(\"mnist_model.h5\")"
   ]
  },
  {
   "cell_type": "code",
   "execution_count": 88,
   "metadata": {
    "execution": {
     "iopub.execute_input": "2024-07-26T12:35:49.566694Z",
     "iopub.status.busy": "2024-07-26T12:35:49.566196Z",
     "iopub.status.idle": "2024-07-26T12:35:49.573192Z",
     "shell.execute_reply": "2024-07-26T12:35:49.571672Z",
     "shell.execute_reply.started": "2024-07-26T12:35:49.566566Z"
    },
    "id": "wHPf1gvHUntB"
   },
   "outputs": [],
   "source": [
    "import random\n",
    "random = random.randint(0, X_test.shape[0])\n",
    "print(y_test[random])\n",
    "test_image = X_test[random]\n",
    "print(y_test[random])"
   ]
  },
  {
   "cell_type": "code",
   "execution_count": 92,
   "metadata": {
    "collapsed": true,
    "execution": {
     "iopub.execute_input": "2024-07-26T12:35:54.429327Z",
     "iopub.status.busy": "2024-07-26T12:35:54.428941Z",
     "iopub.status.idle": "2024-07-26T12:35:54.700629Z",
     "shell.execute_reply": "2024-07-26T12:35:54.699235Z",
     "shell.execute_reply.started": "2024-07-26T12:35:54.4293Z"
    },
    "id": "EWIDkPfgU-FZ",
    "outputId": "20f50e73-e6d5-4409-a345-0756b0b7ab26"
   },
   "outputs": [
    {
     "data": {
      "text/plain": [
       "<matplotlib.image.AxesImage at 0x1cd3327e1d0>"
      ]
     },
     "execution_count": 92,
     "metadata": {},
     "output_type": "execute_result"
    },
    {
     "data": {
      "image/png": "[encoded data removed]",
      "text/plain": [
       "<Figure size 360x360 with 1 Axes>"
      ]
     },
     "metadata": {
      "needs_background": "light"
     },
     "output_type": "display_data"
    }
   ],
   "source": [
    "plt.figure(figsize=(5,5))\n",
    "plt.imshow(test_image.reshape(28, 28), cmap=\"gray\")"
   ]
  },
  {
   "cell_type": "code",
   "execution_count": 93,
   "metadata": {
    "execution": {
     "iopub.execute_input": "2024-07-26T12:35:55.385348Z",
     "iopub.status.busy": "2024-07-26T12:35:55.384941Z",
     "iopub.status.idle": "2024-07-26T12:35:55.393108Z",
     "shell.execute_reply": "2024-07-26T12:35:55.390982Z",
     "shell.execute_reply.started": "2024-07-26T12:35:55.385319Z"
    },
    "id": "63md4p5SU4iH"
   },
   "outputs": [],
   "source": [
    "test_data = X_test[random].reshape(1, 28, 28, 1)"
   ]
  },
  {
   "cell_type": "code",
   "execution_count": 94,
   "metadata": {
    "execution": {
     "iopub.execute_input": "2024-07-26T12:35:56.93391Z",
     "iopub.status.busy": "2024-07-26T12:35:56.933509Z",
     "iopub.status.idle": "2024-07-26T12:35:57.033058Z",
     "shell.execute_reply": "2024-07-26T12:35:57.031668Z",
     "shell.execute_reply.started": "2024-07-26T12:35:56.933881Z"
    },
    "id": "tx4iKAQoWR9K",
    "outputId": "a0ffb91b-c323-4e9f-9d07-570255be51a8"
   },
   "outputs": [],
   "source": [
    "probability = model.predict(test_data)"
   ]
  },
  {
   "cell_type": "code",
   "execution_count": 95,
   "metadata": {
    "execution": {
     "iopub.execute_input": "2024-07-26T12:35:58.967923Z",
     "iopub.status.busy": "2024-07-26T12:35:58.967416Z",
     "iopub.status.idle": "2024-07-26T12:35:58.975898Z",
     "shell.execute_reply": "2024-07-26T12:35:58.972999Z",
     "shell.execute_reply.started": "2024-07-26T12:35:58.967882Z"
    },
    "id": "GP80CvfoWbN0"
   },
   "outputs": [],
   "source": [
    "predicted_classes = np.argmax(probability)"
   ]
  },
  {
   "cell_type": "code",
   "execution_count": 96,
   "metadata": {
    "collapsed": true,
    "execution": {
     "iopub.execute_input": "2024-07-26T12:35:59.837641Z",
     "iopub.status.busy": "2024-07-26T12:35:59.837205Z",
     "iopub.status.idle": "2024-07-26T12:35:59.845327Z",
     "shell.execute_reply": "2024-07-26T12:35:59.843607Z",
     "shell.execute_reply.started": "2024-07-26T12:35:59.837566Z"
    },
    "id": "N-geiXIhWjVo",
    "outputId": "3162d68b-a704-4fd3-e74b-7add5404036b"
   },
   "outputs": [
    {
     "name": "stdout",
     "output_type": "stream",
     "text": [
      "Predicted Class: 3\n",
      "Probability Value of Predicted Class: 0.9264500737190247\n",
      "Probability Values of Other Classes: [[1.2315905e-09 2.3895063e-06 1.0291400e-06 9.2645007e-01 9.3089003e-10\n",
      "  1.4319881e-08 4.0393386e-13 7.3508866e-02 4.6239916e-06 3.3000841e-05]]\n"
     ]
    }
   ],
   "source": [
    "print(f\"Predicted Class: {predicted_classes}\\nProbability \n",
    "      Value of Predicted Class: {np.max(probability, \n",
    "            axis = -1)[0]}\\nProbability Values of Other \n",
    "      Classes: {probability}\")"
   ]
  },
  {
   "cell_type": "code",
   "execution_count": null,
   "metadata": {
    "id": "lEwRSlJeXQuP"
   },
   "outputs": [],
   "source": []
  }
 ],
 "metadata": {
  "colab": {
   "provenance": []
  },
  "kaggle": {
   "accelerator": "none",
   "dataSources": [
    {
     "datasetId": 102285,
     "sourceId": 242592,
     "sourceType": "datasetVersion"
    }
   ],
   "dockerImageVersionId": 30746,
   "isGpuEnabled": false,
   "isInternetEnabled": false,
   "language": "python",
   "sourceType": "notebook"
  },
  "kernelspec": {
   "display_name": "Python 3",
   "language": "python",
   "name": "python3"
  },
  "language_info": {
   "codemirror_mode": {
    "name": "ipython",
    "version": 3
   },
   "file_extension": ".py",
   "mimetype": "text/x-python",
   "name": "python",
   "nbconvert_exporter": "python",
   "pygments_lexer": "ipython3",
   "version": "3.6.6"
  }
 },
 "nbformat": 4,
 "nbformat_minor": 4
}
