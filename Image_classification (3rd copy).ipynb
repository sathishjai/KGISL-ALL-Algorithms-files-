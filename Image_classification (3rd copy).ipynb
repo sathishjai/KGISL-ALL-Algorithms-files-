{
 "cells": [
  {
   "cell_type": "code",
   "execution_count": 1,
   "id": "c60cc338-7c37-45de-8eeb-428871f2617f",
   "metadata": {},
   "outputs": [
    {
     "name": "stderr",
     "output_type": "stream",
     "text": [
      "2024-10-07 14:01:05.743655: E external/local_xla/xla/stream_executor/cuda/cuda_fft.cc:485] Unable to register cuFFT factory: Attempting to register factory for plugin cuFFT when one has already been registered\n",
      "2024-10-07 14:01:07.254626: E external/local_xla/xla/stream_executor/cuda/cuda_dnn.cc:8454] Unable to register cuDNN factory: Attempting to register factory for plugin cuDNN when one has already been registered\n",
      "2024-10-07 14:01:07.614905: E external/local_xla/xla/stream_executor/cuda/cuda_blas.cc:1452] Unable to register cuBLAS factory: Attempting to register factory for plugin cuBLAS when one has already been registered\n",
      "2024-10-07 14:01:09.937095: I tensorflow/core/platform/cpu_feature_guard.cc:210] This TensorFlow binary is optimized to use available CPU instructions in performance-critical operations.\n",
      "To enable the following instructions: AVX2 FMA, in other operations, rebuild TensorFlow with the appropriate compiler flags.\n",
      "2024-10-07 14:01:31.518948: W tensorflow/compiler/tf2tensorrt/utils/py_utils.cc:38] TF-TRT Warning: Could not find TensorRT\n"
     ]
    }
   ],
   "source": [
    "import numpy as np\n",
    "import os\n",
    "from PIL import Image\n",
    "from sklearn.model_selection import train_test_split\n",
    "from keras.utils import to_categorical\n",
    "from tensorflow.keras.models import Sequential\n",
    "from tensorflow.keras.layers import Conv2D, MaxPool2D, Dropout, Flatten, Dense, BatchNormalization, GlobalAveragePooling2D"
   ]
  },
  {
   "cell_type": "code",
   "execution_count": 17,
   "id": "d9290ba2-70f0-4d4e-bb2c-8a2fba90816e",
   "metadata": {},
   "outputs": [],
   "source": [
    "import tensorflow as tf\n",
    "import matplotlib.pyplot as plt\n",
    "from sklearn.metrics import confusion_matrix\n",
    "from tensorflow.keras.models import load_model"
   ]
  },
  {
   "cell_type": "code",
   "execution_count": 3,
   "id": "a73edb27-6077-4b07-9a55-3e855a572ca4",
   "metadata": {},
   "outputs": [],
   "source": [
    "# image Loader\n",
    "\n",
    "top_path = '/home/sathish/Downloads/Road Signs classification dataset/DATA'\n",
    "\n",
    "all_images = []\n",
    "\n",
    "all_classification = []\n",
    "\n",
    "for classification_path in os.listdir(top_path):\n",
    "\n",
    "    for image_path in os.listdir(os.path.join(top_path, classification_path)):\n",
    "\n",
    "        img=Image.open(os.path.join(top_path, classification_path)+'//'+str(image_path))\n",
    "\n",
    "        if img.mode != 'RGB': \n",
    "            img=img.convert(\"RGB\")\n",
    "\n",
    "        arr=np.array(img)\n",
    "\n",
    "        resized_img = np.array(Image.fromarray(arr).resize((32,32)))\n",
    "\n",
    "        all_images.append(resized_img)\n",
    "\n",
    "        all_classification.append(classification_path)\n",
    "\n",
    "x=np.array(all_images)\n",
    "\n",
    "y= np.array(all_classification)"
   ]
  },
  {
   "cell_type": "code",
   "execution_count": 4,
   "id": "c83271c6-3ad6-4fef-928b-80cddd7d3c29",
   "metadata": {
    "scrolled": true
   },
   "outputs": [
    {
     "data": {
      "text/plain": [
       "array([[[[ 12,  20,  11],\n",
       "         [ 22,  30,  21],\n",
       "         [ 14,  29,  19],\n",
       "         ...,\n",
       "         [ 47, 107, 100],\n",
       "         [ 45,  84,  71],\n",
       "         [ 39,  80,  64]],\n",
       "\n",
       "        [[ 12,  20,  10],\n",
       "         [ 17,  25,  16],\n",
       "         [ 12,  24,  14],\n",
       "         ...,\n",
       "         [ 48,  96,  88],\n",
       "         [ 60, 102,  87],\n",
       "         [ 26,  74,  58]],\n",
       "\n",
       "        [[ 14,  22,  14],\n",
       "         [ 15,  24,  15],\n",
       "         [ 19,  29,  20],\n",
       "         ...,\n",
       "         [ 79, 121, 111],\n",
       "         [ 69, 110,  95],\n",
       "         [ 53,  95,  81]],\n",
       "\n",
       "        ...,\n",
       "\n",
       "        [[ 14,  25,  15],\n",
       "         [ 15,  26,  16],\n",
       "         [ 16,  31,  17],\n",
       "         ...,\n",
       "         [ 18,  29,  27],\n",
       "         [ 18,  30,  28],\n",
       "         [  9,  21,  19]],\n",
       "\n",
       "        [[ 17,  27,  18],\n",
       "         [ 16,  27,  17],\n",
       "         [ 17,  33,  15],\n",
       "         ...,\n",
       "         [ 16,  27,  25],\n",
       "         [ 16,  25,  23],\n",
       "         [ 12,  22,  19]],\n",
       "\n",
       "        [[ 14,  24,  17],\n",
       "         [ 16,  26,  18],\n",
       "         [ 19,  31,  16],\n",
       "         ...,\n",
       "         [ 18,  28,  27],\n",
       "         [ 17,  25,  23],\n",
       "         [ 15,  23,  21]]],\n",
       "\n",
       "\n",
       "       [[[140, 147, 145],\n",
       "         [102, 112, 122],\n",
       "         [ 89,  93, 105],\n",
       "         ...,\n",
       "         [100, 107, 109],\n",
       "         [ 84,  92,  99],\n",
       "         [133, 141, 142]],\n",
       "\n",
       "        [[139, 146, 144],\n",
       "         [100, 110, 121],\n",
       "         [ 88,  93, 106],\n",
       "         ...,\n",
       "         [ 99, 106, 110],\n",
       "         [ 84,  92, 100],\n",
       "         [134, 143, 143]],\n",
       "\n",
       "        [[139, 146, 144],\n",
       "         [ 96, 108, 118],\n",
       "         [ 89,  95, 105],\n",
       "         ...,\n",
       "         [ 98, 104, 110],\n",
       "         [ 84,  90, 102],\n",
       "         [133, 143, 142]],\n",
       "\n",
       "        ...,\n",
       "\n",
       "        [[131, 138, 141],\n",
       "         [ 80,  83,  99],\n",
       "         [111, 117, 114],\n",
       "         ...,\n",
       "         [ 77,  81,  90],\n",
       "         [111, 116, 121],\n",
       "         [134, 143, 144]],\n",
       "\n",
       "        [[130, 138, 139],\n",
       "         [ 80,  83, 100],\n",
       "         [112, 116, 116],\n",
       "         ...,\n",
       "         [ 77,  79,  91],\n",
       "         [113, 117, 122],\n",
       "         [133, 143, 143]],\n",
       "\n",
       "        [[130, 138, 138],\n",
       "         [ 79,  83,  97],\n",
       "         [113, 118, 116],\n",
       "         ...,\n",
       "         [ 77,  80,  91],\n",
       "         [114, 118, 124],\n",
       "         [132, 142, 141]]],\n",
       "\n",
       "\n",
       "       [[[152, 154, 151],\n",
       "         [178, 172, 154],\n",
       "         [178, 171, 154],\n",
       "         ...,\n",
       "         [179, 173, 153],\n",
       "         [141, 143, 142],\n",
       "         [ 97, 112, 138]],\n",
       "\n",
       "        [[152, 154, 150],\n",
       "         [178, 172, 154],\n",
       "         [177, 171, 154],\n",
       "         ...,\n",
       "         [178, 172, 153],\n",
       "         [142, 145, 142],\n",
       "         [ 95, 110, 137]],\n",
       "\n",
       "        [[153, 154, 150],\n",
       "         [177, 171, 153],\n",
       "         [177, 171, 153],\n",
       "         ...,\n",
       "         [177, 172, 152],\n",
       "         [145, 147, 143],\n",
       "         [ 92, 108, 135]],\n",
       "\n",
       "        ...,\n",
       "\n",
       "        [[171, 167, 153],\n",
       "         [176, 171, 152],\n",
       "         [175, 170, 151],\n",
       "         ...,\n",
       "         [174, 169, 149],\n",
       "         [176, 171, 150],\n",
       "         [108, 119, 137]],\n",
       "\n",
       "        [[171, 166, 153],\n",
       "         [176, 170, 153],\n",
       "         [176, 170, 151],\n",
       "         ...,\n",
       "         [173, 168, 149],\n",
       "         [175, 170, 150],\n",
       "         [112, 121, 137]],\n",
       "\n",
       "        [[171, 167, 153],\n",
       "         [176, 170, 152],\n",
       "         [175, 170, 151],\n",
       "         ...,\n",
       "         [173, 168, 149],\n",
       "         [176, 170, 150],\n",
       "         [115, 123, 139]]],\n",
       "\n",
       "\n",
       "       ...,\n",
       "\n",
       "\n",
       "       [[[ 79,  85,  85],\n",
       "         [ 80,  86,  86],\n",
       "         [ 80,  86,  85],\n",
       "         ...,\n",
       "         [179, 178, 175],\n",
       "         [194, 195, 190],\n",
       "         [192, 193, 188]],\n",
       "\n",
       "        [[ 78,  84,  84],\n",
       "         [ 79,  85,  84],\n",
       "         [ 80,  86,  85],\n",
       "         ...,\n",
       "         [175, 175, 171],\n",
       "         [194, 195, 190],\n",
       "         [191, 192, 187]],\n",
       "\n",
       "        [[ 75,  84,  81],\n",
       "         [ 78,  84,  82],\n",
       "         [ 78,  84,  82],\n",
       "         ...,\n",
       "         [167, 168, 163],\n",
       "         [195, 195, 190],\n",
       "         [191, 192, 187]],\n",
       "\n",
       "        ...,\n",
       "\n",
       "        [[ 42,  48,  49],\n",
       "         [ 41,  46,  48],\n",
       "         [ 42,  47,  49],\n",
       "         ...,\n",
       "         [ 89,  90,  88],\n",
       "         [188, 189, 184],\n",
       "         [185, 186, 181]],\n",
       "\n",
       "        [[ 48,  53,  51],\n",
       "         [ 47,  52,  50],\n",
       "         [ 43,  48,  48],\n",
       "         ...,\n",
       "         [ 86,  87,  85],\n",
       "         [187, 188, 183],\n",
       "         [186, 187, 182]],\n",
       "\n",
       "        [[ 62,  69,  67],\n",
       "         [ 65,  71,  70],\n",
       "         [ 62,  69,  67],\n",
       "         ...,\n",
       "         [ 83,  84,  84],\n",
       "         [186, 187, 182],\n",
       "         [187, 188, 182]]],\n",
       "\n",
       "\n",
       "       [[[171, 175, 174],\n",
       "         [172, 177, 175],\n",
       "         [172, 176, 175],\n",
       "         ...,\n",
       "         [174, 180, 178],\n",
       "         [ 94, 113, 144],\n",
       "         [ 58,  93, 139]],\n",
       "\n",
       "        [[171, 175, 174],\n",
       "         [172, 176, 175],\n",
       "         [172, 176, 175],\n",
       "         ...,\n",
       "         [174, 180, 178],\n",
       "         [104, 120, 148],\n",
       "         [ 56,  91, 137]],\n",
       "\n",
       "        [[170, 174, 173],\n",
       "         [172, 176, 175],\n",
       "         [172, 176, 175],\n",
       "         ...,\n",
       "         [174, 180, 177],\n",
       "         [113, 125, 152],\n",
       "         [ 53,  86, 134]],\n",
       "\n",
       "        ...,\n",
       "\n",
       "        [[169, 174, 170],\n",
       "         [169, 174, 170],\n",
       "         [170, 173, 170],\n",
       "         ...,\n",
       "         [174, 178, 177],\n",
       "         [173, 179, 177],\n",
       "         [174, 180, 178]],\n",
       "\n",
       "        [[171, 174, 171],\n",
       "         [170, 175, 171],\n",
       "         [170, 173, 170],\n",
       "         ...,\n",
       "         [174, 179, 177],\n",
       "         [174, 180, 178],\n",
       "         [174, 180, 178]],\n",
       "\n",
       "        [[171, 175, 172],\n",
       "         [170, 174, 170],\n",
       "         [171, 173, 170],\n",
       "         ...,\n",
       "         [175, 181, 178],\n",
       "         [175, 181, 178],\n",
       "         [176, 181, 179]]],\n",
       "\n",
       "\n",
       "       [[[ 72,  85,  96],\n",
       "         [ 79, 102, 133],\n",
       "         [142, 159, 183],\n",
       "         ...,\n",
       "         [109, 122, 136],\n",
       "         [114, 126, 139],\n",
       "         [117, 129, 139]],\n",
       "\n",
       "        [[ 95, 106, 114],\n",
       "         [112, 132, 159],\n",
       "         [136, 159, 188],\n",
       "         ...,\n",
       "         [136, 160, 195],\n",
       "         [136, 160, 193],\n",
       "         [137, 161, 191]],\n",
       "\n",
       "        [[ 85,  99, 104],\n",
       "         [118, 137, 161],\n",
       "         [ 93, 127, 172],\n",
       "         ...,\n",
       "         [ 34,  78, 140],\n",
       "         [ 34,  77, 140],\n",
       "         [ 33,  78, 139]],\n",
       "\n",
       "        ...,\n",
       "\n",
       "        [[114, 132, 157],\n",
       "         [ 92, 125, 169],\n",
       "         [ 22,  75, 148],\n",
       "         ...,\n",
       "         [ 24,  79, 155],\n",
       "         [ 26,  80, 156],\n",
       "         [ 23,  79, 158]],\n",
       "\n",
       "        [[119, 135, 161],\n",
       "         [ 86, 120, 165],\n",
       "         [ 20,  75, 148],\n",
       "         ...,\n",
       "         [ 28,  80, 158],\n",
       "         [ 26,  80, 156],\n",
       "         [ 25,  80, 156]],\n",
       "\n",
       "        [[122, 137, 164],\n",
       "         [ 84, 118, 163],\n",
       "         [ 19,  74, 147],\n",
       "         ...,\n",
       "         [ 29,  81, 156],\n",
       "         [ 26,  80, 155],\n",
       "         [ 33,  82, 149]]]], dtype=uint8)"
      ]
     },
     "execution_count": 4,
     "metadata": {},
     "output_type": "execute_result"
    }
   ],
   "source": [
    "x"
   ]
  },
  {
   "cell_type": "code",
   "execution_count": 5,
   "id": "7e0fffcb-f930-44c0-90cc-eccf159b8b0b",
   "metadata": {
    "scrolled": true
   },
   "outputs": [
    {
     "data": {
      "text/plain": [
       "array(['17', '17', '17', '17', '17', '17', '17', '17', '17', '17', '17',\n",
       "       '17', '17', '17', '17', '17', '17', '17', '17', '17', '17', '17',\n",
       "       '17', '17', '17', '26', '26', '26', '26', '26', '26', '26', '26',\n",
       "       '26', '26', '26', '26', '26', '26', '26', '26', '26', '26', '26',\n",
       "       '26', '26', '26', '26', '26', '26', '5', '5', '5', '5', '5', '5',\n",
       "       '5', '5', '5', '5', '5', '5', '5', '5', '5', '5', '5', '5', '5',\n",
       "       '5', '5', '5', '5', '5', '5', '16', '16', '16', '16', '16', '16',\n",
       "       '16', '16', '16', '16', '16', '16', '16', '16', '16', '16', '16',\n",
       "       '16', '16', '16', '16', '16', '16', '16', '16', '27', '27', '27',\n",
       "       '27', '27', '27', '27', '27', '27', '27', '27', '27', '27', '27',\n",
       "       '27', '27', '27', '27', '27', '27', '27', '27', '27', '27', '27',\n",
       "       '28', '28', '28', '28', '28', '28', '28', '28', '28', '28', '28',\n",
       "       '28', '28', '28', '28', '28', '28', '28', '28', '28', '28', '28',\n",
       "       '28', '28', '28', '24', '24', '24', '24', '24', '24', '24', '24',\n",
       "       '24', '24', '24', '24', '24', '24', '24', '24', '24', '24', '24',\n",
       "       '24', '24', '24', '24', '24', '24', '2', '2', '2', '2', '2', '2',\n",
       "       '2', '2', '2', '2', '2', '2', '2', '2', '2', '2', '2', '2', '2',\n",
       "       '2', '2', '2', '2', '2', '2', '29', '29', '29', '29', '29', '29',\n",
       "       '29', '29', '29', '29', '29', '29', '29', '29', '29', '29', '29',\n",
       "       '29', '29', '29', '29', '29', '29', '29', '29', '19', '19', '19',\n",
       "       '19', '19', '19', '19', '19', '19', '19', '19', '19', '19', '19',\n",
       "       '19', '19', '19', '19', '19', '19', '19', '19', '19', '19', '19',\n",
       "       '18', '18', '18', '18', '18', '18', '18', '18', '18', '18', '18',\n",
       "       '18', '18', '18', '18', '18', '18', '18', '18', '18', '18', '18',\n",
       "       '18', '18', '18', '21', '21', '21', '21', '21', '21', '21', '21',\n",
       "       '21', '21', '21', '21', '21', '21', '21', '21', '21', '21', '21',\n",
       "       '21', '21', '21', '21', '21', '21', '0', '0', '0', '0', '0', '0',\n",
       "       '0', '0', '0', '0', '0', '0', '0', '0', '0', '0', '0', '0', '0',\n",
       "       '0', '0', '0', '0', '0', '0', '23', '23', '23', '23', '23', '23',\n",
       "       '23', '23', '23', '23', '23', '23', '23', '23', '23', '23', '23',\n",
       "       '23', '23', '23', '23', '23', '23', '23', '23', '1', '1', '1', '1',\n",
       "       '1', '1', '1', '1', '1', '1', '1', '1', '1', '1', '1', '1', '1',\n",
       "       '1', '1', '1', '1', '1', '1', '1', '1', '7', '7', '7', '7', '7',\n",
       "       '7', '7', '7', '7', '7', '7', '7', '7', '7', '7', '7', '7', '7',\n",
       "       '7', '7', '7', '7', '7', '7', '7', '4', '4', '4', '4', '4', '4',\n",
       "       '4', '4', '4', '4', '4', '4', '4', '4', '4', '4', '4', '4', '4',\n",
       "       '4', '4', '4', '4', '4', '4', '10', '10', '10', '10', '10', '10',\n",
       "       '10', '10', '10', '10', '10', '10', '10', '10', '10', '10', '10',\n",
       "       '10', '10', '10', '10', '10', '10', '10', '10', '13', '13', '13',\n",
       "       '13', '13', '13', '13', '13', '13', '13', '13', '13', '13', '13',\n",
       "       '13', '13', '13', '13', '13', '13', '13', '13', '13', '13', '13',\n",
       "       '12', '12', '12', '12', '12', '12', '12', '12', '12', '12', '12',\n",
       "       '12', '12', '12', '12', '12', '12', '12', '12', '12', '12', '12',\n",
       "       '12', '12', '12', '20', '20', '20', '20', '20', '20', '20', '20',\n",
       "       '20', '20', '20', '20', '20', '20', '20', '20', '20', '20', '20',\n",
       "       '20', '20', '20', '20', '20', '9', '9', '9', '9', '9', '9', '9',\n",
       "       '9', '9', '9', '9', '9', '9', '9', '9', '9', '9', '9', '9', '9',\n",
       "       '9', '9', '9', '9', '9', '3', '3', '3', '3', '3', '3', '3', '3',\n",
       "       '3', '3', '3', '3', '3', '3', '3', '3', '3', '3', '3', '3', '3',\n",
       "       '3', '3', '3', '3', '11', '11', '11', '11', '11', '11', '11', '11',\n",
       "       '11', '11', '11', '11', '11', '11', '11', '11', '11', '11', '11',\n",
       "       '11', '11', '11', '11', '11', '11', '15', '15', '15', '15', '15',\n",
       "       '15', '15', '15', '15', '15', '15', '15', '15', '15', '15', '15',\n",
       "       '15', '15', '15', '15', '15', '15', '15', '15', '15', '25', '25',\n",
       "       '25', '25', '25', '25', '25', '25', '25', '25', '25', '25', '25',\n",
       "       '25', '25', '25', '25', '25', '25', '25', '25', '25', '25', '25',\n",
       "       '6', '6', '6', '6', '6', '6', '6', '6', '6', '6', '6', '6', '6',\n",
       "       '6', '6', '6', '6', '6', '6', '6', '6', '6', '6', '6', '6', '8',\n",
       "       '8', '8', '8', '8', '8', '8', '8', '8', '8', '8', '8', '8', '8',\n",
       "       '8', '8', '8', '8', '8', '8', '22', '22', '22', '22', '22', '22',\n",
       "       '22', '22', '22', '22', '22', '22', '22', '22', '22', '22', '22',\n",
       "       '22', '22', '22', '22', '22', '22', '22', '22', '14', '14', '14',\n",
       "       '14', '14', '14', '14', '14', '14', '14', '14', '14', '14', '14',\n",
       "       '14', '14', '14', '14', '14', '14', '14', '14', '14', '14', '14'],\n",
       "      dtype='<U2')"
      ]
     },
     "execution_count": 5,
     "metadata": {},
     "output_type": "execute_result"
    }
   ],
   "source": [
    "y"
   ]
  },
  {
   "cell_type": "code",
   "execution_count": 6,
   "id": "17ca3eab-2838-4660-9add-3c628409a5ed",
   "metadata": {},
   "outputs": [
    {
     "data": {
      "text/plain": [
       "(743, 32, 32, 3)"
      ]
     },
     "execution_count": 6,
     "metadata": {},
     "output_type": "execute_result"
    }
   ],
   "source": [
    "x.shape"
   ]
  },
  {
   "cell_type": "code",
   "execution_count": 7,
   "id": "d8a01e9f-88a4-41b7-9d8d-3251adc2d8ab",
   "metadata": {},
   "outputs": [
    {
     "data": {
      "text/plain": [
       "(743,)"
      ]
     },
     "execution_count": 7,
     "metadata": {},
     "output_type": "execute_result"
    }
   ],
   "source": [
    "y.shape"
   ]
  },
  {
   "cell_type": "code",
   "execution_count": 8,
   "id": "9fe331e3-30d7-4569-b199-598d4d20192a",
   "metadata": {},
   "outputs": [
    {
     "name": "stdout",
     "output_type": "stream",
     "text": [
      "(594, 32, 32, 3) (149, 32, 32, 3) (594,) (149,)\n"
     ]
    }
   ],
   "source": [
    "# Splitting training and testing dataset\n",
    "X_train, X_test, y_train, y_test = train_test_split(x,y, test_size=0.2, random_state=42)\n",
    "print(X_train.shape, X_test.shape, y_train.shape, y_test.shape)"
   ]
  },
  {
   "cell_type": "code",
   "execution_count": 9,
   "id": "b12b0343-9b83-41b2-ab79-8f46730265d8",
   "metadata": {
    "scrolled": true
   },
   "outputs": [
    {
     "name": "stdout",
     "output_type": "stream",
     "text": [
      "[[0. 0. 0. ... 0. 0. 0.]\n",
      " [0. 0. 0. ... 0. 0. 0.]\n",
      " [0. 0. 0. ... 0. 0. 1.]\n",
      " ...\n",
      " [0. 0. 0. ... 0. 0. 0.]\n",
      " [0. 0. 0. ... 0. 0. 0.]\n",
      " [0. 0. 0. ... 1. 0. 0.]]\n",
      "[[0. 0. 0. ... 0. 0. 0.]\n",
      " [0. 0. 0. ... 0. 0. 0.]\n",
      " [0. 0. 0. ... 0. 0. 0.]\n",
      " ...\n",
      " [0. 0. 0. ... 0. 0. 0.]\n",
      " [0. 0. 0. ... 0. 1. 0.]\n",
      " [0. 0. 0. ... 0. 0. 0.]]\n"
     ]
    }
   ],
   "source": [
    "# Converting the labels into one hot encoding\n",
    "num_classes = 30\n",
    "y_train_one_hot = to_categorical(y_train, num_classes)\n",
    "y_test_one_hot = to_categorical(y_test, num_classes)\n",
    "print(y_train_one_hot)\n",
    "print(y_test_one_hot)"
   ]
  },
  {
   "cell_type": "code",
   "execution_count": 10,
   "id": "190058f1-f077-4456-b12f-6d02bab2890d",
   "metadata": {},
   "outputs": [
    {
     "data": {
      "text/html": [
       "<pre style=\"white-space:pre;overflow-x:auto;line-height:normal;font-family:Menlo,'DejaVu Sans Mono',consolas,'Courier New',monospace\"><span style=\"font-weight: bold\">Model: \"functional\"</span>\n",
       "</pre>\n"
      ],
      "text/plain": [
       "\u001b[1mModel: \"functional\"\u001b[0m\n"
      ]
     },
     "metadata": {},
     "output_type": "display_data"
    },
    {
     "data": {
      "text/html": [
       "<pre style=\"white-space:pre;overflow-x:auto;line-height:normal;font-family:Menlo,'DejaVu Sans Mono',consolas,'Courier New',monospace\">┏━━━━━━━━━━━━━━━━━━━━━━━━━━━━━━━━━┳━━━━━━━━━━━━━━━━━━━━━━━━┳━━━━━━━━━━━━━━━┓\n",
       "┃<span style=\"font-weight: bold\"> Layer (type)                    </span>┃<span style=\"font-weight: bold\"> Output Shape           </span>┃<span style=\"font-weight: bold\">       Param # </span>┃\n",
       "┡━━━━━━━━━━━━━━━━━━━━━━━━━━━━━━━━━╇━━━━━━━━━━━━━━━━━━━━━━━━╇━━━━━━━━━━━━━━━┩\n",
       "│ input_layer (<span style=\"color: #0087ff; text-decoration-color: #0087ff\">InputLayer</span>)        │ (<span style=\"color: #00d7ff; text-decoration-color: #00d7ff\">None</span>, <span style=\"color: #00af00; text-decoration-color: #00af00\">32</span>, <span style=\"color: #00af00; text-decoration-color: #00af00\">32</span>, <span style=\"color: #00af00; text-decoration-color: #00af00\">3</span>)      │             <span style=\"color: #00af00; text-decoration-color: #00af00\">0</span> │\n",
       "├─────────────────────────────────┼────────────────────────┼───────────────┤\n",
       "│ conv2d (<span style=\"color: #0087ff; text-decoration-color: #0087ff\">Conv2D</span>)                 │ (<span style=\"color: #00d7ff; text-decoration-color: #00d7ff\">None</span>, <span style=\"color: #00af00; text-decoration-color: #00af00\">32</span>, <span style=\"color: #00af00; text-decoration-color: #00af00\">32</span>, <span style=\"color: #00af00; text-decoration-color: #00af00\">32</span>)     │           <span style=\"color: #00af00; text-decoration-color: #00af00\">896</span> │\n",
       "├─────────────────────────────────┼────────────────────────┼───────────────┤\n",
       "│ conv2d_1 (<span style=\"color: #0087ff; text-decoration-color: #0087ff\">Conv2D</span>)               │ (<span style=\"color: #00d7ff; text-decoration-color: #00d7ff\">None</span>, <span style=\"color: #00af00; text-decoration-color: #00af00\">32</span>, <span style=\"color: #00af00; text-decoration-color: #00af00\">32</span>, <span style=\"color: #00af00; text-decoration-color: #00af00\">32</span>)     │         <span style=\"color: #00af00; text-decoration-color: #00af00\">9,248</span> │\n",
       "├─────────────────────────────────┼────────────────────────┼───────────────┤\n",
       "│ max_pooling2d (<span style=\"color: #0087ff; text-decoration-color: #0087ff\">MaxPooling2D</span>)    │ (<span style=\"color: #00d7ff; text-decoration-color: #00d7ff\">None</span>, <span style=\"color: #00af00; text-decoration-color: #00af00\">16</span>, <span style=\"color: #00af00; text-decoration-color: #00af00\">16</span>, <span style=\"color: #00af00; text-decoration-color: #00af00\">32</span>)     │             <span style=\"color: #00af00; text-decoration-color: #00af00\">0</span> │\n",
       "├─────────────────────────────────┼────────────────────────┼───────────────┤\n",
       "│ conv2d_2 (<span style=\"color: #0087ff; text-decoration-color: #0087ff\">Conv2D</span>)               │ (<span style=\"color: #00d7ff; text-decoration-color: #00d7ff\">None</span>, <span style=\"color: #00af00; text-decoration-color: #00af00\">16</span>, <span style=\"color: #00af00; text-decoration-color: #00af00\">16</span>, <span style=\"color: #00af00; text-decoration-color: #00af00\">64</span>)     │        <span style=\"color: #00af00; text-decoration-color: #00af00\">18,496</span> │\n",
       "├─────────────────────────────────┼────────────────────────┼───────────────┤\n",
       "│ conv2d_3 (<span style=\"color: #0087ff; text-decoration-color: #0087ff\">Conv2D</span>)               │ (<span style=\"color: #00d7ff; text-decoration-color: #00d7ff\">None</span>, <span style=\"color: #00af00; text-decoration-color: #00af00\">16</span>, <span style=\"color: #00af00; text-decoration-color: #00af00\">16</span>, <span style=\"color: #00af00; text-decoration-color: #00af00\">64</span>)     │        <span style=\"color: #00af00; text-decoration-color: #00af00\">36,928</span> │\n",
       "├─────────────────────────────────┼────────────────────────┼───────────────┤\n",
       "│ max_pooling2d_1 (<span style=\"color: #0087ff; text-decoration-color: #0087ff\">MaxPooling2D</span>)  │ (<span style=\"color: #00d7ff; text-decoration-color: #00d7ff\">None</span>, <span style=\"color: #00af00; text-decoration-color: #00af00\">8</span>, <span style=\"color: #00af00; text-decoration-color: #00af00\">8</span>, <span style=\"color: #00af00; text-decoration-color: #00af00\">64</span>)       │             <span style=\"color: #00af00; text-decoration-color: #00af00\">0</span> │\n",
       "├─────────────────────────────────┼────────────────────────┼───────────────┤\n",
       "│ flatten (<span style=\"color: #0087ff; text-decoration-color: #0087ff\">Flatten</span>)               │ (<span style=\"color: #00d7ff; text-decoration-color: #00d7ff\">None</span>, <span style=\"color: #00af00; text-decoration-color: #00af00\">4096</span>)           │             <span style=\"color: #00af00; text-decoration-color: #00af00\">0</span> │\n",
       "├─────────────────────────────────┼────────────────────────┼───────────────┤\n",
       "│ dropout (<span style=\"color: #0087ff; text-decoration-color: #0087ff\">Dropout</span>)               │ (<span style=\"color: #00d7ff; text-decoration-color: #00d7ff\">None</span>, <span style=\"color: #00af00; text-decoration-color: #00af00\">4096</span>)           │             <span style=\"color: #00af00; text-decoration-color: #00af00\">0</span> │\n",
       "├─────────────────────────────────┼────────────────────────┼───────────────┤\n",
       "│ dense (<span style=\"color: #0087ff; text-decoration-color: #0087ff\">Dense</span>)                   │ (<span style=\"color: #00d7ff; text-decoration-color: #00d7ff\">None</span>, <span style=\"color: #00af00; text-decoration-color: #00af00\">64</span>)             │       <span style=\"color: #00af00; text-decoration-color: #00af00\">262,208</span> │\n",
       "├─────────────────────────────────┼────────────────────────┼───────────────┤\n",
       "│ dense_1 (<span style=\"color: #0087ff; text-decoration-color: #0087ff\">Dense</span>)                 │ (<span style=\"color: #00d7ff; text-decoration-color: #00d7ff\">None</span>, <span style=\"color: #00af00; text-decoration-color: #00af00\">30</span>)             │         <span style=\"color: #00af00; text-decoration-color: #00af00\">1,950</span> │\n",
       "└─────────────────────────────────┴────────────────────────┴───────────────┘\n",
       "</pre>\n"
      ],
      "text/plain": [
       "┏━━━━━━━━━━━━━━━━━━━━━━━━━━━━━━━━━┳━━━━━━━━━━━━━━━━━━━━━━━━┳━━━━━━━━━━━━━━━┓\n",
       "┃\u001b[1m \u001b[0m\u001b[1mLayer (type)                   \u001b[0m\u001b[1m \u001b[0m┃\u001b[1m \u001b[0m\u001b[1mOutput Shape          \u001b[0m\u001b[1m \u001b[0m┃\u001b[1m \u001b[0m\u001b[1m      Param #\u001b[0m\u001b[1m \u001b[0m┃\n",
       "┡━━━━━━━━━━━━━━━━━━━━━━━━━━━━━━━━━╇━━━━━━━━━━━━━━━━━━━━━━━━╇━━━━━━━━━━━━━━━┩\n",
       "│ input_layer (\u001b[38;5;33mInputLayer\u001b[0m)        │ (\u001b[38;5;45mNone\u001b[0m, \u001b[38;5;34m32\u001b[0m, \u001b[38;5;34m32\u001b[0m, \u001b[38;5;34m3\u001b[0m)      │             \u001b[38;5;34m0\u001b[0m │\n",
       "├─────────────────────────────────┼────────────────────────┼───────────────┤\n",
       "│ conv2d (\u001b[38;5;33mConv2D\u001b[0m)                 │ (\u001b[38;5;45mNone\u001b[0m, \u001b[38;5;34m32\u001b[0m, \u001b[38;5;34m32\u001b[0m, \u001b[38;5;34m32\u001b[0m)     │           \u001b[38;5;34m896\u001b[0m │\n",
       "├─────────────────────────────────┼────────────────────────┼───────────────┤\n",
       "│ conv2d_1 (\u001b[38;5;33mConv2D\u001b[0m)               │ (\u001b[38;5;45mNone\u001b[0m, \u001b[38;5;34m32\u001b[0m, \u001b[38;5;34m32\u001b[0m, \u001b[38;5;34m32\u001b[0m)     │         \u001b[38;5;34m9,248\u001b[0m │\n",
       "├─────────────────────────────────┼────────────────────────┼───────────────┤\n",
       "│ max_pooling2d (\u001b[38;5;33mMaxPooling2D\u001b[0m)    │ (\u001b[38;5;45mNone\u001b[0m, \u001b[38;5;34m16\u001b[0m, \u001b[38;5;34m16\u001b[0m, \u001b[38;5;34m32\u001b[0m)     │             \u001b[38;5;34m0\u001b[0m │\n",
       "├─────────────────────────────────┼────────────────────────┼───────────────┤\n",
       "│ conv2d_2 (\u001b[38;5;33mConv2D\u001b[0m)               │ (\u001b[38;5;45mNone\u001b[0m, \u001b[38;5;34m16\u001b[0m, \u001b[38;5;34m16\u001b[0m, \u001b[38;5;34m64\u001b[0m)     │        \u001b[38;5;34m18,496\u001b[0m │\n",
       "├─────────────────────────────────┼────────────────────────┼───────────────┤\n",
       "│ conv2d_3 (\u001b[38;5;33mConv2D\u001b[0m)               │ (\u001b[38;5;45mNone\u001b[0m, \u001b[38;5;34m16\u001b[0m, \u001b[38;5;34m16\u001b[0m, \u001b[38;5;34m64\u001b[0m)     │        \u001b[38;5;34m36,928\u001b[0m │\n",
       "├─────────────────────────────────┼────────────────────────┼───────────────┤\n",
       "│ max_pooling2d_1 (\u001b[38;5;33mMaxPooling2D\u001b[0m)  │ (\u001b[38;5;45mNone\u001b[0m, \u001b[38;5;34m8\u001b[0m, \u001b[38;5;34m8\u001b[0m, \u001b[38;5;34m64\u001b[0m)       │             \u001b[38;5;34m0\u001b[0m │\n",
       "├─────────────────────────────────┼────────────────────────┼───────────────┤\n",
       "│ flatten (\u001b[38;5;33mFlatten\u001b[0m)               │ (\u001b[38;5;45mNone\u001b[0m, \u001b[38;5;34m4096\u001b[0m)           │             \u001b[38;5;34m0\u001b[0m │\n",
       "├─────────────────────────────────┼────────────────────────┼───────────────┤\n",
       "│ dropout (\u001b[38;5;33mDropout\u001b[0m)               │ (\u001b[38;5;45mNone\u001b[0m, \u001b[38;5;34m4096\u001b[0m)           │             \u001b[38;5;34m0\u001b[0m │\n",
       "├─────────────────────────────────┼────────────────────────┼───────────────┤\n",
       "│ dense (\u001b[38;5;33mDense\u001b[0m)                   │ (\u001b[38;5;45mNone\u001b[0m, \u001b[38;5;34m64\u001b[0m)             │       \u001b[38;5;34m262,208\u001b[0m │\n",
       "├─────────────────────────────────┼────────────────────────┼───────────────┤\n",
       "│ dense_1 (\u001b[38;5;33mDense\u001b[0m)                 │ (\u001b[38;5;45mNone\u001b[0m, \u001b[38;5;34m30\u001b[0m)             │         \u001b[38;5;34m1,950\u001b[0m │\n",
       "└─────────────────────────────────┴────────────────────────┴───────────────┘\n"
      ]
     },
     "metadata": {},
     "output_type": "display_data"
    },
    {
     "data": {
      "text/html": [
       "<pre style=\"white-space:pre;overflow-x:auto;line-height:normal;font-family:Menlo,'DejaVu Sans Mono',consolas,'Courier New',monospace\"><span style=\"font-weight: bold\"> Total params: </span><span style=\"color: #00af00; text-decoration-color: #00af00\">329,726</span> (1.26 MB)\n",
       "</pre>\n"
      ],
      "text/plain": [
       "\u001b[1m Total params: \u001b[0m\u001b[38;5;34m329,726\u001b[0m (1.26 MB)\n"
      ]
     },
     "metadata": {},
     "output_type": "display_data"
    },
    {
     "data": {
      "text/html": [
       "<pre style=\"white-space:pre;overflow-x:auto;line-height:normal;font-family:Menlo,'DejaVu Sans Mono',consolas,'Courier New',monospace\"><span style=\"font-weight: bold\"> Trainable params: </span><span style=\"color: #00af00; text-decoration-color: #00af00\">329,726</span> (1.26 MB)\n",
       "</pre>\n"
      ],
      "text/plain": [
       "\u001b[1m Trainable params: \u001b[0m\u001b[38;5;34m329,726\u001b[0m (1.26 MB)\n"
      ]
     },
     "metadata": {},
     "output_type": "display_data"
    },
    {
     "data": {
      "text/html": [
       "<pre style=\"white-space:pre;overflow-x:auto;line-height:normal;font-family:Menlo,'DejaVu Sans Mono',consolas,'Courier New',monospace\"><span style=\"font-weight: bold\"> Non-trainable params: </span><span style=\"color: #00af00; text-decoration-color: #00af00\">0</span> (0.00 B)\n",
       "</pre>\n"
      ],
      "text/plain": [
       "\u001b[1m Non-trainable params: \u001b[0m\u001b[38;5;34m0\u001b[0m (0.00 B)\n"
      ]
     },
     "metadata": {},
     "output_type": "display_data"
    }
   ],
   "source": [
    "from keras.models import Model\n",
    "from keras.layers import Input, Conv2D, MaxPooling2D, Flatten, Dropout, Dense\n",
    "inp = Input(shape=(32, 32, 3))\n",
    "# Define the layers\n",
    "x = Conv2D(filters=32, kernel_size=(3, 3), activation='relu', padding='same')(inp)\n",
    "x = Conv2D(filters=32, kernel_size=(3, 3), activation='relu', padding='same')(x)\n",
    "x = MaxPooling2D(pool_size=2, strides=2, padding='valid')(x)\n",
    "x = Conv2D(filters=64, kernel_size=(3, 3), activation='relu', padding='same')(x)\n",
    "x = Conv2D(filters=64, kernel_size=(3, 3), activation='relu', padding='same')(x)\n",
    "x = MaxPooling2D(pool_size=2, strides=2, padding='valid')(x)\n",
    "x = Flatten()(x)\n",
    "x = Dropout(0.4)(x)\n",
    "x = Dense(units=64, activation='relu')(x)\n",
    "x = Dense(units=30, activation='softmax')(x)\n",
    "\n",
    "# Create the model\n",
    "model_custom_cnn = Model(inputs=inp, outputs=x)\n",
    "\n",
    "# Print the model summary\n",
    "model_custom_cnn.summary()"
   ]
  },
  {
   "cell_type": "code",
   "execution_count": 11,
   "id": "483deab4-550f-487a-81cf-e0dccc65f48f",
   "metadata": {},
   "outputs": [
    {
     "name": "stdout",
     "output_type": "stream",
     "text": [
      "Epoch 1/15\n"
     ]
    },
    {
     "name": "stderr",
     "output_type": "stream",
     "text": [
      "2024-10-07 14:02:14.490372: W external/local_tsl/tsl/framework/cpu_allocator_impl.cc:83] Allocation of 23592960 exceeds 10% of free system memory.\n",
      "2024-10-07 14:02:14.564486: W external/local_tsl/tsl/framework/cpu_allocator_impl.cc:83] Allocation of 21528576 exceeds 10% of free system memory.\n",
      "2024-10-07 14:02:14.564700: W external/local_tsl/tsl/framework/cpu_allocator_impl.cc:83] Allocation of 21528576 exceeds 10% of free system memory.\n",
      "2024-10-07 14:02:14.603847: W external/local_tsl/tsl/framework/cpu_allocator_impl.cc:83] Allocation of 28311552 exceeds 10% of free system memory.\n"
     ]
    },
    {
     "name": "stdout",
     "output_type": "stream",
     "text": [
      "\u001b[1m 1/19\u001b[0m \u001b[32m━\u001b[0m\u001b[37m━━━━━━━━━━━━━━━━━━━\u001b[0m \u001b[1m1:37\u001b[0m 5s/step - accuracy: 0.0312 - loss: 57.3296"
     ]
    },
    {
     "name": "stderr",
     "output_type": "stream",
     "text": [
      "2024-10-07 14:02:14.701023: W external/local_tsl/tsl/framework/cpu_allocator_impl.cc:83] Allocation of 14266368 exceeds 10% of free system memory.\n"
     ]
    },
    {
     "name": "stdout",
     "output_type": "stream",
     "text": [
      "\u001b[1m19/19\u001b[0m \u001b[32m━━━━━━━━━━━━━━━━━━━━\u001b[0m\u001b[37m\u001b[0m \u001b[1m11s\u001b[0m 309ms/step - accuracy: 0.0470 - loss: 19.4172 - val_accuracy: 0.0403 - val_loss: 3.3874\n",
      "Epoch 2/15\n",
      "\u001b[1m19/19\u001b[0m \u001b[32m━━━━━━━━━━━━━━━━━━━━\u001b[0m\u001b[37m\u001b[0m \u001b[1m5s\u001b[0m 275ms/step - accuracy: 0.0390 - loss: 3.3753 - val_accuracy: 0.0336 - val_loss: 3.3667\n",
      "Epoch 3/15\n",
      "\u001b[1m19/19\u001b[0m \u001b[32m━━━━━━━━━━━━━━━━━━━━\u001b[0m\u001b[37m\u001b[0m \u001b[1m5s\u001b[0m 281ms/step - accuracy: 0.0419 - loss: 3.3132 - val_accuracy: 0.0403 - val_loss: 3.3313\n",
      "Epoch 4/15\n",
      "\u001b[1m19/19\u001b[0m \u001b[32m━━━━━━━━━━━━━━━━━━━━\u001b[0m\u001b[37m\u001b[0m \u001b[1m5s\u001b[0m 277ms/step - accuracy: 0.0682 - loss: 3.2814 - val_accuracy: 0.0805 - val_loss: 3.2677\n",
      "Epoch 5/15\n",
      "\u001b[1m19/19\u001b[0m \u001b[32m━━━━━━━━━━━━━━━━━━━━\u001b[0m\u001b[37m\u001b[0m \u001b[1m6s\u001b[0m 315ms/step - accuracy: 0.0698 - loss: 3.2250 - val_accuracy: 0.0738 - val_loss: 3.2111\n",
      "Epoch 6/15\n",
      "\u001b[1m19/19\u001b[0m \u001b[32m━━━━━━━━━━━━━━━━━━━━\u001b[0m\u001b[37m\u001b[0m \u001b[1m5s\u001b[0m 280ms/step - accuracy: 0.0922 - loss: 3.1279 - val_accuracy: 0.1409 - val_loss: 3.0405\n",
      "Epoch 7/15\n",
      "\u001b[1m19/19\u001b[0m \u001b[32m━━━━━━━━━━━━━━━━━━━━\u001b[0m\u001b[37m\u001b[0m \u001b[1m10s\u001b[0m 281ms/step - accuracy: 0.1674 - loss: 2.8772 - val_accuracy: 0.2349 - val_loss: 2.8539\n",
      "Epoch 8/15\n",
      "\u001b[1m19/19\u001b[0m \u001b[32m━━━━━━━━━━━━━━━━━━━━\u001b[0m\u001b[37m\u001b[0m \u001b[1m10s\u001b[0m 282ms/step - accuracy: 0.2700 - loss: 2.5411 - val_accuracy: 0.3356 - val_loss: 2.3863\n",
      "Epoch 9/15\n",
      "\u001b[1m19/19\u001b[0m \u001b[32m━━━━━━━━━━━━━━━━━━━━\u001b[0m\u001b[37m\u001b[0m \u001b[1m6s\u001b[0m 328ms/step - accuracy: 0.4047 - loss: 2.0855 - val_accuracy: 0.4899 - val_loss: 1.9906\n",
      "Epoch 10/15\n",
      "\u001b[1m19/19\u001b[0m \u001b[32m━━━━━━━━━━━━━━━━━━━━\u001b[0m\u001b[37m\u001b[0m \u001b[1m6s\u001b[0m 304ms/step - accuracy: 0.5678 - loss: 1.5422 - val_accuracy: 0.6711 - val_loss: 1.4042\n",
      "Epoch 11/15\n",
      "\u001b[1m19/19\u001b[0m \u001b[32m━━━━━━━━━━━━━━━━━━━━\u001b[0m\u001b[37m\u001b[0m \u001b[1m10s\u001b[0m 279ms/step - accuracy: 0.7572 - loss: 0.9654 - val_accuracy: 0.8054 - val_loss: 0.8975\n",
      "Epoch 12/15\n",
      "\u001b[1m19/19\u001b[0m \u001b[32m━━━━━━━━━━━━━━━━━━━━\u001b[0m\u001b[37m\u001b[0m \u001b[1m11s\u001b[0m 308ms/step - accuracy: 0.8666 - loss: 0.5415 - val_accuracy: 0.7651 - val_loss: 0.8082\n",
      "Epoch 13/15\n",
      "\u001b[1m19/19\u001b[0m \u001b[32m━━━━━━━━━━━━━━━━━━━━\u001b[0m\u001b[37m\u001b[0m \u001b[1m10s\u001b[0m 287ms/step - accuracy: 0.8898 - loss: 0.3410 - val_accuracy: 0.8188 - val_loss: 0.7837\n",
      "Epoch 14/15\n",
      "\u001b[1m19/19\u001b[0m \u001b[32m━━━━━━━━━━━━━━━━━━━━\u001b[0m\u001b[37m\u001b[0m \u001b[1m5s\u001b[0m 287ms/step - accuracy: 0.9155 - loss: 0.3060 - val_accuracy: 0.8255 - val_loss: 0.7584\n",
      "Epoch 15/15\n",
      "\u001b[1m19/19\u001b[0m \u001b[32m━━━━━━━━━━━━━━━━━━━━\u001b[0m\u001b[37m\u001b[0m \u001b[1m6s\u001b[0m 294ms/step - accuracy: 0.9338 - loss: 0.2787 - val_accuracy: 0.9128 - val_loss: 0.4178\n"
     ]
    }
   ],
   "source": [
    "\n",
    "# Compilation of the model\n",
    "model_custom_cnn.compile(loss='categorical_crossentropy', optimizer='adam', metrics=['accuracy'])\n",
    "\n",
    "epochs = 15\n",
    "history = model_custom_cnn.fit(X_train, y_train_one_hot, batch_size=32, epochs=epochs, validation_data=(X_test, y_test_one_hot))"
   ]
  },
  {
   "cell_type": "code",
   "execution_count": 14,
   "id": "0642ec92-373a-434c-a2ba-7471765f31d1",
   "metadata": {},
   "outputs": [
    {
     "name": "stderr",
     "output_type": "stream",
     "text": [
      "WARNING:absl:You are saving your model as an HDF5 file via `model.save()` or `keras.saving.save_model(model)`. This file format is considered legacy. We recommend using instead the native Keras format, e.g. `model.save('my_model.keras')` or `keras.saving.save_model(model, 'my_model.keras')`. \n"
     ]
    }
   ],
   "source": [
    "model_custom_cnn.save('TCM93.h5')"
   ]
  },
  {
   "cell_type": "code",
   "execution_count": 28,
   "id": "cd5da3f1-ade9-4451-802b-3357c2ad88a6",
   "metadata": {},
   "outputs": [],
   "source": [
    "model_custom_cnn.save('TCM93.keras')"
   ]
  },
  {
   "cell_type": "code",
   "execution_count": 30,
   "id": "e6e3c38e-6214-410f-a0d1-5482df043781",
   "metadata": {},
   "outputs": [
    {
     "name": "stderr",
     "output_type": "stream",
     "text": [
      "/home/sathish/.local/lib/python3.10/site-packages/keras/src/saving/saving_lib.py:713: UserWarning: Skipping variable loading for optimizer 'rmsprop', because it has 14 variables whereas the saved optimizer has 26 variables. \n",
      "  saveable.load_own_variables(weights_store.get(inner_path))\n"
     ]
    }
   ],
   "source": [
    "loaded_model = tf.keras.models.load_model(\"TCM93.keras\")"
   ]
  },
  {
   "cell_type": "code",
   "execution_count": null,
   "id": "c1bf98af-586f-4c70-bec9-c53c55abbda2",
   "metadata": {},
   "outputs": [],
   "source": []
  },
  {
   "cell_type": "code",
   "execution_count": null,
   "id": "c8cbd37a-1a0a-422c-a607-d448baede272",
   "metadata": {},
   "outputs": [],
   "source": []
  },
  {
   "cell_type": "code",
   "execution_count": null,
   "id": "b4698616-eb27-4b62-9aad-c2fba5b164b4",
   "metadata": {},
   "outputs": [],
   "source": []
  },
  {
   "cell_type": "code",
   "execution_count": 19,
   "id": "e6c1b891-ff1b-4062-8aab-569b6b3d86e0",
   "metadata": {},
   "outputs": [],
   "source": [
    "from tensorflow.keras.models import load_model"
   ]
  },
  {
   "cell_type": "code",
   "execution_count": 23,
   "id": "6cf29021-b391-4718-bd98-cb419e71f063",
   "metadata": {},
   "outputs": [
    {
     "name": "stderr",
     "output_type": "stream",
     "text": [
      "WARNING:absl:Compiled the loaded model, but the compiled metrics have yet to be built. `model.compile_metrics` will be empty until you train or evaluate the model.\n"
     ]
    }
   ],
   "source": [
    "model=load_model(\"TCM93.h5\")"
   ]
  },
  {
   "cell_type": "code",
   "execution_count": 26,
   "id": "d25532cf-97d6-4162-9013-d2b3d4db655f",
   "metadata": {},
   "outputs": [
    {
     "name": "stderr",
     "output_type": "stream",
     "text": [
      "WARNING:absl:Compiled the loaded model, but the compiled metrics have yet to be built. `model.compile_metrics` will be empty until you train or evaluate the model.\n"
     ]
    }
   ],
   "source": [
    "from tensorflow.keras.models import load_model\n",
    "\n",
    "# Load the model\n",
    "model = load_model('TCM93.h5')\n"
   ]
  },
  {
   "cell_type": "code",
   "execution_count": 16,
   "id": "dd9046bd-c7ba-4568-bfe8-c4b1446ae80f",
   "metadata": {},
   "outputs": [
    {
     "name": "stdout",
     "output_type": "stream",
     "text": [
      "\u001b[1m5/5\u001b[0m \u001b[32m━━━━━━━━━━━━━━━━━━━━\u001b[0m\u001b[37m\u001b[0m \u001b[1m1s\u001b[0m 147ms/step\n",
      "[15  9 22  4 24 16  1  4 20  8 14  1 21 27  9  7  0 18 24 15 26 27 14 10\n",
      "  2  5 23 29 19 17 25 16  3 27  6  4 12  1 24  3 26 18  1 16  1  7  0 10\n",
      " 11  7  5 27 14  2  7  9 16  5 23 18 22 18 29 20 21  3 23  1 13 10  4 23\n",
      "  3  5 29 15 11  7 25  5 26 10  9  7  8 10 12 17  4 14 10 24 21  7 18 16\n",
      " 11 17  1 15 26 15  8 10 28  0  7  6 10 19 25  3 19 12 16 16 19 25  7 24\n",
      " 26 28  6  4 10 20 14  3  5 29 23 20  0 29  0  5 15 25 22 11 29 19 16 11\n",
      "  4  7 22 28 26]\n"
     ]
    }
   ],
   "source": [
    "import numpy as np\n",
    "\n",
    "# Predict probabilities\n",
    "y_pred = model_custom_cnn.predict(X_test)\n",
    "\n",
    "# Convert probabilities to class labels\n",
    "y_predict = np.argmax(y_pred, axis=1)\n",
    "\n",
    "print(y_predict)"
   ]
  },
  {
   "cell_type": "code",
   "execution_count": 34,
   "id": "648617eb-d216-4ec9-a7ee-0edaeaf850fb",
   "metadata": {},
   "outputs": [],
   "source": [
    "# Create a mapping from string labels to numeric labels\n",
    "\n",
    "unique_labels = np.unique(y_test)\n",
    "\n",
    "label_mapping = {label: i for i, label in enumerate(unique_labels)}"
   ]
  },
  {
   "cell_type": "code",
   "execution_count": 35,
   "id": "d50af932-6765-44e8-8698-3ae795f63042",
   "metadata": {},
   "outputs": [],
   "source": [
    "#Convert string labels to numeric labels\n",
    "\n",
    "y_test_numeric = np.array([label_mapping[label] if isinstance(label, str) else label for label in y_test])\n",
    "\n",
    "y_predict_numeric = np.array([label_mapping[label] if isinstance(label, str) else label for label in y_predict])\n"
   ]
  },
  {
   "cell_type": "code",
   "execution_count": 36,
   "id": "e3b40f18-53fd-4910-982d-742b466ba852",
   "metadata": {},
   "outputs": [
    {
     "name": "stdout",
     "output_type": "stream",
     "text": [
      "[[4 0 0 0 0 0 0 0 0 0 0 0 0 0 0 0 0 0 0 0 0 0 0 0 0 0 0 0 0 0]\n",
      " [0 6 0 0 1 0 0 0 0 0 0 0 0 0 0 0 0 0 0 0 0 0 0 0 0 0 0 0 0 0]\n",
      " [0 0 0 0 0 0 0 0 0 0 8 0 0 0 0 0 0 0 0 0 0 0 0 0 0 0 0 0 0 0]\n",
      " [0 0 0 0 0 0 0 0 0 0 1 4 0 0 0 0 0 0 0 0 0 0 0 0 0 0 0 0 0 0]\n",
      " [0 0 0 0 0 0 0 0 0 0 0 0 3 0 0 0 0 0 0 0 0 0 0 0 0 0 0 0 0 0]\n",
      " [0 1 0 0 0 0 0 0 0 0 0 0 0 1 0 1 0 0 0 0 0 0 0 0 0 0 0 0 0 0]\n",
      " [0 0 0 0 0 0 0 0 0 0 0 0 0 0 5 0 0 0 0 0 0 0 0 0 0 0 0 0 0 0]\n",
      " [0 0 0 0 0 0 0 0 1 0 0 0 0 0 0 5 0 0 0 0 0 0 0 0 0 0 0 0 0 0]\n",
      " [0 0 0 0 0 0 0 0 0 0 0 0 0 0 0 0 8 1 0 0 0 0 0 0 0 0 0 0 0 0]\n",
      " [0 0 0 0 0 0 0 0 0 0 0 1 0 0 0 0 0 2 0 0 0 0 0 0 0 0 0 0 0 0]\n",
      " [0 0 0 0 0 0 0 0 0 0 0 0 0 0 0 0 0 0 4 0 0 0 0 0 0 0 0 0 0 0]\n",
      " [0 0 0 0 0 0 0 0 0 0 0 0 0 0 0 0 0 0 0 5 0 0 0 0 0 0 0 0 0 0]\n",
      " [0 0 2 2 0 0 0 0 0 0 0 0 0 0 0 0 0 0 0 0 0 0 0 0 0 0 0 0 0 0]\n",
      " [0 0 0 0 0 0 0 0 0 0 0 0 0 0 0 0 0 0 0 0 4 0 0 0 0 0 0 0 0 0]\n",
      " [0 0 0 0 0 0 0 0 0 0 0 0 0 0 0 0 0 0 1 0 0 3 0 0 0 1 0 0 0 0]\n",
      " [0 0 0 0 0 0 0 0 0 0 0 0 0 0 0 0 0 0 0 0 0 0 4 0 0 0 0 0 0 0]\n",
      " [0 0 0 0 0 0 0 0 0 0 0 0 0 0 0 0 0 0 0 0 0 0 0 5 0 0 0 0 0 0]\n",
      " [0 0 0 0 0 0 0 0 0 0 0 0 0 0 0 0 0 0 0 0 0 0 0 0 5 0 0 0 0 0]\n",
      " [0 0 0 0 0 0 0 0 0 0 0 0 0 0 0 0 0 0 0 0 0 0 0 0 0 3 0 0 0 0]\n",
      " [0 0 0 0 0 0 0 0 0 0 0 0 0 0 0 0 0 0 0 0 0 0 0 0 0 0 6 0 0 0]\n",
      " [0 0 0 0 0 0 0 0 0 0 0 0 0 0 0 0 0 0 0 0 0 0 0 0 0 0 0 4 0 0]\n",
      " [0 0 0 0 0 0 0 0 0 0 0 0 0 0 0 0 0 0 0 0 0 0 0 0 0 0 0 0 3 0]\n",
      " [0 0 0 0 0 0 0 0 0 0 0 0 0 0 0 0 0 0 0 0 0 0 0 0 0 1 0 0 0 6]\n",
      " [0 0 0 4 0 0 0 0 0 0 0 0 0 0 0 0 0 0 0 0 0 0 0 0 0 0 0 0 0 0]\n",
      " [0 0 0 0 6 1 0 1 0 0 0 0 0 0 0 0 0 0 0 0 0 0 0 0 0 0 0 0 0 0]\n",
      " [0 0 0 0 0 5 0 3 0 0 0 0 0 0 0 0 0 0 0 0 0 0 0 0 0 0 0 0 0 0]\n",
      " [0 0 0 0 0 0 3 0 0 0 0 0 0 0 0 0 0 0 0 0 0 0 0 0 0 0 0 0 0 0]\n",
      " [0 0 0 0 0 1 0 6 0 0 0 0 0 0 0 0 0 0 0 0 0 0 0 0 0 0 0 0 0 0]\n",
      " [1 0 0 0 0 0 0 0 2 0 0 0 0 0 0 0 0 0 0 0 0 0 0 0 0 0 0 0 0 0]\n",
      " [0 0 0 0 0 0 0 0 0 4 0 0 0 0 0 0 0 0 0 0 0 0 0 0 0 0 0 0 0 0]]\n"
     ]
    }
   ],
   "source": [
    "# Now calculate the confusion matrix\n",
    "\n",
    "cm = confusion_matrix(y_test_numeric, y_predict_numeric)\n",
    "\n",
    "print(cm)"
   ]
  },
  {
   "cell_type": "code",
   "execution_count": 34,
   "id": "a7d19228-aaa3-40b4-9de2-7bc4236e6aff",
   "metadata": {},
   "outputs": [
    {
     "data": {
      "image/png": "[encoded data removed]",
      "text/plain": [
       "<Figure size 640x480 with 1 Axes>"
      ]
     },
     "metadata": {},
     "output_type": "display_data"
    },
    {
     "name": "stdout",
     "output_type": "stream",
     "text": [
      "\u001b[1m1/1\u001b[0m \u001b[32m━━━━━━━━━━━━━━━━━━━━\u001b[0m\u001b[37m\u001b[0m \u001b[1m0s\u001b[0m 173ms/step\n"
     ]
    }
   ],
   "source": [
    "import numpy as np\n",
    "from keras.preprocessing import image\n",
    "test_image=image.load_img(\"/home/sathish/Downloads/Road Signs classification dataset/TEST/1/001_1_0006_1_j.png\",target_size=(32,32,3))\n",
    "plt.imshow(test_image)\n",
    "plt.show()\n",
    "test_image=image.img_to_array(test_image)\n",
    "test_image=np.expand_dims(test_image,axis=0)\n",
    "model=tf.keras.models.load_model(\"TCM93.keras\")\n",
    "result=model.predict(test_image)\n"
   ]
  },
  {
   "cell_type": "code",
   "execution_count": 35,
   "id": "3543fd7c-aa70-4bf8-b92c-b4bd804c2bce",
   "metadata": {},
   "outputs": [
    {
     "data": {
      "text/plain": [
       "array([[3.63195166e-02, 2.13730978e-04, 5.80673339e-03, 2.38269786e-05,\n",
       "        6.12727329e-02, 7.64429150e-03, 6.72257665e-05, 2.81726592e-04,\n",
       "        8.00460204e-02, 5.15797315e-03, 8.66032904e-04, 1.13061313e-02,\n",
       "        5.02827825e-05, 5.20880148e-03, 3.24331450e-06, 5.72960032e-03,\n",
       "        2.78172429e-05, 1.23491678e-02, 1.49147729e-06, 1.61809125e-03,\n",
       "        6.19289219e-01, 2.56810300e-02, 7.89363286e-04, 1.57162845e-02,\n",
       "        4.40247078e-07, 1.03747085e-01, 7.26531071e-05, 6.04513392e-04,\n",
       "        3.47305577e-05, 7.02728939e-05]], dtype=float32)"
      ]
     },
     "execution_count": 35,
     "metadata": {},
     "output_type": "execute_result"
    }
   ],
   "source": [
    "result"
   ]
  },
  {
   "cell_type": "code",
   "execution_count": 39,
   "id": "d858e578-244f-4524-8407-71ae6dc85dda",
   "metadata": {},
   "outputs": [
    {
     "data": {
      "image/png": "[encoded data removed]",
      "text/plain": [
       "<Figure size 640x480 with 1 Axes>"
      ]
     },
     "metadata": {},
     "output_type": "display_data"
    },
    {
     "name": "stdout",
     "output_type": "stream",
     "text": [
      "\u001b[1m1/1\u001b[0m \u001b[32m━━━━━━━━━━━━━━━━━━━━\u001b[0m\u001b[37m\u001b[0m \u001b[1m0s\u001b[0m 167ms/step\n"
     ]
    }
   ],
   "source": [
    "import numpy as np\n",
    "from keras.preprocessing import image\n",
    "test_image=image.load_img(\"/home/sathish/Downloads/Road Signs classification dataset/TEST/0/000_0011.png\",target_size=(32,32,3))\n",
    "plt.imshow(test_image)\n",
    "plt.show()\n",
    "test_image=image.img_to_array(test_image)\n",
    "test_image=np.expand_dims(test_image,axis=0)\n",
    "model=tf.keras.models.load_model(\"TCM93.keras\")\n",
    "result1=model.predict(test_image)\n"
   ]
  },
  {
   "cell_type": "code",
   "execution_count": 40,
   "id": "2a7c3123-ea18-4e29-a703-3e280d11e333",
   "metadata": {},
   "outputs": [
    {
     "data": {
      "text/plain": [
       "array([[9.9983609e-01, 1.2360334e-06, 6.9591401e-15, 3.5888192e-10,\n",
       "        3.1727513e-06, 6.4682829e-12, 1.1817691e-07, 5.9088177e-07,\n",
       "        6.1841914e-05, 9.4747367e-07, 1.6877458e-11, 9.6608858e-08,\n",
       "        4.8435909e-14, 9.7908821e-07, 9.1714546e-06, 7.8001940e-06,\n",
       "        1.5055656e-05, 2.0947176e-10, 1.5382913e-14, 1.5831429e-07,\n",
       "        1.5394953e-06, 2.5892857e-07, 4.5134971e-08, 4.4058655e-08,\n",
       "        1.1130835e-11, 6.0784394e-05, 1.7604745e-13, 2.0974442e-10,\n",
       "        1.4539105e-10, 2.6908432e-12]], dtype=float32)"
      ]
     },
     "execution_count": 40,
     "metadata": {},
     "output_type": "execute_result"
    }
   ],
   "source": [
    "result1"
   ]
  },
  {
   "cell_type": "code",
   "execution_count": 50,
   "id": "ac3774dd-ecc7-41e5-9be5-f27960ae2efe",
   "metadata": {},
   "outputs": [
    {
     "data": {
      "text/html": [
       "<div>\n",
       "<style scoped>\n",
       "    .dataframe tbody tr th:only-of-type {\n",
       "        vertical-align: middle;\n",
       "    }\n",
       "\n",
       "    .dataframe tbody tr th {\n",
       "        vertical-align: top;\n",
       "    }\n",
       "\n",
       "    .dataframe thead th {\n",
       "        text-align: right;\n",
       "    }\n",
       "</style>\n",
       "<table border=\"1\" class=\"dataframe\">\n",
       "  <thead>\n",
       "    <tr style=\"text-align: right;\">\n",
       "      <th></th>\n",
       "      <th>ClassId</th>\n",
       "      <th>Name</th>\n",
       "    </tr>\n",
       "  </thead>\n",
       "  <tbody>\n",
       "    <tr>\n",
       "      <th>0</th>\n",
       "      <td>0</td>\n",
       "      <td>Speed limit (5km/h)</td>\n",
       "    </tr>\n",
       "    <tr>\n",
       "      <th>1</th>\n",
       "      <td>1</td>\n",
       "      <td>Speed limit (15km/h)</td>\n",
       "    </tr>\n",
       "    <tr>\n",
       "      <th>2</th>\n",
       "      <td>2</td>\n",
       "      <td>Speed limit (30km/h)</td>\n",
       "    </tr>\n",
       "    <tr>\n",
       "      <th>3</th>\n",
       "      <td>3</td>\n",
       "      <td>Speed limit (40km/h)</td>\n",
       "    </tr>\n",
       "    <tr>\n",
       "      <th>4</th>\n",
       "      <td>4</td>\n",
       "      <td>Speed limit (50km/h)</td>\n",
       "    </tr>\n",
       "    <tr>\n",
       "      <th>5</th>\n",
       "      <td>5</td>\n",
       "      <td>Speed limit (60km/h)</td>\n",
       "    </tr>\n",
       "    <tr>\n",
       "      <th>6</th>\n",
       "      <td>6</td>\n",
       "      <td>Speed limit (70km/h)</td>\n",
       "    </tr>\n",
       "    <tr>\n",
       "      <th>7</th>\n",
       "      <td>7</td>\n",
       "      <td>speed limit (80km/h)</td>\n",
       "    </tr>\n",
       "    <tr>\n",
       "      <th>8</th>\n",
       "      <td>8</td>\n",
       "      <td>Dont Go straight or left</td>\n",
       "    </tr>\n",
       "    <tr>\n",
       "      <th>9</th>\n",
       "      <td>9</td>\n",
       "      <td>Unknown7</td>\n",
       "    </tr>\n",
       "    <tr>\n",
       "      <th>10</th>\n",
       "      <td>10</td>\n",
       "      <td>Dont Go straight</td>\n",
       "    </tr>\n",
       "    <tr>\n",
       "      <th>11</th>\n",
       "      <td>11</td>\n",
       "      <td>Dont Go Left</td>\n",
       "    </tr>\n",
       "    <tr>\n",
       "      <th>12</th>\n",
       "      <td>12</td>\n",
       "      <td>Dont Go Left or Right</td>\n",
       "    </tr>\n",
       "    <tr>\n",
       "      <th>13</th>\n",
       "      <td>13</td>\n",
       "      <td>Dont Go Right</td>\n",
       "    </tr>\n",
       "    <tr>\n",
       "      <th>14</th>\n",
       "      <td>14</td>\n",
       "      <td>Dont overtake from Left</td>\n",
       "    </tr>\n",
       "    <tr>\n",
       "      <th>15</th>\n",
       "      <td>15</td>\n",
       "      <td>No Uturn</td>\n",
       "    </tr>\n",
       "    <tr>\n",
       "      <th>16</th>\n",
       "      <td>16</td>\n",
       "      <td>No Car</td>\n",
       "    </tr>\n",
       "    <tr>\n",
       "      <th>17</th>\n",
       "      <td>17</td>\n",
       "      <td>No horn</td>\n",
       "    </tr>\n",
       "    <tr>\n",
       "      <th>18</th>\n",
       "      <td>18</td>\n",
       "      <td>No entry</td>\n",
       "    </tr>\n",
       "    <tr>\n",
       "      <th>19</th>\n",
       "      <td>19</td>\n",
       "      <td>No stopping</td>\n",
       "    </tr>\n",
       "    <tr>\n",
       "      <th>20</th>\n",
       "      <td>20</td>\n",
       "      <td>Go straight or right</td>\n",
       "    </tr>\n",
       "    <tr>\n",
       "      <th>21</th>\n",
       "      <td>21</td>\n",
       "      <td>Go straight</td>\n",
       "    </tr>\n",
       "    <tr>\n",
       "      <th>22</th>\n",
       "      <td>22</td>\n",
       "      <td>Go Left</td>\n",
       "    </tr>\n",
       "    <tr>\n",
       "      <th>23</th>\n",
       "      <td>23</td>\n",
       "      <td>Go Left or right</td>\n",
       "    </tr>\n",
       "    <tr>\n",
       "      <th>24</th>\n",
       "      <td>24</td>\n",
       "      <td>Go Right</td>\n",
       "    </tr>\n",
       "    <tr>\n",
       "      <th>25</th>\n",
       "      <td>25</td>\n",
       "      <td>keep Left</td>\n",
       "    </tr>\n",
       "    <tr>\n",
       "      <th>26</th>\n",
       "      <td>26</td>\n",
       "      <td>keep Right</td>\n",
       "    </tr>\n",
       "    <tr>\n",
       "      <th>27</th>\n",
       "      <td>27</td>\n",
       "      <td>Roundabout mandatory</td>\n",
       "    </tr>\n",
       "    <tr>\n",
       "      <th>28</th>\n",
       "      <td>28</td>\n",
       "      <td>watch out for cars</td>\n",
       "    </tr>\n",
       "    <tr>\n",
       "      <th>29</th>\n",
       "      <td>29</td>\n",
       "      <td>Horn</td>\n",
       "    </tr>\n",
       "  </tbody>\n",
       "</table>\n",
       "</div>"
      ],
      "text/plain": [
       "    ClassId                      Name\n",
       "0         0       Speed limit (5km/h)\n",
       "1         1      Speed limit (15km/h)\n",
       "2         2      Speed limit (30km/h)\n",
       "3         3      Speed limit (40km/h)\n",
       "4         4      Speed limit (50km/h)\n",
       "5         5      Speed limit (60km/h)\n",
       "6         6      Speed limit (70km/h)\n",
       "7         7      speed limit (80km/h)\n",
       "8         8  Dont Go straight or left\n",
       "9         9                  Unknown7\n",
       "10       10          Dont Go straight\n",
       "11       11              Dont Go Left\n",
       "12       12     Dont Go Left or Right\n",
       "13       13             Dont Go Right\n",
       "14       14   Dont overtake from Left\n",
       "15       15                  No Uturn\n",
       "16       16                    No Car\n",
       "17       17                   No horn\n",
       "18       18                  No entry\n",
       "19       19               No stopping\n",
       "20       20      Go straight or right\n",
       "21       21               Go straight\n",
       "22       22                   Go Left\n",
       "23       23          Go Left or right\n",
       "24       24                  Go Right\n",
       "25       25                 keep Left\n",
       "26       26                keep Right\n",
       "27       27      Roundabout mandatory\n",
       "28       28        watch out for cars\n",
       "29       29                      Horn"
      ]
     },
     "execution_count": 50,
     "metadata": {},
     "output_type": "execute_result"
    }
   ],
   "source": [
    "import pandas as pd\n",
    "df=pd.read_csv(\"/home/sathish/Downloads/Road Signs classification dataset/labels.csv\")\n",
    "df"
   ]
  },
  {
   "cell_type": "code",
   "execution_count": null,
   "id": "fa2e86bd-1c4f-44ae-8087-a86fe6721d41",
   "metadata": {},
   "outputs": [],
   "source": [
    "classification=["
   ]
  },
  {
   "cell_type": "code",
   "execution_count": null,
   "id": "714b5a9c-ae1e-4b12-8976-534730283c94",
   "metadata": {},
   "outputs": [],
   "source": []
  },
  {
   "cell_type": "code",
   "execution_count": null,
   "id": "699d0304-d136-4ba7-9db1-79a693365fdc",
   "metadata": {},
   "outputs": [],
   "source": []
  },
  {
   "cell_type": "code",
   "execution_count": null,
   "id": "43372ba3-e5c9-4f05-bc6d-3ad817c38cbc",
   "metadata": {},
   "outputs": [],
   "source": []
  },
  {
   "cell_type": "code",
   "execution_count": null,
   "id": "da8c0b37-831b-4141-84a9-8ae2b5fe5520",
   "metadata": {},
   "outputs": [],
   "source": []
  },
  {
   "cell_type": "code",
   "execution_count": null,
   "id": "127c348d-24c0-49bd-9b11-5abf7a76c291",
   "metadata": {},
   "outputs": [],
   "source": []
  },
  {
   "cell_type": "code",
   "execution_count": null,
   "id": "f96ec2e0-8d5b-45db-ab49-32d905b8fa9b",
   "metadata": {},
   "outputs": [],
   "source": []
  },
  {
   "cell_type": "code",
   "execution_count": 49,
   "id": "3142aaaa-9d31-4b04-bd60-34c2f5ea39b2",
   "metadata": {},
   "outputs": [
    {
     "ename": "ValueError",
     "evalue": "The truth value of an array with more than one element is ambiguous. Use a.any() or a.all()",
     "output_type": "error",
     "traceback": [
      "\u001b[0;31m---------------------------------------------------------------------------\u001b[0m",
      "\u001b[0;31mValueError\u001b[0m                                Traceback (most recent call last)",
      "Cell \u001b[0;32mIn[49], line 5\u001b[0m\n\u001b[1;32m      3\u001b[0m \u001b[38;5;28;01mfor\u001b[39;00m i \u001b[38;5;129;01min\u001b[39;00m \u001b[38;5;28mrange\u001b[39m(\u001b[38;5;241m30\u001b[39m):\n\u001b[1;32m      4\u001b[0m     \u001b[38;5;28;01mfor\u001b[39;00m j \u001b[38;5;129;01min\u001b[39;00m \u001b[38;5;28mrange\u001b[39m(\u001b[38;5;241m30\u001b[39m):\n\u001b[0;32m----> 5\u001b[0m         \u001b[38;5;28;01mif\u001b[39;00m (x[list_index[i]] \u001b[38;5;241m>\u001b[39m x[list_index[j]]):  \u001b[38;5;66;03m# Check if any element is True\u001b[39;00m\n\u001b[1;32m      6\u001b[0m             temp \u001b[38;5;241m=\u001b[39m list_index[i]\n\u001b[1;32m      7\u001b[0m             list_index[i] \u001b[38;5;241m=\u001b[39m list_index[j]\n",
      "\u001b[0;31mValueError\u001b[0m: The truth value of an array with more than one element is ambiguous. Use a.any() or a.all()"
     ]
    }
   ],
   "source": [
    "list_index=[0,1,2,3,4,5,6,7,8,9,10,11,12,13,14,15,16,17,18,19,20,21,22,23,24,25,26,27,28,29]\n",
    "x=result1\n",
    "for i in range(30):\n",
    "    for j in range(30):\n",
    "        if (x[list_index[i]] > x[list_index[j]]):  # Check if any element is True\n",
    "            temp = list_index[i]\n",
    "            list_index[i] = list_index[j]\n",
    "            list_index[j] = temp\n",
    "print(list_index)\n",
    "    "
   ]
  },
  {
   "cell_type": "code",
   "execution_count": 47,
   "id": "717b790d-ac90-4c19-8d68-317c5b19424d",
   "metadata": {},
   "outputs": [
    {
     "ename": "TypeError",
     "evalue": "array() missing required argument 'object' (pos 0)",
     "output_type": "error",
     "traceback": [
      "\u001b[0;31m---------------------------------------------------------------------------\u001b[0m",
      "\u001b[0;31mTypeError\u001b[0m                                 Traceback (most recent call last)",
      "Cell \u001b[0;32mIn[47], line 3\u001b[0m\n\u001b[1;32m      1\u001b[0m \u001b[38;5;28;01mimport\u001b[39;00m \u001b[38;5;21;01mnumpy\u001b[39;00m \u001b[38;5;28;01mas\u001b[39;00m \u001b[38;5;21;01mnp\u001b[39;00m\n\u001b[0;32m----> 3\u001b[0m x \u001b[38;5;241m=\u001b[39m \u001b[43mnp\u001b[49m\u001b[38;5;241;43m.\u001b[39;49m\u001b[43marray\u001b[49m\u001b[43m(\u001b[49m\u001b[43m)\u001b[49m  \u001b[38;5;66;03m# Array with only one element\u001b[39;00m\n\u001b[1;32m      4\u001b[0m list_index\u001b[38;5;241m=\u001b[39m[\u001b[38;5;241m0\u001b[39m,\u001b[38;5;241m1\u001b[39m,\u001b[38;5;241m2\u001b[39m,\u001b[38;5;241m3\u001b[39m,\u001b[38;5;241m4\u001b[39m,\u001b[38;5;241m5\u001b[39m,\u001b[38;5;241m6\u001b[39m,\u001b[38;5;241m7\u001b[39m,\u001b[38;5;241m8\u001b[39m,\u001b[38;5;241m9\u001b[39m,\u001b[38;5;241m10\u001b[39m,\u001b[38;5;241m11\u001b[39m,\u001b[38;5;241m12\u001b[39m,\u001b[38;5;241m13\u001b[39m,\u001b[38;5;241m14\u001b[39m,\u001b[38;5;241m15\u001b[39m,\u001b[38;5;241m16\u001b[39m,\u001b[38;5;241m17\u001b[39m,\u001b[38;5;241m18\u001b[39m,\u001b[38;5;241m19\u001b[39m,\u001b[38;5;241m20\u001b[39m,\u001b[38;5;241m21\u001b[39m,\u001b[38;5;241m22\u001b[39m,\u001b[38;5;241m23\u001b[39m,\u001b[38;5;241m24\u001b[39m,\u001b[38;5;241m25\u001b[39m,\u001b[38;5;241m26\u001b[39m,\u001b[38;5;241m27\u001b[39m,\u001b[38;5;241m28\u001b[39m,\u001b[38;5;241m29\u001b[39m] \u001b[38;5;66;03m# Adjusted list_index to only include valid indices\u001b[39;00m\n\u001b[1;32m      6\u001b[0m \u001b[38;5;28;01mfor\u001b[39;00m i \u001b[38;5;129;01min\u001b[39;00m \u001b[38;5;28mrange\u001b[39m(\u001b[38;5;28mlen\u001b[39m(list_index)):\n",
      "\u001b[0;31mTypeError\u001b[0m: array() missing required argument 'object' (pos 0)"
     ]
    }
   ],
   "source": [
    "import numpy as np\n",
    "\n",
    "x = np.array()  # Array with only one element\n",
    "list_index=[0,1,2,3,4,5,6,7,8,9,10,11,12,13,14,15,16,17,18,19,20,21,22,23,24,25,26,27,28,29] # Adjusted list_index to only include valid indices\n",
    "\n",
    "for i in range(len(list_index)):\n",
    "    for j in range(len(list_index)):\n",
    "        if (x[list_index[i]] > x[list_index[j]]).any():\n",
    "            temp = list_index[i]\n",
    "            list_index[i] = list_index[j]\n",
    "            list_index[j] = temp"
   ]
  },
  {
   "cell_type": "code",
   "execution_count": null,
   "id": "9386b806-41b4-45ef-93d5-7d39e3e45441",
   "metadata": {},
   "outputs": [],
   "source": []
  }
 ],
 "metadata": {
  "kernelspec": {
   "display_name": "Python 3 (ipykernel)",
   "language": "python",
   "name": "python3"
  },
  "language_info": {
   "codemirror_mode": {
    "name": "ipython",
    "version": 3
   },
   "file_extension": ".py",
   "mimetype": "text/x-python",
   "name": "python",
   "nbconvert_exporter": "python",
   "pygments_lexer": "ipython3",
   "version": "3.10.12"
  }
 },
 "nbformat": 4,
 "nbformat_minor": 5
}
