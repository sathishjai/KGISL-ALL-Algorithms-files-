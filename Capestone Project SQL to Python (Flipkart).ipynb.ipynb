{
 "cells": [
  {
   "cell_type": "markdown",
   "id": "fc20261d-be84-40f9-a641-002cf400bdf3",
   "metadata": {},
   "source": [
    "# __Capestone Project :__\n",
    "#### Getting Data from SQL"
   ]
  },
  {
   "cell_type": "markdown",
   "id": "3b0af98d-aa80-455e-8f2c-fea84c9fc761",
   "metadata": {},
   "source": [
    "#### __Importing Data and Required Packages__"
   ]
  },
  {
   "cell_type": "code",
   "execution_count": 14,
   "id": "a96afb4d-3567-4a23-b750-a852f6f39f4f",
   "metadata": {},
   "outputs": [],
   "source": [
    "import mysql.connector\n",
    "from pymysql import connect\n",
    "from mysql.connector import Error\n",
    "import pandas as pd"
   ]
  },
  {
   "cell_type": "markdown",
   "id": "8692455f-3698-4e45-93db-7d78ef10c8a6",
   "metadata": {},
   "source": [
    "#### __Connecting MySQL Databases to Python__"
   ]
  },
  {
   "cell_type": "code",
   "execution_count": 17,
   "id": "29b00d8f-d880-4789-943f-a2019bd17573",
   "metadata": {},
   "outputs": [
    {
     "name": "stdout",
     "output_type": "stream",
     "text": [
      "('cinimas',)\n",
      "('ecommerce_sales',)\n",
      "('human',)\n",
      "('info',)\n",
      "('information_schema',)\n",
      "('mysql',)\n",
      "('performance_schema',)\n",
      "('practiseecommerce_sales',)\n",
      "('python_to_sql',)\n",
      "('pytosql',)\n",
      "('sakila',)\n",
      "('students',)\n",
      "('sys',)\n",
      "('upgrad',)\n",
      "('world',)\n"
     ]
    }
   ],
   "source": [
    "# Connecting MySQL Databases to Python and Cursor:\n",
    "db = connect(host = \"localhost\", user = \"root\", password = \"Drsdrp@007\")\n",
    "curs = db.cursor()\n",
    "query = 'show databases'\n",
    "curs.execute(query)\n",
    "db=curs.fetchall()\n",
    "for i in db:\n",
    "    print(i)"
   ]
  },
  {
   "cell_type": "markdown",
   "id": "40e9f852-c6fb-4b3f-b285-ae1b9365df9b",
   "metadata": {},
   "source": [
    "### __Fetching Table from SQL Database__"
   ]
  },
  {
   "cell_type": "code",
   "execution_count": 22,
   "id": "e55d01bb-585b-4b53-880f-3ada9f08fdbd",
   "metadata": {},
   "outputs": [
    {
     "name": "stdout",
     "output_type": "stream",
     "text": [
      "('flipcart_mobile_products',)\n",
      "('movies_list',)\n"
     ]
    }
   ],
   "source": [
    "connectivity = connect(host = \"localhost\", user = \"root\", password = \"Drsdrp@007\", database = 'pytosql')\n",
    "curs = connectivity.cursor()\n",
    "query = 'show tables'\n",
    "curs.execute(query)\n",
    "data = curs.fetchall()\n",
    "for x in data:\n",
    "    print(x)"
   ]
  },
  {
   "cell_type": "code",
   "execution_count": 26,
   "id": "4001f1c7-aa94-4fbf-99f0-2b05b5d85920",
   "metadata": {},
   "outputs": [
    {
     "name": "stdout",
     "output_type": "stream",
     "text": [
      "No.of Rows in Table : 120\n"
     ]
    }
   ],
   "source": [
    "query = 'select * from flipcart_mobile_products'\n",
    "print('No.of Rows in Table :',curs.execute(query))"
   ]
  },
  {
   "cell_type": "markdown",
   "id": "92f65106-7d68-4661-a619-8b4ec9978120",
   "metadata": {},
   "source": [
    "### __Converting the SQL Data Table to DataFrame using Pandas__"
   ]
  },
  {
   "cell_type": "code",
   "execution_count": 29,
   "id": "dd07799b-9dcd-43cc-8cea-add6dec92410",
   "metadata": {},
   "outputs": [
    {
     "name": "stderr",
     "output_type": "stream",
     "text": [
      "C:\\Users\\Admin\\AppData\\Local\\Temp\\ipykernel_1200\\2733075093.py:2: UserWarning: pandas only supports SQLAlchemy connectable (engine/connection) or database string URI or sqlite3 DBAPI2 connection. Other DBAPI2 objects are not tested. Please consider using SQLAlchemy.\n",
      "  df=pd.read_sql(query,connectivity)\n"
     ]
    }
   ],
   "source": [
    "import pandas as pd\n",
    "df=pd.read_sql(query,connectivity)"
   ]
  },
  {
   "cell_type": "code",
   "execution_count": 33,
   "id": "8fea20d9-a738-469c-bc5b-789c608461e8",
   "metadata": {},
   "outputs": [
    {
     "name": "stdout",
     "output_type": "stream",
     "text": [
      "Flipcart Mobile Products :\n",
      "======================================================================================================================================================\n"
     ]
    },
    {
     "data": {
      "text/html": [
       "<div>\n",
       "<style scoped>\n",
       "    .dataframe tbody tr th:only-of-type {\n",
       "        vertical-align: middle;\n",
       "    }\n",
       "\n",
       "    .dataframe tbody tr th {\n",
       "        vertical-align: top;\n",
       "    }\n",
       "\n",
       "    .dataframe thead th {\n",
       "        text-align: right;\n",
       "    }\n",
       "</style>\n",
       "<table border=\"1\" class=\"dataframe\">\n",
       "  <thead>\n",
       "    <tr style=\"text-align: right;\">\n",
       "      <th></th>\n",
       "      <th>Name</th>\n",
       "      <th>Ratings_Stars</th>\n",
       "      <th>No._of_Ratings_and_Review</th>\n",
       "      <th>Product_Description</th>\n",
       "      <th>Price</th>\n",
       "    </tr>\n",
       "  </thead>\n",
       "  <tbody>\n",
       "    <tr>\n",
       "      <th>0</th>\n",
       "      <td>Motorola G34 5G (Ocean Green, 128 GB)</td>\n",
       "      <td>4.2</td>\n",
       "      <td>76,522 Ratings&amp;5,880 Reviews</td>\n",
       "      <td>8 GB RAM | 128 GB ROM16.51 cm (6.5 inch) HD+ D...</td>\n",
       "      <td>₹11,999</td>\n",
       "    </tr>\n",
       "    <tr>\n",
       "      <th>1</th>\n",
       "      <td>POCO C65 (Pastel Blue, 128 GB)</td>\n",
       "      <td>4.3</td>\n",
       "      <td>23,219 Ratings&amp;1,343 Reviews</td>\n",
       "      <td>4 GB RAM | 128 GB ROM | Expandable Upto 1 TB17...</td>\n",
       "      <td>₹6,799</td>\n",
       "    </tr>\n",
       "    <tr>\n",
       "      <th>2</th>\n",
       "      <td>Motorola G34 5G (Charcoal Black, 128 GB)</td>\n",
       "      <td>4.2</td>\n",
       "      <td>76,522 Ratings&amp;5,880 Reviews</td>\n",
       "      <td>8 GB RAM | 128 GB ROM16.51 cm (6.5 inch) HD+ D...</td>\n",
       "      <td>₹11,999</td>\n",
       "    </tr>\n",
       "    <tr>\n",
       "      <th>3</th>\n",
       "      <td>Motorola G34 5G (Ice Blue, 128 GB)</td>\n",
       "      <td>4.2</td>\n",
       "      <td>76,522 Ratings&amp;5,880 Reviews</td>\n",
       "      <td>8 GB RAM | 128 GB ROM16.51 cm (6.5 inch) HD+ D...</td>\n",
       "      <td>₹11,999</td>\n",
       "    </tr>\n",
       "    <tr>\n",
       "      <th>4</th>\n",
       "      <td>POCO M6 Pro 5G (Power Black, 128 GB)</td>\n",
       "      <td>4.2</td>\n",
       "      <td>97,319 Ratings&amp;6,288 Reviews</td>\n",
       "      <td>6 GB RAM | 128 GB ROM | Expandable Upto 1 TB17...</td>\n",
       "      <td>₹9,999</td>\n",
       "    </tr>\n",
       "    <tr>\n",
       "      <th>...</th>\n",
       "      <td>...</td>\n",
       "      <td>...</td>\n",
       "      <td>...</td>\n",
       "      <td>...</td>\n",
       "      <td>...</td>\n",
       "    </tr>\n",
       "    <tr>\n",
       "      <th>115</th>\n",
       "      <td>CMF by Nothing Phone 1 (Orange, 128 GB)</td>\n",
       "      <td>4.3</td>\n",
       "      <td>4,286 Ratings&amp;351 Reviews</td>\n",
       "      <td>8 GB RAM | 128 GB ROM | Expandable Upto 2 TB16...</td>\n",
       "      <td>₹17,999</td>\n",
       "    </tr>\n",
       "    <tr>\n",
       "      <th>116</th>\n",
       "      <td>CMF by Nothing Phone 1 (Light Green, 128 GB)</td>\n",
       "      <td>4.3</td>\n",
       "      <td>4,286 Ratings&amp;351 Reviews</td>\n",
       "      <td>8 GB RAM | 128 GB ROM | Expandable Upto 2 TB16...</td>\n",
       "      <td>₹17,999</td>\n",
       "    </tr>\n",
       "    <tr>\n",
       "      <th>117</th>\n",
       "      <td>LAVA A3 Vibe DS Keypad Mobile| 1750 mAh Batter...</td>\n",
       "      <td>4.2</td>\n",
       "      <td>1,339 Ratings&amp;100 Reviews</td>\n",
       "      <td>32 MB ROM | Expandable Upto 32 GB4.5 cm (1.77 ...</td>\n",
       "      <td>₹1,199</td>\n",
       "    </tr>\n",
       "    <tr>\n",
       "      <th>118</th>\n",
       "      <td>Apple iPhone 15 Plus (Black, 256 GB)</td>\n",
       "      <td>4.6</td>\n",
       "      <td>8,819 Ratings&amp;693 Reviews</td>\n",
       "      <td>256 GB ROM17.02 cm (6.7 inch) Super Retina XDR...</td>\n",
       "      <td>₹85,999</td>\n",
       "    </tr>\n",
       "    <tr>\n",
       "      <th>119</th>\n",
       "      <td>Samsung Galaxy S21 FE 5G with Snapdragon 888 (...</td>\n",
       "      <td>4.3</td>\n",
       "      <td>1,46,043 Ratings&amp;13,873 Reviews</td>\n",
       "      <td>8 GB RAM | 256 GB ROM16.26 cm (6.4 inch) Full ...</td>\n",
       "      <td>₹27,303</td>\n",
       "    </tr>\n",
       "  </tbody>\n",
       "</table>\n",
       "<p>120 rows × 5 columns</p>\n",
       "</div>"
      ],
      "text/plain": [
       "                                                  Name Ratings_Stars  \\\n",
       "0                Motorola G34 5G (Ocean Green, 128 GB)           4.2   \n",
       "1                       POCO C65 (Pastel Blue, 128 GB)           4.3   \n",
       "2             Motorola G34 5G (Charcoal Black, 128 GB)           4.2   \n",
       "3                   Motorola G34 5G (Ice Blue, 128 GB)           4.2   \n",
       "4                 POCO M6 Pro 5G (Power Black, 128 GB)           4.2   \n",
       "..                                                 ...           ...   \n",
       "115            CMF by Nothing Phone 1 (Orange, 128 GB)           4.3   \n",
       "116       CMF by Nothing Phone 1 (Light Green, 128 GB)           4.3   \n",
       "117  LAVA A3 Vibe DS Keypad Mobile| 1750 mAh Batter...           4.2   \n",
       "118               Apple iPhone 15 Plus (Black, 256 GB)           4.6   \n",
       "119  Samsung Galaxy S21 FE 5G with Snapdragon 888 (...           4.3   \n",
       "\n",
       "           No._of_Ratings_and_Review  \\\n",
       "0       76,522 Ratings&5,880 Reviews   \n",
       "1       23,219 Ratings&1,343 Reviews   \n",
       "2       76,522 Ratings&5,880 Reviews   \n",
       "3       76,522 Ratings&5,880 Reviews   \n",
       "4       97,319 Ratings&6,288 Reviews   \n",
       "..                               ...   \n",
       "115        4,286 Ratings&351 Reviews   \n",
       "116        4,286 Ratings&351 Reviews   \n",
       "117        1,339 Ratings&100 Reviews   \n",
       "118        8,819 Ratings&693 Reviews   \n",
       "119  1,46,043 Ratings&13,873 Reviews   \n",
       "\n",
       "                                   Product_Description    Price  \n",
       "0    8 GB RAM | 128 GB ROM16.51 cm (6.5 inch) HD+ D...  ₹11,999  \n",
       "1    4 GB RAM | 128 GB ROM | Expandable Upto 1 TB17...   ₹6,799  \n",
       "2    8 GB RAM | 128 GB ROM16.51 cm (6.5 inch) HD+ D...  ₹11,999  \n",
       "3    8 GB RAM | 128 GB ROM16.51 cm (6.5 inch) HD+ D...  ₹11,999  \n",
       "4    6 GB RAM | 128 GB ROM | Expandable Upto 1 TB17...   ₹9,999  \n",
       "..                                                 ...      ...  \n",
       "115  8 GB RAM | 128 GB ROM | Expandable Upto 2 TB16...  ₹17,999  \n",
       "116  8 GB RAM | 128 GB ROM | Expandable Upto 2 TB16...  ₹17,999  \n",
       "117  32 MB ROM | Expandable Upto 32 GB4.5 cm (1.77 ...   ₹1,199  \n",
       "118  256 GB ROM17.02 cm (6.7 inch) Super Retina XDR...  ₹85,999  \n",
       "119  8 GB RAM | 256 GB ROM16.26 cm (6.4 inch) Full ...  ₹27,303  \n",
       "\n",
       "[120 rows x 5 columns]"
      ]
     },
     "execution_count": 33,
     "metadata": {},
     "output_type": "execute_result"
    }
   ],
   "source": [
    "print(\"Flipcart Mobile Products :\")\n",
    "print(\"=\"*150)\n",
    "df"
   ]
  },
  {
   "cell_type": "code",
   "execution_count": null,
   "id": "0cfc8d9a-09b2-45e2-a517-c19382e56fe5",
   "metadata": {},
   "outputs": [],
   "source": []
  },
  {
   "cell_type": "code",
   "execution_count": null,
   "id": "4138ade4-32ff-4e8e-8e00-83a1be7b2387",
   "metadata": {},
   "outputs": [],
   "source": []
  },
  {
   "cell_type": "code",
   "execution_count": null,
   "id": "cb1cb05b-7541-46a3-9aae-5b0a1554c2c6",
   "metadata": {},
   "outputs": [],
   "source": []
  },
  {
   "cell_type": "code",
   "execution_count": null,
   "id": "0d6b3b11-cf2f-48f2-a3fe-616ccea376dd",
   "metadata": {},
   "outputs": [],
   "source": []
  }
 ],
 "metadata": {
  "kernelspec": {
   "display_name": "Python 3 (ipykernel)",
   "language": "python",
   "name": "python3"
  },
  "language_info": {
   "codemirror_mode": {
    "name": "ipython",
    "version": 3
   },
   "file_extension": ".py",
   "mimetype": "text/x-python",
   "name": "python",
   "nbconvert_exporter": "python",
   "pygments_lexer": "ipython3",
   "version": "3.10.12"
  }
 },
 "nbformat": 4,
 "nbformat_minor": 5
}
