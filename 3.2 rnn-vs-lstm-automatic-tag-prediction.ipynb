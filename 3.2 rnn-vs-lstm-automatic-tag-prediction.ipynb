{
 "cells": [
  {
   "cell_type": "markdown",
   "metadata": {
    "id": "mTMDkffWSky-"
   },
   "source": [
    "The objective of notebook is to build a model to automatically predict tags for a given a StackExchange question by using the text of the question in PyTorch using TorchText.\n",
    "\n",
    "Dataset:Over 85,000 questions and over 1300 unique tags\n",
    "\n",
    "The question-answering site StackOverflow allows users to assign tags to questions in order to make them easier for other people to find. Further experts on a certain topic can subscribe to tags to receive digests of new questions for which they might have an answer. Therefore it is both in the interest of the original poster and in the interest of people who are interested in the answer that a question gets assigned appropriate tags.\n"
   ]
  },
  {
   "cell_type": "markdown",
   "metadata": {},
   "source": [
    "# Please upvote the notebook if you find it insightful!"
   ]
  },
  {
   "cell_type": "markdown",
   "metadata": {
    "id": "48YGFqrAy6zf"
   },
   "source": [
    "# Load Data and Import Libraries"
   ]
  },
  {
   "cell_type": "code",
   "execution_count": null,
   "metadata": {},
   "outputs": [],
   "source": [
    "# !pip install beautifulsoup4\n",
    "# !pip install torch"
   ]
  },
  {
   "cell_type": "code",
   "execution_count": null,
   "metadata": {
    "id": "fM2S4yCsR7i6"
   },
   "outputs": [],
   "source": [
    "import re \n",
    "import pandas as pd\n",
    "pd.set_option('display.max_colwidth', 200)\n",
    "import numpy as np\n",
    "from bs4 import BeautifulSoup\n",
    "import matplotlib.pyplot as plt  \n",
    "from sklearn import metrics\n",
    "from sklearn.preprocessing import MultiLabelBinarizer\n",
    "import random\n",
    "import torch\n",
    "from torch import nn\n",
    "from torch.nn import Sequential,Linear,ReLU,Sigmoid,Dropout,BCELoss\n",
    "from torch.nn import Embedding, RNN, LSTM\n",
    "from torchtext.legacy import data "
   ]
  },
  {
   "cell_type": "code",
   "execution_count": null,
   "metadata": {
    "id": "JD8BvEEFR_40"
   },
   "outputs": [],
   "source": [
    "# load the stackoverflow questions dataset\n",
    "questions_df = pd.read_csv('Questions.csv',encoding='latin-1')\n",
    "\n",
    "# load the tags dataset\n",
    "tags_df = pd.read_csv('Tags.csv')"
   ]
  },
  {
   "cell_type": "code",
   "execution_count": null,
   "metadata": {
    "executionInfo": {
     "elapsed": 5106,
     "status": "ok",
     "timestamp": 1587057084817,
     "user": {
      "displayName": "Aishwarya Singh",
      "photoUrl": "https://lh3.googleusercontent.com/a-/AOh14GgeJwfn4BdBDCAplWi_kdtB9FRssOpXO7T_aMgg=s64",
      "userId": "01105858832371513140"
     },
     "user_tz": -330
    },
    "id": "mE88kY9WR_-n",
    "outputId": "94da7aa0-0379-4966-d1f6-5307c695b8ff"
   },
   "outputs": [],
   "source": [
    "questions_df.head()"
   ]
  },
  {
   "cell_type": "code",
   "execution_count": null,
   "metadata": {
    "executionInfo": {
     "elapsed": 4769,
     "status": "ok",
     "timestamp": 1587057084818,
     "user": {
      "displayName": "Aishwarya Singh",
      "photoUrl": "https://lh3.googleusercontent.com/a-/AOh14GgeJwfn4BdBDCAplWi_kdtB9FRssOpXO7T_aMgg=s64",
      "userId": "01105858832371513140"
     },
     "user_tz": -330
    },
    "id": "qxvK_9YFG2M1",
    "outputId": "d4b03840-5bf7-49ae-9df9-87844587890d"
   },
   "outputs": [],
   "source": [
    "questions_df.shape"
   ]
  },
  {
   "cell_type": "code",
   "execution_count": null,
   "metadata": {
    "executionInfo": {
     "elapsed": 4491,
     "status": "ok",
     "timestamp": 1587057084818,
     "user": {
      "displayName": "Aishwarya Singh",
      "photoUrl": "https://lh3.googleusercontent.com/a-/AOh14GgeJwfn4BdBDCAplWi_kdtB9FRssOpXO7T_aMgg=s64",
      "userId": "01105858832371513140"
     },
     "user_tz": -330
    },
    "id": "o7wSglDJSGWf",
    "outputId": "17539cf5-237b-4276-f5bf-391dc54e9b62"
   },
   "outputs": [],
   "source": [
    "tags_df.head()"
   ]
  },
  {
   "cell_type": "code",
   "execution_count": null,
   "metadata": {
    "executionInfo": {
     "elapsed": 4307,
     "status": "ok",
     "timestamp": 1587057084820,
     "user": {
      "displayName": "Aishwarya Singh",
      "photoUrl": "https://lh3.googleusercontent.com/a-/AOh14GgeJwfn4BdBDCAplWi_kdtB9FRssOpXO7T_aMgg=s64",
      "userId": "01105858832371513140"
     },
     "user_tz": -330
    },
    "id": "Xz1-htTsSGM8",
    "outputId": "e211ec41-127f-4eb6-f5ba-2ed0fe39a42f"
   },
   "outputs": [],
   "source": [
    "# No. of unique tags\n",
    "len(tags_df['Tag'].unique())"
   ]
  },
  {
   "cell_type": "markdown",
   "metadata": {
    "id": "5nQjFYQtTNH6"
   },
   "source": [
    "# Dataset Preparation"
   ]
  },
  {
   "cell_type": "code",
   "execution_count": null,
   "metadata": {
    "id": "UKoRHljISb83"
   },
   "outputs": [],
   "source": [
    "# remove \"-\" from the tags\n",
    "tags_df['Tag'] = tags_df['Tag'].apply(lambda x:re.sub(\"-\",\" \",x))"
   ]
  },
  {
   "cell_type": "code",
   "execution_count": null,
   "metadata": {
    "executionInfo": {
     "elapsed": 6362,
     "status": "ok",
     "timestamp": 1587057088087,
     "user": {
      "displayName": "Aishwarya Singh",
      "photoUrl": "https://lh3.googleusercontent.com/a-/AOh14GgeJwfn4BdBDCAplWi_kdtB9FRssOpXO7T_aMgg=s64",
      "userId": "01105858832371513140"
     },
     "user_tz": -330
    },
    "id": "mWQyeoa4ScDz",
    "outputId": "3e177c0d-3c84-4079-f2bf-de49d988f04c"
   },
   "outputs": [],
   "source": [
    "# group tags Id wise\n",
    "tags_df = tags_df.groupby('Id').apply(lambda x:x['Tag'].values).reset_index(name='tags')\n",
    "tags_df.head()"
   ]
  },
  {
   "cell_type": "code",
   "execution_count": null,
   "metadata": {
    "id": "EB8sYYOrScCC"
   },
   "outputs": [],
   "source": [
    "# merge tags and questions\n",
    "df = pd.merge(questions_df,tags_df,how='inner',on='Id')"
   ]
  },
  {
   "cell_type": "code",
   "execution_count": null,
   "metadata": {
    "id": "pD7UD9yNSmk1"
   },
   "outputs": [],
   "source": [
    "# fetch required columns\n",
    "df = df[['Id','Body','tags']]"
   ]
  },
  {
   "cell_type": "code",
   "execution_count": null,
   "metadata": {
    "executionInfo": {
     "elapsed": 5495,
     "status": "ok",
     "timestamp": 1587057088090,
     "user": {
      "displayName": "Aishwarya Singh",
      "photoUrl": "https://lh3.googleusercontent.com/a-/AOh14GgeJwfn4BdBDCAplWi_kdtB9FRssOpXO7T_aMgg=s64",
      "userId": "01105858832371513140"
     },
     "user_tz": -330
    },
    "id": "zZEEr2B5eosb",
    "outputId": "b39aa80e-d8e0-4638-9ab6-d8a720a94588"
   },
   "outputs": [],
   "source": [
    "#first 5 rows\n",
    "df.head()"
   ]
  },
  {
   "cell_type": "code",
   "execution_count": null,
   "metadata": {
    "executionInfo": {
     "elapsed": 5249,
     "status": "ok",
     "timestamp": 1587057088092,
     "user": {
      "displayName": "Aishwarya Singh",
      "photoUrl": "https://lh3.googleusercontent.com/a-/AOh14GgeJwfn4BdBDCAplWi_kdtB9FRssOpXO7T_aMgg=s64",
      "userId": "01105858832371513140"
     },
     "user_tz": -330
    },
    "id": "J28FYn8xSmqM",
    "outputId": "5b4feef7-644d-4a60-b758-47d8d43bd6fd"
   },
   "outputs": [],
   "source": [
    "#shape of the dataset\n",
    "df.shape"
   ]
  },
  {
   "cell_type": "code",
   "execution_count": null,
   "metadata": {
    "id": "n9XRjQ_wSmvh"
   },
   "outputs": [],
   "source": [
    "# check occurence of each tag\n",
    "freq={}\n",
    "for i in df['tags']:\n",
    "  for j in i:\n",
    "    if j in freq.keys():\n",
    "      freq[j] = freq[j] + 1\n",
    "    else:\n",
    "      freq[j] = 1"
   ]
  },
  {
   "cell_type": "code",
   "execution_count": null,
   "metadata": {},
   "outputs": [],
   "source": [
    "print(freq)"
   ]
  },
  {
   "cell_type": "code",
   "execution_count": null,
   "metadata": {
    "id": "DSVPSJnCSvUt"
   },
   "outputs": [],
   "source": [
    "# sort the dictionary in descending order\n",
    "freq = dict(sorted(freq.items(), key=lambda x:x[1],reverse=True))"
   ]
  },
  {
   "cell_type": "code",
   "execution_count": null,
   "metadata": {},
   "outputs": [],
   "source": [
    "freq"
   ]
  },
  {
   "cell_type": "code",
   "execution_count": null,
   "metadata": {
    "executionInfo": {
     "elapsed": 4159,
     "status": "ok",
     "timestamp": 1587057088095,
     "user": {
      "displayName": "Aishwarya Singh",
      "photoUrl": "https://lh3.googleusercontent.com/a-/AOh14GgeJwfn4BdBDCAplWi_kdtB9FRssOpXO7T_aMgg=s64",
      "userId": "01105858832371513140"
     },
     "user_tz": -330
    },
    "id": "PxDCpuGFSvhH",
    "outputId": "209a157d-b77b-45f3-ea6e-5fae88b0c8c0"
   },
   "outputs": [],
   "source": [
    "# Top 10 most frequent tags\n",
    "common_tags = list(freq.keys())[:10]\n",
    "print(common_tags)"
   ]
  },
  {
   "cell_type": "markdown",
   "metadata": {
    "id": "OPC21Z5aTkB8"
   },
   "source": [
    "We will use only those questions/queries that are associated with the top 10 tags."
   ]
  },
  {
   "cell_type": "code",
   "execution_count": null,
   "metadata": {
    "id": "YNksVjF6SvqS"
   },
   "outputs": [],
   "source": [
    "#finding queries associated with common tags\n",
    "x=[]\n",
    "y=[]\n",
    "\n",
    "for i in range(len(df['tags'])):  \n",
    "  temp=[]\n",
    "  for j in df['tags'][i]:\n",
    "    if j in common_tags:\n",
    "      temp.append(j)\n",
    "  #if common tags are more than 1\n",
    "  if(len(temp)>1):\n",
    "    x.append(df['Body'][i])\n",
    "    y.append(temp)"
   ]
  },
  {
   "cell_type": "code",
   "execution_count": null,
   "metadata": {},
   "outputs": [],
   "source": [
    "for c in range(10):\n",
    "    print(x[c],'*************')    \n",
    "    print(y[c],'############')"
   ]
  },
  {
   "cell_type": "code",
   "execution_count": null,
   "metadata": {
    "executionInfo": {
     "elapsed": 5101,
     "status": "ok",
     "timestamp": 1587057090427,
     "user": {
      "displayName": "Aishwarya Singh",
      "photoUrl": "https://lh3.googleusercontent.com/a-/AOh14GgeJwfn4BdBDCAplWi_kdtB9FRssOpXO7T_aMgg=s64",
      "userId": "01105858832371513140"
     },
     "user_tz": -330
    },
    "id": "Ck6w3DsfS82D",
    "outputId": "5d0ad330-9543-44d4-ab75-44909807bba3"
   },
   "outputs": [],
   "source": [
    "# number of questions left\n",
    "len(x)"
   ]
  },
  {
   "cell_type": "code",
   "execution_count": null,
   "metadata": {
    "executionInfo": {
     "elapsed": 4773,
     "status": "ok",
     "timestamp": 1587057090428,
     "user": {
      "displayName": "Aishwarya Singh",
      "photoUrl": "https://lh3.googleusercontent.com/a-/AOh14GgeJwfn4BdBDCAplWi_kdtB9FRssOpXO7T_aMgg=s64",
      "userId": "01105858832371513140"
     },
     "user_tz": -330
    },
    "id": "2tLZqaHQ-4Bz",
    "outputId": "20b776e0-d934-41b7-90d2-bbc6207e842e"
   },
   "outputs": [],
   "source": [
    "#first 5 tags\n",
    "y[:5]"
   ]
  },
  {
   "cell_type": "code",
   "execution_count": null,
   "metadata": {},
   "outputs": [],
   "source": [
    "'.'.join(['dinah','j'])"
   ]
  },
  {
   "cell_type": "code",
   "execution_count": null,
   "metadata": {
    "id": "AfTeISu8A3KT"
   },
   "outputs": [],
   "source": [
    "#combining the labels by space\n",
    "y = [ \",\".join([str(j) for j in i ]) for i in y]"
   ]
  },
  {
   "cell_type": "code",
   "execution_count": null,
   "metadata": {
    "executionInfo": {
     "elapsed": 3967,
     "status": "ok",
     "timestamp": 1587057090430,
     "user": {
      "displayName": "Aishwarya Singh",
      "photoUrl": "https://lh3.googleusercontent.com/a-/AOh14GgeJwfn4BdBDCAplWi_kdtB9FRssOpXO7T_aMgg=s64",
      "userId": "01105858832371513140"
     },
     "user_tz": -330
    },
    "id": "LnceeB6B_Tbd",
    "outputId": "d180f8f0-ae67-4caa-d1ff-4c0e617ec459"
   },
   "outputs": [],
   "source": [
    "#labels after converting to string\n",
    "y[:5]"
   ]
  },
  {
   "cell_type": "code",
   "execution_count": null,
   "metadata": {
    "id": "ZYblHXWVgt_S"
   },
   "outputs": [],
   "source": [
    "#save to dataframe\n",
    "dframe = pd.DataFrame({'query':x,'tags':y})"
   ]
  },
  {
   "cell_type": "code",
   "execution_count": null,
   "metadata": {
    "executionInfo": {
     "elapsed": 2871,
     "status": "ok",
     "timestamp": 1587057090431,
     "user": {
      "displayName": "Aishwarya Singh",
      "photoUrl": "https://lh3.googleusercontent.com/a-/AOh14GgeJwfn4BdBDCAplWi_kdtB9FRssOpXO7T_aMgg=s64",
      "userId": "01105858832371513140"
     },
     "user_tz": -330
    },
    "id": "fGUumAqqBpDa",
    "outputId": "7b0cb857-43ae-4cf5-cd9d-fe8450f84e06"
   },
   "outputs": [],
   "source": [
    "#first 5 rows\n",
    "dframe.head()"
   ]
  },
  {
   "cell_type": "code",
   "execution_count": null,
   "metadata": {
    "id": "27-gnDPi60yg"
   },
   "outputs": [],
   "source": [
    "#save to csv\n",
    "dframe.to_csv('stack.csv',index=False)"
   ]
  },
  {
   "cell_type": "markdown",
   "metadata": {
    "id": "F5E3gvtJ0_eC"
   },
   "source": [
    "# Text Preprocessing"
   ]
  },
  {
   "cell_type": "code",
   "execution_count": null,
   "metadata": {},
   "outputs": [],
   "source": [
    "from bs4 import BeautifulSoup"
   ]
  },
  {
   "cell_type": "code",
   "execution_count": null,
   "metadata": {
    "id": "ruV5khtmAiDU"
   },
   "outputs": [],
   "source": [
    "def cleaner(text):\n",
    "  text = BeautifulSoup(text).get_text()\n",
    "  # fetch alphabetic characters\n",
    "  text = re.sub(\"[^a-zA-Z]\", \" \", text)\n",
    "  # convert text to lower case\n",
    "  text = text.lower()\n",
    "  # split text into tokens to remove whitespaces\n",
    "  tokens = text.split()\n",
    "  return tokens"
   ]
  },
  {
   "cell_type": "code",
   "execution_count": null,
   "metadata": {
    "id": "SW0eN1UnrchO"
   },
   "outputs": [],
   "source": [
    "#define field object for query\n",
    "max_len = 100\n",
    "TEXT = data.Field(tokenize=cleaner, batch_first=True, fix_length=max_len)"
   ]
  },
  {
   "cell_type": "code",
   "execution_count": null,
   "metadata": {
    "id": "Z9PfZ04R8NkK"
   },
   "outputs": [],
   "source": [
    "#define field object for label\n",
    "LABEL = data.LabelField(batch_first=True)"
   ]
  },
  {
   "cell_type": "markdown",
   "metadata": {
    "id": "zlM-zyeSEkEi"
   },
   "source": [
    "Next we are going to create a list of tuples where first value in every tuple contains a column name and second value is a field object."
   ]
  },
  {
   "cell_type": "code",
   "execution_count": null,
   "metadata": {
    "id": "GFoE3QDb8NfI"
   },
   "outputs": [],
   "source": [
    "#define a list of tuple with field objects\n",
    "fields = [('query',TEXT),('tags', LABEL)]"
   ]
  },
  {
   "cell_type": "code",
   "execution_count": null,
   "metadata": {
    "id": "ZpOti-uNS8z_"
   },
   "outputs": [],
   "source": [
    "#reading the dataset\n",
    "training_data = data.TabularDataset(path = 'stack.csv', format = 'csv', fields = fields, skip_header = True)"
   ]
  },
  {
   "cell_type": "code",
   "execution_count": null,
   "metadata": {
    "executionInfo": {
     "elapsed": 6662,
     "status": "ok",
     "timestamp": 1587057100624,
     "user": {
      "displayName": "Aishwarya Singh",
      "photoUrl": "https://lh3.googleusercontent.com/a-/AOh14GgeJwfn4BdBDCAplWi_kdtB9FRssOpXO7T_aMgg=s64",
      "userId": "01105858832371513140"
     },
     "user_tz": -330
    },
    "id": "w_U5N4OsS_ZI",
    "outputId": "1567d936-6b95-494c-cbc6-ff90a98543bc"
   },
   "outputs": [],
   "source": [
    "print(training_data)"
   ]
  },
  {
   "cell_type": "code",
   "execution_count": null,
   "metadata": {
    "executionInfo": {
     "elapsed": 5740,
     "status": "ok",
     "timestamp": 1587057100625,
     "user": {
      "displayName": "Aishwarya Singh",
      "photoUrl": "https://lh3.googleusercontent.com/a-/AOh14GgeJwfn4BdBDCAplWi_kdtB9FRssOpXO7T_aMgg=s64",
      "userId": "01105858832371513140"
     },
     "user_tz": -330
    },
    "id": "t_imud4VBcGP",
    "outputId": "72ebf69d-1ad3-408f-9d92-bcf6dbc1cfc7"
   },
   "outputs": [],
   "source": [
    "#print preprocessed text\n",
    "print(vars(training_data.examples[0]))"
   ]
  },
  {
   "cell_type": "code",
   "execution_count": null,
   "metadata": {
    "id": "40EZTlPsBVVA"
   },
   "outputs": [],
   "source": [
    "train_data, valid_data = training_data.split(split_ratio=0.8, random_state = random.seed(32))"
   ]
  },
  {
   "cell_type": "code",
   "execution_count": null,
   "metadata": {
    "id": "cB5kUf-g9fV8"
   },
   "outputs": [],
   "source": [
    "#preparing the vocabulary for the text\n",
    "TEXT.build_vocab(train_data, min_freq=3)"
   ]
  },
  {
   "cell_type": "code",
   "execution_count": null,
   "metadata": {
    "executionInfo": {
     "elapsed": 2278,
     "status": "ok",
     "timestamp": 1587057100629,
     "user": {
      "displayName": "Aishwarya Singh",
      "photoUrl": "https://lh3.googleusercontent.com/a-/AOh14GgeJwfn4BdBDCAplWi_kdtB9FRssOpXO7T_aMgg=s64",
      "userId": "01105858832371513140"
     },
     "user_tz": -330
    },
    "id": "t9HPCTmUjvvd",
    "outputId": "d128badd-a19f-4ceb-b986-4110f7e3016b"
   },
   "outputs": [],
   "source": [
    "#No. of unique words\n",
    "len(TEXT.vocab)"
   ]
  },
  {
   "cell_type": "code",
   "execution_count": null,
   "metadata": {
    "executionInfo": {
     "elapsed": 1985,
     "status": "ok",
     "timestamp": 1587057100629,
     "user": {
      "displayName": "Aishwarya Singh",
      "photoUrl": "https://lh3.googleusercontent.com/a-/AOh14GgeJwfn4BdBDCAplWi_kdtB9FRssOpXO7T_aMgg=s64",
      "userId": "01105858832371513140"
     },
     "user_tz": -330
    },
    "id": "BivXzGMDEUMv",
    "outputId": "c4d7b383-60cd-4d0c-d560-20828811fafa"
   },
   "outputs": [],
   "source": [
    "#word index\n",
    "list(TEXT.vocab.stoi.items())[:10]"
   ]
  },
  {
   "cell_type": "code",
   "execution_count": null,
   "metadata": {
    "id": "KH4Hr9bsHAD-"
   },
   "outputs": [],
   "source": [
    "def fetch_text(examples):\n",
    "\n",
    "  text=[]\n",
    "  for example in examples:\n",
    "    query = vars(example)['query']\n",
    "    text.append(query)\n",
    "    \n",
    "  return text"
   ]
  },
  {
   "cell_type": "code",
   "execution_count": null,
   "metadata": {
    "id": "fP6tbe1YXhcT"
   },
   "outputs": [],
   "source": [
    "train_text = fetch_text(train_data)\n",
    "valid_text = fetch_text(valid_data)"
   ]
  },
  {
   "cell_type": "code",
   "execution_count": null,
   "metadata": {},
   "outputs": [],
   "source": [
    "valid_text[:10]"
   ]
  },
  {
   "cell_type": "code",
   "execution_count": null,
   "metadata": {
    "id": "JCmD_tscB8Tc"
   },
   "outputs": [],
   "source": [
    "def convert2seq(text):\n",
    "  #padding\n",
    "  text = TEXT.pad(text)\n",
    "  #converting to numbers\n",
    "  text = TEXT.numericalize(text)\n",
    "  return text"
   ]
  },
  {
   "cell_type": "code",
   "execution_count": null,
   "metadata": {
    "id": "gy0jLpHk-gEy"
   },
   "outputs": [],
   "source": [
    "X_train = convert2seq(train_text)\n",
    "X_valid = convert2seq(valid_text)"
   ]
  },
  {
   "cell_type": "code",
   "execution_count": null,
   "metadata": {
    "executionInfo": {
     "elapsed": 2837,
     "status": "ok",
     "timestamp": 1587057105005,
     "user": {
      "displayName": "Aishwarya Singh",
      "photoUrl": "https://lh3.googleusercontent.com/a-/AOh14GgeJwfn4BdBDCAplWi_kdtB9FRssOpXO7T_aMgg=s64",
      "userId": "01105858832371513140"
     },
     "user_tz": -330
    },
    "id": "D9-AU-oUj9Uq",
    "outputId": "fbfb82c4-78f5-4ec1-e082-7d01976b7560"
   },
   "outputs": [],
   "source": [
    "X_train[0]"
   ]
  },
  {
   "cell_type": "code",
   "execution_count": null,
   "metadata": {
    "executionInfo": {
     "elapsed": 2255,
     "status": "ok",
     "timestamp": 1587057105006,
     "user": {
      "displayName": "Aishwarya Singh",
      "photoUrl": "https://lh3.googleusercontent.com/a-/AOh14GgeJwfn4BdBDCAplWi_kdtB9FRssOpXO7T_aMgg=s64",
      "userId": "01105858832371513140"
     },
     "user_tz": -330
    },
    "id": "5_kAvrkbP6KU",
    "outputId": "f71f62db-d72d-417c-fb72-676a736f9e79"
   },
   "outputs": [],
   "source": [
    "X_train.shape, X_valid.shape"
   ]
  },
  {
   "cell_type": "code",
   "execution_count": null,
   "metadata": {
    "id": "Vl_S6Ql2fwjh"
   },
   "outputs": [],
   "source": [
    "def fetch_tags(data):\n",
    "  tags=[]\n",
    "  for example in data.examples:\n",
    "    tags.append(vars(example)['tags'])\n",
    "  return tags"
   ]
  },
  {
   "cell_type": "code",
   "execution_count": null,
   "metadata": {
    "id": "2L4V-Zdwf1FT"
   },
   "outputs": [],
   "source": [
    "train_tags = fetch_tags(train_data)\n",
    "valid_tags = fetch_tags(valid_data)"
   ]
  },
  {
   "cell_type": "code",
   "execution_count": null,
   "metadata": {
    "executionInfo": {
     "elapsed": 1827,
     "status": "ok",
     "timestamp": 1587057105839,
     "user": {
      "displayName": "Aishwarya Singh",
      "photoUrl": "https://lh3.googleusercontent.com/a-/AOh14GgeJwfn4BdBDCAplWi_kdtB9FRssOpXO7T_aMgg=s64",
      "userId": "01105858832371513140"
     },
     "user_tz": -330
    },
    "id": "RwcyVXZE_1MW",
    "outputId": "60d38cb0-f96c-47a7-fe55-6eeeff2b3286"
   },
   "outputs": [],
   "source": [
    "train_tags[:5]"
   ]
  },
  {
   "cell_type": "code",
   "execution_count": null,
   "metadata": {
    "id": "WmT2dgfvOaGw"
   },
   "outputs": [],
   "source": [
    "#preparing the output labels \n",
    "train_tags_list=[i.split(\",\") for i in train_tags]\n",
    "valid_tags_list=[i.split(\",\") for i in valid_tags]"
   ]
  },
  {
   "cell_type": "code",
   "execution_count": null,
   "metadata": {
    "executionInfo": {
     "elapsed": 1586,
     "status": "ok",
     "timestamp": 1587057106559,
     "user": {
      "displayName": "Aishwarya Singh",
      "photoUrl": "https://lh3.googleusercontent.com/a-/AOh14GgeJwfn4BdBDCAplWi_kdtB9FRssOpXO7T_aMgg=s64",
      "userId": "01105858832371513140"
     },
     "user_tz": -330
    },
    "id": "DWwlKMXc_R4S",
    "outputId": "58bcf755-5dd2-4ac8-e330-36839e561dd5"
   },
   "outputs": [],
   "source": [
    "mlb= MultiLabelBinarizer()\n",
    "mlb.fit(train_tags_list)"
   ]
  },
  {
   "cell_type": "code",
   "execution_count": null,
   "metadata": {
    "executionInfo": {
     "elapsed": 1831,
     "status": "ok",
     "timestamp": 1587057107643,
     "user": {
      "displayName": "Aishwarya Singh",
      "photoUrl": "https://lh3.googleusercontent.com/a-/AOh14GgeJwfn4BdBDCAplWi_kdtB9FRssOpXO7T_aMgg=s64",
      "userId": "01105858832371513140"
     },
     "user_tz": -330
    },
    "id": "yc4QfBrX_Ryl",
    "outputId": "f4fa0960-0e75-4b45-d36b-b675deb7046d"
   },
   "outputs": [],
   "source": [
    "mlb.classes_"
   ]
  },
  {
   "cell_type": "code",
   "execution_count": null,
   "metadata": {
    "id": "t6bHhjjsO0oA"
   },
   "outputs": [],
   "source": [
    "y_train  = mlb.transform(train_tags_list)\n",
    "y_valid  = mlb.transform(valid_tags_list)"
   ]
  },
  {
   "cell_type": "code",
   "execution_count": null,
   "metadata": {},
   "outputs": [],
   "source": [
    "y_valid[0]"
   ]
  },
  {
   "cell_type": "code",
   "execution_count": null,
   "metadata": {
    "executionInfo": {
     "elapsed": 2851,
     "status": "ok",
     "timestamp": 1587057111647,
     "user": {
      "displayName": "Aishwarya Singh",
      "photoUrl": "https://lh3.googleusercontent.com/a-/AOh14GgeJwfn4BdBDCAplWi_kdtB9FRssOpXO7T_aMgg=s64",
      "userId": "01105858832371513140"
     },
     "user_tz": -330
    },
    "id": "RbhTziq7O0iT",
    "outputId": "2ec1d43f-a6e9-47b9-bc5b-35bc677878d4"
   },
   "outputs": [],
   "source": [
    "y_train.shape, y_valid.shape"
   ]
  },
  {
   "cell_type": "code",
   "execution_count": null,
   "metadata": {
    "executionInfo": {
     "elapsed": 3038,
     "status": "ok",
     "timestamp": 1587057112517,
     "user": {
      "displayName": "Aishwarya Singh",
      "photoUrl": "https://lh3.googleusercontent.com/a-/AOh14GgeJwfn4BdBDCAplWi_kdtB9FRssOpXO7T_aMgg=s64",
      "userId": "01105858832371513140"
     },
     "user_tz": -330
    },
    "id": "R1QdDTe1pKcY",
    "outputId": "138f5745-e16c-4590-d6ec-b3d65241f6de"
   },
   "outputs": [],
   "source": [
    "type(y_train)"
   ]
  },
  {
   "cell_type": "code",
   "execution_count": null,
   "metadata": {
    "id": "JS0y7u8MQNxf"
   },
   "outputs": [],
   "source": [
    "y_train = torch.FloatTensor(y_train)\n",
    "y_valid = torch.FloatTensor(y_valid)"
   ]
  },
  {
   "cell_type": "code",
   "execution_count": null,
   "metadata": {
    "executionInfo": {
     "elapsed": 2098,
     "status": "ok",
     "timestamp": 1587057112521,
     "user": {
      "displayName": "Aishwarya Singh",
      "photoUrl": "https://lh3.googleusercontent.com/a-/AOh14GgeJwfn4BdBDCAplWi_kdtB9FRssOpXO7T_aMgg=s64",
      "userId": "01105858832371513140"
     },
     "user_tz": -330
    },
    "id": "PnpswpTgQXuK",
    "outputId": "a842a571-6c9f-458b-a395-d91001139b99"
   },
   "outputs": [],
   "source": [
    "y_train[0]"
   ]
  },
  {
   "cell_type": "markdown",
   "metadata": {
    "id": "f1QO2V5C1q0c"
   },
   "source": [
    "# Model Building for RNN"
   ]
  },
  {
   "cell_type": "code",
   "execution_count": null,
   "metadata": {
    "id": "I-Hu3YNxhx5Z"
   },
   "outputs": [],
   "source": [
    "# define embedding layer\n",
    "emb = Embedding(num_embeddings=len(TEXT.vocab), embedding_dim=50)"
   ]
  },
  {
   "cell_type": "code",
   "execution_count": null,
   "metadata": {
    "executionInfo": {
     "elapsed": 1522,
     "status": "ok",
     "timestamp": 1587057158809,
     "user": {
      "displayName": "Aishwarya Singh",
      "photoUrl": "https://lh3.googleusercontent.com/a-/AOh14GgeJwfn4BdBDCAplWi_kdtB9FRssOpXO7T_aMgg=s64",
      "userId": "01105858832371513140"
     },
     "user_tz": -330
    },
    "id": "jHL606DglJxs",
    "outputId": "1b0a0f55-c120-4657-fe3c-0765d307c816"
   },
   "outputs": [],
   "source": [
    "X_train[:1].shape"
   ]
  },
  {
   "cell_type": "code",
   "execution_count": null,
   "metadata": {
    "id": "9qU_qVYah4sZ"
   },
   "outputs": [],
   "source": [
    "# check sample input\n",
    "sample_embedding = emb(X_train[:1])"
   ]
  },
  {
   "cell_type": "code",
   "execution_count": null,
   "metadata": {
    "executionInfo": {
     "elapsed": 849,
     "status": "ok",
     "timestamp": 1587057158813,
     "user": {
      "displayName": "Aishwarya Singh",
      "photoUrl": "https://lh3.googleusercontent.com/a-/AOh14GgeJwfn4BdBDCAplWi_kdtB9FRssOpXO7T_aMgg=s64",
      "userId": "01105858832371513140"
     },
     "user_tz": -330
    },
    "id": "qRqMsYe_jJzW",
    "outputId": "255489bf-7212-4a7e-d20a-a0dfe63f56b7"
   },
   "outputs": [],
   "source": [
    "sample_embedding.shape"
   ]
  },
  {
   "cell_type": "code",
   "execution_count": null,
   "metadata": {
    "id": "7GNiEeVSzNqg"
   },
   "outputs": [],
   "source": [
    "#define a rnn\n",
    "rnn = RNN(input_size=50, hidden_size=128, batch_first=True, nonlinearity='relu')"
   ]
  },
  {
   "cell_type": "code",
   "execution_count": null,
   "metadata": {
    "id": "BWWNM7emrESx"
   },
   "outputs": [],
   "source": [
    "#pass the input to rnn\n",
    "hidden_states,last_hidden_state = rnn(sample_embedding)"
   ]
  },
  {
   "cell_type": "code",
   "execution_count": null,
   "metadata": {
    "executionInfo": {
     "elapsed": 1357,
     "status": "ok",
     "timestamp": 1587057162255,
     "user": {
      "displayName": "Aishwarya Singh",
      "photoUrl": "https://lh3.googleusercontent.com/a-/AOh14GgeJwfn4BdBDCAplWi_kdtB9FRssOpXO7T_aMgg=s64",
      "userId": "01105858832371513140"
     },
     "user_tz": -330
    },
    "id": "b2UOiZpIrEOV",
    "outputId": "34d528ff-84e3-4a6a-e206-a8a5239673de"
   },
   "outputs": [],
   "source": [
    "#Hidden state of every timestep (Batch, seq_len, no. of hidden neurons)\n",
    "hidden_states.shape"
   ]
  },
  {
   "cell_type": "code",
   "execution_count": null,
   "metadata": {
    "executionInfo": {
     "elapsed": 1267,
     "status": "ok",
     "timestamp": 1587057163487,
     "user": {
      "displayName": "Aishwarya Singh",
      "photoUrl": "https://lh3.googleusercontent.com/a-/AOh14GgeJwfn4BdBDCAplWi_kdtB9FRssOpXO7T_aMgg=s64",
      "userId": "01105858832371513140"
     },
     "user_tz": -330
    },
    "id": "5X-Sh0Hfsndv",
    "outputId": "16b83da7-f3e5-4d27-f512-eeb9d2b34d09"
   },
   "outputs": [],
   "source": [
    "#output shape of last hidden timestep\n",
    "last_hidden_state.shape"
   ]
  },
  {
   "cell_type": "code",
   "execution_count": null,
   "metadata": {
    "executionInfo": {
     "elapsed": 2271,
     "status": "ok",
     "timestamp": 1587057164683,
     "user": {
      "displayName": "Aishwarya Singh",
      "photoUrl": "https://lh3.googleusercontent.com/a-/AOh14GgeJwfn4BdBDCAplWi_kdtB9FRssOpXO7T_aMgg=s64",
      "userId": "01105858832371513140"
     },
     "user_tz": -330
    },
    "id": "_CR_ZH74oMKU",
    "outputId": "cc1bf7ed-e377-46ad-a8ac-ff2c3b6b2021"
   },
   "outputs": [],
   "source": [
    "#reshaping the hidden states\n",
    "reshaped = hidden_states.reshape(hidden_states.size(0),-1)\n",
    "reshaped.shape"
   ]
  },
  {
   "cell_type": "code",
   "execution_count": null,
   "metadata": {
    "id": "ak9rPTehSv0F"
   },
   "outputs": [],
   "source": [
    "class Net(nn.Module):\n",
    "    #define all the layers used in model\n",
    "    def __init__(self): \n",
    "        #Constructor\n",
    "        super(Net, self).__init__()   \n",
    "        self.rnn_layer = nn.Sequential(\n",
    "            #embedding layer [batch_size,vocab_size]\n",
    "            Embedding(num_embeddings=len(TEXT.vocab), embedding_dim=50),\n",
    "            #rnn layer [batch_size,100,128]\n",
    "            RNN(input_size=50, hidden_size=128, nonlinearity='relu',batch_first=True)\n",
    "            )\n",
    "        self.dense_layer = nn.Sequential(\n",
    "            #[batch_size,100*128]\n",
    "            Linear(12800, 128),\n",
    "            ReLU(),\n",
    "            #[batch_size,128]\n",
    "            Linear(128,10),\n",
    "            #[batch_size,10]\n",
    "            Sigmoid()\n",
    "        )\n",
    "\n",
    "    def forward(self, x):\n",
    "        \n",
    "        #rnn layer\n",
    "        hidden_states, last_hidden_state = self.rnn_layer(x)\n",
    "\n",
    "        #reshaping\n",
    "        hidden_states = hidden_states.reshape(hidden_states.size(0),-1)\n",
    "\n",
    "        #dense layer\n",
    "        outputs=self.dense_layer(hidden_states)\n",
    "        \n",
    "        return outputs"
   ]
  },
  {
   "cell_type": "code",
   "execution_count": null,
   "metadata": {
    "id": "0YJHLpi4Sv5j"
   },
   "outputs": [],
   "source": [
    "#define the model\n",
    "model = Net()"
   ]
  },
  {
   "cell_type": "code",
   "execution_count": null,
   "metadata": {
    "executionInfo": {
     "elapsed": 2007,
     "status": "ok",
     "timestamp": 1587057167559,
     "user": {
      "displayName": "Aishwarya Singh",
      "photoUrl": "https://lh3.googleusercontent.com/a-/AOh14GgeJwfn4BdBDCAplWi_kdtB9FRssOpXO7T_aMgg=s64",
      "userId": "01105858832371513140"
     },
     "user_tz": -330
    },
    "id": "L4U_4YfbSv_A",
    "outputId": "fd98f284-3970-427b-e1d1-97ff718468e0"
   },
   "outputs": [],
   "source": [
    "#model layers\n",
    "model"
   ]
  },
  {
   "cell_type": "code",
   "execution_count": null,
   "metadata": {
    "executionInfo": {
     "elapsed": 1602,
     "status": "ok",
     "timestamp": 1587057169459,
     "user": {
      "displayName": "Aishwarya Singh",
      "photoUrl": "https://lh3.googleusercontent.com/a-/AOh14GgeJwfn4BdBDCAplWi_kdtB9FRssOpXO7T_aMgg=s64",
      "userId": "01105858832371513140"
     },
     "user_tz": -330
    },
    "id": "D06A21xv6JaN",
    "outputId": "93573f83-e434-41ed-e00e-b477135152f7"
   },
   "outputs": [],
   "source": [
    "with torch.no_grad():\n",
    "  pred = model(X_train[:1])\n",
    "  print(pred)"
   ]
  },
  {
   "cell_type": "code",
   "execution_count": null,
   "metadata": {
    "id": "liHnnKIFjmRj"
   },
   "outputs": [],
   "source": [
    "#define optimizer and loss\n",
    "optimizer = torch.optim.Adam(model.parameters())\n",
    "criterion = BCELoss()\n",
    "\n",
    "# checking if GPU is available\n",
    "if torch.cuda.is_available():\n",
    "    model = model.cuda()\n",
    "    criterion = criterion.cuda()"
   ]
  },
  {
   "cell_type": "markdown",
   "metadata": {
    "id": "LleGoa8918PF"
   },
   "source": [
    "# Model Training"
   ]
  },
  {
   "cell_type": "code",
   "execution_count": null,
   "metadata": {
    "id": "p_v08HY6Sv84"
   },
   "outputs": [],
   "source": [
    "# define training function\n",
    "def train(X,y,batch_size):\n",
    "\n",
    "  #activate training phase\n",
    "  model.train()\n",
    "  \n",
    "  #initialization\n",
    "  epoch_loss= 0\n",
    "  no_of_batches = 0\n",
    "\n",
    "  #randomly create indices\n",
    "  indices= torch.randperm(len(X))\n",
    "  \n",
    "  #loading in batches\n",
    "  for i in range(0,len(indices),batch_size):\n",
    "    \n",
    "    #indices for a batch\n",
    "    ind = indices[i:i+batch_size]\n",
    "  \n",
    "    #batch  \n",
    "    batch_x=X[ind]\n",
    "    batch_y=y[ind]\n",
    "    \n",
    "    #push to cuda\n",
    "    if torch.cuda.is_available():\n",
    "        batch_x, batch_y = batch_x.cuda(), batch_y.cuda()\n",
    "\n",
    "    #clear gradients\n",
    "    optimizer.zero_grad()\n",
    "          \n",
    "    #forward pass\n",
    "    outputs = model(batch_x)\n",
    "\n",
    "    #converting to a 1 dimensional tensor\n",
    "    outputs = outputs.squeeze()\n",
    "\n",
    "    #calculate loss and accuracy\n",
    "    loss = criterion(outputs, batch_y)\n",
    "    \n",
    "    #Backward pass\n",
    "    loss.backward()\n",
    "    \n",
    "    #Update weights\n",
    "    optimizer.step()\n",
    "\n",
    "    #Keep track of the loss and accuracy of a epoch\n",
    "    epoch_loss = epoch_loss + loss.item()\n",
    "\n",
    "    #No. of batches\n",
    "    no_of_batches = no_of_batches+1\n",
    "\n",
    "  return epoch_loss/no_of_batches"
   ]
  },
  {
   "cell_type": "code",
   "execution_count": null,
   "metadata": {
    "id": "FeCtfkgoSvx8"
   },
   "outputs": [],
   "source": [
    "# define evaluation function\n",
    "def evaluate(X,y,batch_size):\n",
    "\n",
    "  #deactivate training phase\n",
    "  model.eval()\n",
    "\n",
    "  #initialization\n",
    "  epoch_loss = 0\n",
    "  no_of_batches = 0\n",
    "\n",
    "  #randomly create indices\n",
    "  indices= torch.randperm(len(X))\n",
    "\n",
    "  #deactivates autograd\n",
    "  with torch.no_grad():\n",
    "    \n",
    "    #loading in batches\n",
    "    for i in range(0,len(indices),batch_size):\n",
    "      \n",
    "      #indices for a batch\n",
    "      ind = indices[i:i+batch_size]\n",
    "  \n",
    "      #batch  \n",
    "      batch_x= X[ind]\n",
    "      batch_y= y[ind]\n",
    "\n",
    "      #push to cuda\n",
    "      if torch.cuda.is_available():\n",
    "          batch_x, batch_y = batch_x.cuda(), batch_y.cuda()\n",
    "        \n",
    "      #Forward pass\n",
    "      outputs = model(batch_x)\n",
    "\n",
    "      #converting the output to 1 Dimensional tensor\n",
    "      outputs = outputs.squeeze()\n",
    "\n",
    "      # Calculate loss and accuracy\n",
    "      loss = criterion(outputs, batch_y)\n",
    "      \n",
    "      #keep track of loss and accuracy of an epoch\n",
    "      epoch_loss = epoch_loss + loss.item()\n",
    "\n",
    "      #no. of batches\n",
    "      no_of_batches = no_of_batches + 1\n",
    "\n",
    "    return epoch_loss/no_of_batches"
   ]
  },
  {
   "cell_type": "code",
   "execution_count": null,
   "metadata": {
    "id": "73CuJpFUYvDM"
   },
   "outputs": [],
   "source": [
    "# define prediction function\n",
    "def predict(X,batch_size):\n",
    "  \n",
    "  #deactivate training phase\n",
    "  model.eval()\n",
    "\n",
    "  # initialization \n",
    "  predictions = []\n",
    "\n",
    "  # create indices\n",
    "  indices = torch.arange(len(X))\n",
    "\n",
    "  #deactivates autograd\n",
    "  with torch.no_grad():\n",
    "      \n",
    "      for i in range(0, len(X), batch_size):\n",
    "        \n",
    "        #indices for a batch\n",
    "        ind = indices[i:i+batch_size]\n",
    "\n",
    "        # batch\n",
    "        batch_x = X[ind]\n",
    "\n",
    "        #push to cuda\n",
    "        if torch.cuda.is_available():\n",
    "            batch_x = batch_x.cuda()\n",
    "\n",
    "        #Forward pass\n",
    "        outputs = model(batch_x)\n",
    "\n",
    "        #converting the output to 1 Dimensional tensor\n",
    "        outputs = outputs.squeeze()\n",
    "\n",
    "        # convert to numpy array\n",
    "        prediction = outputs.data.cpu().numpy()\n",
    "        predictions.append(prediction)\n",
    "    \n",
    "  # convert to single numpy array\n",
    "  predictions = np.concatenate(predictions, axis=0)\n",
    "    \n",
    "  return predictions"
   ]
  },
  {
   "cell_type": "code",
   "execution_count": null,
   "metadata": {
    "executionInfo": {
     "elapsed": 20094,
     "status": "ok",
     "timestamp": 1587057196073,
     "user": {
      "displayName": "Aishwarya Singh",
      "photoUrl": "https://lh3.googleusercontent.com/a-/AOh14GgeJwfn4BdBDCAplWi_kdtB9FRssOpXO7T_aMgg=s64",
      "userId": "01105858832371513140"
     },
     "user_tz": -330
    },
    "id": "Z5bch29mSve6",
    "outputId": "6a254a0d-360f-4c7d-fc1e-431502210ab7"
   },
   "outputs": [],
   "source": [
    "N_EPOCHS = 10\n",
    "batch_size = 32\n",
    "\n",
    "# intialization\n",
    "best_valid_loss = float('inf')\n",
    "\n",
    "for epoch in range(N_EPOCHS):\n",
    "     \n",
    "    #train the model\n",
    "    train_loss   = train(X_train, y_train, batch_size)\n",
    "    \n",
    "    #evaluate the model\n",
    "    valid_loss   = evaluate(X_valid, y_valid, batch_size)\n",
    "\n",
    "    print('\\nEpoch :',epoch,\n",
    "          'Training loss:',round(train_loss,4),\n",
    "          '\\tValidation loss:',round(valid_loss,4))\n",
    "\n",
    "    #save the best model\n",
    "    if best_valid_loss >= valid_loss:\n",
    "        best_valid_loss = valid_loss\n",
    "        torch.save(model.state_dict(), 'saved_weights.pt') \n",
    "        print(\"\\n----------------------------------------------------Saved best model------------------------------------------------------------------\")   "
   ]
  },
  {
   "cell_type": "markdown",
   "metadata": {
    "id": "iPD3sYkO2C8k"
   },
   "source": [
    "# Model Evaluation"
   ]
  },
  {
   "cell_type": "code",
   "execution_count": null,
   "metadata": {
    "executionInfo": {
     "elapsed": 2526,
     "status": "ok",
     "timestamp": 1587057198609,
     "user": {
      "displayName": "Aishwarya Singh",
      "photoUrl": "https://lh3.googleusercontent.com/a-/AOh14GgeJwfn4BdBDCAplWi_kdtB9FRssOpXO7T_aMgg=s64",
      "userId": "01105858832371513140"
     },
     "user_tz": -330
    },
    "id": "Gdj5mP2EYZVz",
    "outputId": "9f1565cc-de29-412a-ded7-c399cd1fecea"
   },
   "outputs": [],
   "source": [
    "#load weights of best model\n",
    "path='saved_weights.pt'\n",
    "model.load_state_dict(torch.load(path))"
   ]
  },
  {
   "cell_type": "code",
   "execution_count": null,
   "metadata": {
    "id": "AbV0Y8dXYsv2"
   },
   "outputs": [],
   "source": [
    "#predict probabilities\n",
    "y_pred_prob = predict(X_valid, batch_size)"
   ]
  },
  {
   "cell_type": "code",
   "execution_count": null,
   "metadata": {
    "executionInfo": {
     "elapsed": 3309,
     "status": "ok",
     "timestamp": 1587057199405,
     "user": {
      "displayName": "Aishwarya Singh",
      "photoUrl": "https://lh3.googleusercontent.com/a-/AOh14GgeJwfn4BdBDCAplWi_kdtB9FRssOpXO7T_aMgg=s64",
      "userId": "01105858832371513140"
     },
     "user_tz": -330
    },
    "id": "0_K7FERpSvZL",
    "outputId": "62a65ad9-2544-42ed-beab-adedc798abf8"
   },
   "outputs": [],
   "source": [
    "y_pred_prob[0]"
   ]
  },
  {
   "cell_type": "code",
   "execution_count": null,
   "metadata": {
    "id": "AdpKdmTvbEeu"
   },
   "outputs": [],
   "source": [
    "#actual tags\n",
    "y_true = y_valid.cpu().numpy()"
   ]
  },
  {
   "cell_type": "code",
   "execution_count": null,
   "metadata": {
    "executionInfo": {
     "elapsed": 1911,
     "status": "ok",
     "timestamp": 1587057230835,
     "user": {
      "displayName": "Aishwarya Singh",
      "photoUrl": "https://lh3.googleusercontent.com/a-/AOh14GgeJwfn4BdBDCAplWi_kdtB9FRssOpXO7T_aMgg=s64",
      "userId": "01105858832371513140"
     },
     "user_tz": -330
    },
    "id": "eoyr5wlbSmfI",
    "outputId": "5761ee22-9c53-41f2-9157-fc84b3c261c6"
   },
   "outputs": [],
   "source": [
    "#define candidate threshold values\n",
    "threshold  = np.arange(0,0.5,0.01)\n",
    "print(threshold)"
   ]
  },
  {
   "cell_type": "code",
   "execution_count": null,
   "metadata": {
    "id": "bvcm8hxPSb3e"
   },
   "outputs": [],
   "source": [
    "# convert probabilities into classes or tags based on a threshold value\n",
    "def classify(y_pred_prob, thresh):\n",
    "  \n",
    "  y_pred = []\n",
    "\n",
    "  for i in y_pred_prob:\n",
    "    temp=[]\n",
    "      \n",
    "    for j in i:\n",
    "      if j>=thresh:\n",
    "        temp.append(1)\n",
    "      else:\n",
    "        temp.append(0)\n",
    "    \n",
    "    y_pred.append(temp)\n",
    "\n",
    "  return np.array(y_pred)"
   ]
  },
  {
   "cell_type": "code",
   "execution_count": null,
   "metadata": {
    "id": "gG8OFwSuSb0m"
   },
   "outputs": [],
   "source": [
    "score=[]\n",
    "\n",
    "for thresh in threshold:\n",
    "    \n",
    "    #classes for each threshold\n",
    "    y_pred = classify(y_pred_prob, thresh) \n",
    "\n",
    "    #convert to 1d array\n",
    "    y_pred_1d    =  y_pred.ravel()\n",
    "    y_true_1d    =  y_true.ravel()\n",
    " \n",
    "    score.append(metrics.f1_score(y_true_1d, y_pred_1d))"
   ]
  },
  {
   "cell_type": "code",
   "execution_count": null,
   "metadata": {
    "executionInfo": {
     "elapsed": 3776,
     "status": "ok",
     "timestamp": 1587057251767,
     "user": {
      "displayName": "Aishwarya Singh",
      "photoUrl": "https://lh3.googleusercontent.com/a-/AOh14GgeJwfn4BdBDCAplWi_kdtB9FRssOpXO7T_aMgg=s64",
      "userId": "01105858832371513140"
     },
     "user_tz": -330
    },
    "id": "XBZxqkmSR_8i",
    "outputId": "98d1ef7b-bbe3-498b-cb4d-ff6bb63f9507"
   },
   "outputs": [],
   "source": [
    "# find the optimal threshold\n",
    "opt = threshold[score.index(max(score))]\n",
    "print(opt)"
   ]
  },
  {
   "cell_type": "code",
   "execution_count": null,
   "metadata": {
    "id": "eD2l-uNwR7o3"
   },
   "outputs": [],
   "source": [
    "#predictions for optimal threshold\n",
    "y_pred = classify(y_pred_prob, opt)"
   ]
  },
  {
   "cell_type": "code",
   "execution_count": null,
   "metadata": {
    "executionInfo": {
     "elapsed": 1875,
     "status": "ok",
     "timestamp": 1587057255400,
     "user": {
      "displayName": "Aishwarya Singh",
      "photoUrl": "https://lh3.googleusercontent.com/a-/AOh14GgeJwfn4BdBDCAplWi_kdtB9FRssOpXO7T_aMgg=s64",
      "userId": "01105858832371513140"
     },
     "user_tz": -330
    },
    "id": "MdHB_HaJR7m2",
    "outputId": "056e383c-e1e1-410e-e002-d6c21ae5fb8e"
   },
   "outputs": [],
   "source": [
    "#converting to 1D\n",
    "y_pred_1d = y_pred.ravel()\n",
    "\n",
    "#Classification report\n",
    "print(metrics.classification_report(y_true_1d, y_pred_1d))"
   ]
  },
  {
   "cell_type": "code",
   "execution_count": null,
   "metadata": {
    "executionInfo": {
     "elapsed": 1656,
     "status": "ok",
     "timestamp": 1587057255403,
     "user": {
      "displayName": "Aishwarya Singh",
      "photoUrl": "https://lh3.googleusercontent.com/a-/AOh14GgeJwfn4BdBDCAplWi_kdtB9FRssOpXO7T_aMgg=s64",
      "userId": "01105858832371513140"
     },
     "user_tz": -330
    },
    "id": "YY-z8S42XTBB",
    "outputId": "d61aa8e6-40e7-415a-ecec-410778c567db"
   },
   "outputs": [],
   "source": [
    "#convert back to tags\n",
    "y_pred_label = mlb.inverse_transform(np.array(y_pred))\n",
    "y_true_label = mlb.inverse_transform(np.array(y_true))\n",
    "\n",
    "# get all validation text\n",
    "queries = [\" \".join(i) for i in valid_text]\n",
    "\n",
    "# create a dataframe to show the data and prediction side by side\n",
    "df = pd.DataFrame({'Questions':queries,'Actual Tags':y_true_label,'Predicted Tags':y_pred_label})\n",
    "\n",
    "# print first five rows\n",
    "df.head()"
   ]
  },
  {
   "cell_type": "markdown",
   "metadata": {
    "id": "Ib-fPuHqx2cu"
   },
   "source": [
    "# Show Inference"
   ]
  },
  {
   "cell_type": "code",
   "execution_count": null,
   "metadata": {
    "id": "x-xFfFHVdVz5"
   },
   "outputs": [],
   "source": [
    "#raw text\n",
    "text = \"For example, in the case of logistic regression, the learning function is a Sigmoid function that tries to separate the 2 classes\""
   ]
  },
  {
   "cell_type": "code",
   "execution_count": null,
   "metadata": {
    "executionInfo": {
     "elapsed": 2227,
     "status": "ok",
     "timestamp": 1587057263250,
     "user": {
      "displayName": "Aishwarya Singh",
      "photoUrl": "https://lh3.googleusercontent.com/a-/AOh14GgeJwfn4BdBDCAplWi_kdtB9FRssOpXO7T_aMgg=s64",
      "userId": "01105858832371513140"
     },
     "user_tz": -330
    },
    "id": "BzCbTh8_dWJa",
    "outputId": "a7cf7231-61e7-49e7-dd10-a8386eb7cdd0"
   },
   "outputs": [],
   "source": [
    "#cleaning text\n",
    "tokens = cleaner(text)\n",
    "tokens[:5]"
   ]
  },
  {
   "cell_type": "code",
   "execution_count": null,
   "metadata": {
    "executionInfo": {
     "elapsed": 1644,
     "status": "ok",
     "timestamp": 1587057263253,
     "user": {
      "displayName": "Aishwarya Singh",
      "photoUrl": "https://lh3.googleusercontent.com/a-/AOh14GgeJwfn4BdBDCAplWi_kdtB9FRssOpXO7T_aMgg=s64",
      "userId": "01105858832371513140"
     },
     "user_tz": -330
    },
    "id": "gqoqyJVtfUbP",
    "outputId": "6bcb5bb0-a3a6-4f78-b598-ce3bdd0dbc51"
   },
   "outputs": [],
   "source": [
    "#first argument to the model is no. of samples\n",
    "tokens = np.array(tokens).reshape(-1,len(tokens))\n",
    "tokens.shape"
   ]
  },
  {
   "cell_type": "code",
   "execution_count": null,
   "metadata": {
    "executionInfo": {
     "elapsed": 1394,
     "status": "ok",
     "timestamp": 1587057263256,
     "user": {
      "displayName": "Aishwarya Singh",
      "photoUrl": "https://lh3.googleusercontent.com/a-/AOh14GgeJwfn4BdBDCAplWi_kdtB9FRssOpXO7T_aMgg=s64",
      "userId": "01105858832371513140"
     },
     "user_tz": -330
    },
    "id": "2Tb27oqsdWGH",
    "outputId": "1fd4a3b6-62b7-4bcf-bfa7-7f6a568b37df"
   },
   "outputs": [],
   "source": [
    "#converting text to integer sequences\n",
    "seq = convert2seq(tokens)\n",
    "seq"
   ]
  },
  {
   "cell_type": "code",
   "execution_count": null,
   "metadata": {
    "executionInfo": {
     "elapsed": 1855,
     "status": "ok",
     "timestamp": 1587057263878,
     "user": {
      "displayName": "Aishwarya Singh",
      "photoUrl": "https://lh3.googleusercontent.com/a-/AOh14GgeJwfn4BdBDCAplWi_kdtB9FRssOpXO7T_aMgg=s64",
      "userId": "01105858832371513140"
     },
     "user_tz": -330
    },
    "id": "c49lZSl4dWDE",
    "outputId": "3966f105-1622-40ce-e0a3-645009c6a538"
   },
   "outputs": [],
   "source": [
    "#predictions\n",
    "with torch.no_grad():\n",
    "  if torch.cuda.is_available():\n",
    "    seq = seq.cuda()\n",
    "  pred_prob= model(seq)\n",
    "  print(pred_prob)"
   ]
  },
  {
   "cell_type": "code",
   "execution_count": null,
   "metadata": {
    "executionInfo": {
     "elapsed": 1668,
     "status": "ok",
     "timestamp": 1587057265245,
     "user": {
      "displayName": "Aishwarya Singh",
      "photoUrl": "https://lh3.googleusercontent.com/a-/AOh14GgeJwfn4BdBDCAplWi_kdtB9FRssOpXO7T_aMgg=s64",
      "userId": "01105858832371513140"
     },
     "user_tz": -330
    },
    "id": "ZeH965i2dVud",
    "outputId": "e0b2f20c-ef5b-4339-a8f5-736cf9383587"
   },
   "outputs": [],
   "source": [
    "#classify\n",
    "pred = classify(pred_prob,opt)\n",
    "pred"
   ]
  },
  {
   "cell_type": "code",
   "execution_count": null,
   "metadata": {
    "executionInfo": {
     "elapsed": 1399,
     "status": "ok",
     "timestamp": 1587057265249,
     "user": {
      "displayName": "Aishwarya Singh",
      "photoUrl": "https://lh3.googleusercontent.com/a-/AOh14GgeJwfn4BdBDCAplWi_kdtB9FRssOpXO7T_aMgg=s64",
      "userId": "01105858832371513140"
     },
     "user_tz": -330
    },
    "id": "qCf__xiIfFU9",
    "outputId": "1bae0353-22af-4494-cbe1-a75b82ab1d74"
   },
   "outputs": [],
   "source": [
    "tags  = mlb.inverse_transform(pred)[0]\n",
    "tags"
   ]
  },
  {
   "cell_type": "code",
   "execution_count": null,
   "metadata": {
    "id": "Nk_3cC8tfFdy"
   },
   "outputs": [],
   "source": [
    "def predict_tags(text):\n",
    "  \n",
    "  tokens = cleaner(text)\n",
    "  \n",
    "  tokens = np.array(tokens).reshape(-1,len(tokens))\n",
    "  \n",
    "  seq = convert2seq(tokens)\n",
    "  \n",
    "  with torch.no_grad():\n",
    "    if torch.cuda.is_available():\n",
    "      seq = seq.cuda()\n",
    "\n",
    "  pred_prob= model(seq)\n",
    "  pred = classify(pred_prob,opt)\n",
    "  \n",
    "  tags  = mlb.inverse_transform(pred)[0]\n",
    "  \n",
    "  return tags"
   ]
  },
  {
   "cell_type": "code",
   "execution_count": null,
   "metadata": {
    "executionInfo": {
     "elapsed": 1628,
     "status": "ok",
     "timestamp": 1587057269938,
     "user": {
      "displayName": "Aishwarya Singh",
      "photoUrl": "https://lh3.googleusercontent.com/a-/AOh14GgeJwfn4BdBDCAplWi_kdtB9FRssOpXO7T_aMgg=s64",
      "userId": "01105858832371513140"
     },
     "user_tz": -330
    },
    "id": "B0Jxz5kmeyEm",
    "outputId": "dfb7a78d-29a8-4013-88db-8b6cfecc7f8d"
   },
   "outputs": [],
   "source": [
    "text = \"For example, in the case of logistic regression, the learning function is a Sigmoid function that tries to separate the 2 classes\"\n",
    "\n",
    "tags = predict_tags(text)\n",
    "print(\"Query: \", text)\n",
    "print(\"Predicted tags:\",tags)"
   ]
  },
  {
   "cell_type": "markdown",
   "metadata": {
    "id": "8cN7_48hWIGA"
   },
   "source": [
    "# Model Building for LSTM"
   ]
  },
  {
   "cell_type": "code",
   "execution_count": null,
   "metadata": {
    "executionInfo": {
     "elapsed": 2023,
     "status": "ok",
     "timestamp": 1587058245660,
     "user": {
      "displayName": "Aishwarya Singh",
      "photoUrl": "https://lh3.googleusercontent.com/a-/AOh14GgeJwfn4BdBDCAplWi_kdtB9FRssOpXO7T_aMgg=s64",
      "userId": "01105858832371513140"
     },
     "user_tz": -330
    },
    "id": "_QazqtX4Fc-c",
    "outputId": "77e93d30-1182-4b4f-bbbc-3f89573c09e8"
   },
   "outputs": [],
   "source": [
    "sample_embedding.shape"
   ]
  },
  {
   "cell_type": "code",
   "execution_count": null,
   "metadata": {
    "id": "BQdkmPaPrfXK"
   },
   "outputs": [],
   "source": [
    "#define an LSTM\n",
    "lstm_layer = LSTM(input_size=50, hidden_size=128, batch_first=True)"
   ]
  },
  {
   "cell_type": "code",
   "execution_count": null,
   "metadata": {
    "id": "8ZfiG6PQ-6HI"
   },
   "outputs": [],
   "source": [
    "#pass the input to LSTM\n",
    "hidden_states, (last_hidden_state,last_cell_state) = lstm_layer(sample_embedding)"
   ]
  },
  {
   "cell_type": "code",
   "execution_count": null,
   "metadata": {
    "executionInfo": {
     "elapsed": 2252,
     "status": "ok",
     "timestamp": 1587058315091,
     "user": {
      "displayName": "Aishwarya Singh",
      "photoUrl": "https://lh3.googleusercontent.com/a-/AOh14GgeJwfn4BdBDCAplWi_kdtB9FRssOpXO7T_aMgg=s64",
      "userId": "01105858832371513140"
     },
     "user_tz": -330
    },
    "id": "_iipOXzw_Gss",
    "outputId": "855d7ae8-a92e-488d-e184-ed7254515459"
   },
   "outputs": [],
   "source": [
    "#Hidden state of every timestep (Batch, seq_len, no. of hidden neurons)\n",
    "hidden_states.shape"
   ]
  },
  {
   "cell_type": "code",
   "execution_count": null,
   "metadata": {
    "executionInfo": {
     "elapsed": 1347,
     "status": "ok",
     "timestamp": 1587058320512,
     "user": {
      "displayName": "Aishwarya Singh",
      "photoUrl": "https://lh3.googleusercontent.com/a-/AOh14GgeJwfn4BdBDCAplWi_kdtB9FRssOpXO7T_aMgg=s64",
      "userId": "01105858832371513140"
     },
     "user_tz": -330
    },
    "id": "drJDL9gB_Iq7",
    "outputId": "78d0f9a6-62b2-4872-aafd-a83eb524706d"
   },
   "outputs": [],
   "source": [
    "#output shape of last hidden timestep\n",
    "last_hidden_state.shape"
   ]
  },
  {
   "cell_type": "code",
   "execution_count": null,
   "metadata": {
    "executionInfo": {
     "elapsed": 1950,
     "status": "ok",
     "timestamp": 1587058336148,
     "user": {
      "displayName": "Aishwarya Singh",
      "photoUrl": "https://lh3.googleusercontent.com/a-/AOh14GgeJwfn4BdBDCAplWi_kdtB9FRssOpXO7T_aMgg=s64",
      "userId": "01105858832371513140"
     },
     "user_tz": -330
    },
    "id": "0WB6t5Dl_aoI",
    "outputId": "4beda0f9-7f37-4645-e5cc-8f854e78fb93"
   },
   "outputs": [],
   "source": [
    "#output shape of last cell state\n",
    "last_cell_state.shape"
   ]
  },
  {
   "cell_type": "code",
   "execution_count": null,
   "metadata": {
    "executionInfo": {
     "elapsed": 776,
     "status": "ok",
     "timestamp": 1587058424715,
     "user": {
      "displayName": "Aishwarya Singh",
      "photoUrl": "https://lh3.googleusercontent.com/a-/AOh14GgeJwfn4BdBDCAplWi_kdtB9FRssOpXO7T_aMgg=s64",
      "userId": "01105858832371513140"
     },
     "user_tz": -330
    },
    "id": "zO_vOTns_KNW",
    "outputId": "10cd6355-f9ce-4ca6-fc0d-6e7941330bcb"
   },
   "outputs": [],
   "source": [
    "#reshaping the hidden states\n",
    "reshaped = hidden_states.reshape(hidden_states.size(0),-1)\n",
    "reshaped.shape"
   ]
  },
  {
   "cell_type": "code",
   "execution_count": null,
   "metadata": {
    "id": "9pOsmRHSQYuN"
   },
   "outputs": [],
   "source": [
    "class Net(nn.Module):\n",
    "    \n",
    "    #Constructor\n",
    "    def __init__(self):\n",
    "\n",
    "        #Constructor\n",
    "        super(Net, self).__init__()   \n",
    "  \n",
    "        #rnn block\n",
    "        self.lstm_layer = Sequential(\n",
    "            \n",
    "            #embedding layer\n",
    "            Embedding(num_embeddings=len(TEXT.vocab), embedding_dim=100),\n",
    "        \n",
    "            #lstm layer\n",
    "            LSTM(input_size=100, hidden_size=128, batch_first=True)\n",
    "          \n",
    "            )\n",
    "\n",
    "        #dense block\n",
    "        self.dense_layer = Sequential(\n",
    "            \n",
    "            Linear(12800,128),\n",
    "\n",
    "            ReLU(),\n",
    "\n",
    "            Linear(128,10),\n",
    "            \n",
    "            Sigmoid()\n",
    "\n",
    "        )\n",
    "    \n",
    "    #forward pass\n",
    "    def forward(self, x):\n",
    "        \n",
    "        #rnn layer\n",
    "        hidden_states, (last_hidden_state,last_cell_state) = self.lstm_layer(x)\n",
    "\n",
    "        #flattening\n",
    "        hidden_states = hidden_states.reshape(hidden_states.size(0),-1)\n",
    "        \n",
    "        #dense layer\n",
    "        outputs=self.dense_layer(hidden_states)\n",
    "        \n",
    "        return outputs"
   ]
  },
  {
   "cell_type": "code",
   "execution_count": null,
   "metadata": {
    "id": "HUU13yvgQY1G"
   },
   "outputs": [],
   "source": [
    "#define the model\n",
    "model = Net()"
   ]
  },
  {
   "cell_type": "code",
   "execution_count": null,
   "metadata": {
    "executionInfo": {
     "elapsed": 1460,
     "status": "ok",
     "timestamp": 1587058583156,
     "user": {
      "displayName": "Aishwarya Singh",
      "photoUrl": "https://lh3.googleusercontent.com/a-/AOh14GgeJwfn4BdBDCAplWi_kdtB9FRssOpXO7T_aMgg=s64",
      "userId": "01105858832371513140"
     },
     "user_tz": -330
    },
    "id": "-RBtZlDJuu-1",
    "outputId": "b22b08b5-1d36-4784-95fd-adea88063f5b"
   },
   "outputs": [],
   "source": [
    "#layers of the model\n",
    "model"
   ]
  },
  {
   "cell_type": "code",
   "execution_count": null,
   "metadata": {
    "executionInfo": {
     "elapsed": 1372,
     "status": "ok",
     "timestamp": 1587058617840,
     "user": {
      "displayName": "Aishwarya Singh",
      "photoUrl": "https://lh3.googleusercontent.com/a-/AOh14GgeJwfn4BdBDCAplWi_kdtB9FRssOpXO7T_aMgg=s64",
      "userId": "01105858832371513140"
     },
     "user_tz": -330
    },
    "id": "4q01g37DbW1n",
    "outputId": "4b76b2a2-fe35-4d7a-d7c1-41ef40ef5d1c"
   },
   "outputs": [],
   "source": [
    "with torch.no_grad():\n",
    "  pred = model(X_train[:1])\n",
    "  print(pred)"
   ]
  },
  {
   "cell_type": "code",
   "execution_count": null,
   "metadata": {
    "id": "UDxhclMZvUHT"
   },
   "outputs": [],
   "source": [
    "#define optimizer and loss\n",
    "optimizer = torch.optim.Adam(model.parameters())\n",
    "criterion = BCELoss()\n",
    "\n",
    "# checking if GPU is available\n",
    "if torch.cuda.is_available():\n",
    "    model = model.cuda()\n",
    "    criterion = criterion.cuda()"
   ]
  },
  {
   "cell_type": "code",
   "execution_count": null,
   "metadata": {
    "executionInfo": {
     "elapsed": 21997,
     "status": "ok",
     "timestamp": 1587058672041,
     "user": {
      "displayName": "Aishwarya Singh",
      "photoUrl": "https://lh3.googleusercontent.com/a-/AOh14GgeJwfn4BdBDCAplWi_kdtB9FRssOpXO7T_aMgg=s64",
      "userId": "01105858832371513140"
     },
     "user_tz": -330
    },
    "id": "JlSsG3LQvUNl",
    "outputId": "c7897532-d1f6-48c0-eb34-b9e5c085ac0a"
   },
   "outputs": [],
   "source": [
    "N_EPOCHS = 10\n",
    "batch_size = 32\n",
    "\n",
    "# intialization\n",
    "best_valid_loss = float('inf')\n",
    "\n",
    "for epoch in range(N_EPOCHS):\n",
    "     \n",
    "    #train the model\n",
    "    train_loss   = train(X_train, y_train, batch_size)\n",
    "    \n",
    "    #evaluate the model\n",
    "    valid_loss   = evaluate(X_valid, y_valid, batch_size)\n",
    "\n",
    "    print('\\nEpoch :',epoch,\n",
    "          'Training loss:',round(train_loss,4),\n",
    "          '\\tValidation loss:',round(valid_loss,4))\n",
    "\n",
    "    #save the best model \n",
    "    if best_valid_loss >= valid_loss:\n",
    "        best_valid_loss = valid_loss\n",
    "        torch.save(model.state_dict(), 'saved_weights.pt') \n",
    "        print(\"\\n----------------------------------------------------Saved best model------------------------------------------------------------------\")   \n",
    "\n"
   ]
  },
  {
   "cell_type": "markdown",
   "metadata": {
    "id": "qWU2ZDir2q0j"
   },
   "source": [
    "# Model Evaluation"
   ]
  },
  {
   "cell_type": "code",
   "execution_count": null,
   "metadata": {
    "executionInfo": {
     "elapsed": 1701,
     "status": "ok",
     "timestamp": 1587058715670,
     "user": {
      "displayName": "Aishwarya Singh",
      "photoUrl": "https://lh3.googleusercontent.com/a-/AOh14GgeJwfn4BdBDCAplWi_kdtB9FRssOpXO7T_aMgg=s64",
      "userId": "01105858832371513140"
     },
     "user_tz": -330
    },
    "id": "K_jPYFKzvUUq",
    "outputId": "825760d5-ec81-456a-b26d-77b76ea8ef36"
   },
   "outputs": [],
   "source": [
    "#load weights of best model\n",
    "path='saved_weights.pt'\n",
    "model.load_state_dict(torch.load(path))"
   ]
  },
  {
   "cell_type": "code",
   "execution_count": null,
   "metadata": {
    "id": "tCLWSfuXQYy9"
   },
   "outputs": [],
   "source": [
    "#predict probabilities\n",
    "y_pred_prob = predict(X_valid, batch_size)"
   ]
  },
  {
   "cell_type": "code",
   "execution_count": null,
   "metadata": {
    "executionInfo": {
     "elapsed": 1911,
     "status": "ok",
     "timestamp": 1587058722214,
     "user": {
      "displayName": "Aishwarya Singh",
      "photoUrl": "https://lh3.googleusercontent.com/a-/AOh14GgeJwfn4BdBDCAplWi_kdtB9FRssOpXO7T_aMgg=s64",
      "userId": "01105858832371513140"
     },
     "user_tz": -330
    },
    "id": "srL5tr77hAfP",
    "outputId": "186f8c3f-71a1-4314-f46b-02c9a33eed4e"
   },
   "outputs": [],
   "source": [
    "y_pred_prob[0]"
   ]
  },
  {
   "cell_type": "code",
   "execution_count": null,
   "metadata": {
    "id": "p0d3ubp2hAdA"
   },
   "outputs": [],
   "source": [
    "score=[]\n",
    "\n",
    "for thresh in threshold:\n",
    "    \n",
    "    #classes for each threshold\n",
    "    y_pred = classify(y_pred_prob, thresh) \n",
    "\n",
    "    #convert to 1d array\n",
    "    y_pred_1d    =  y_pred.ravel()\n",
    "    y_true_1d    =  y_true.ravel()\n",
    " \n",
    "    score.append(metrics.f1_score(y_true_1d, y_pred_1d))"
   ]
  },
  {
   "cell_type": "code",
   "execution_count": null,
   "metadata": {
    "executionInfo": {
     "elapsed": 2873,
     "status": "ok",
     "timestamp": 1587058745176,
     "user": {
      "displayName": "Aishwarya Singh",
      "photoUrl": "https://lh3.googleusercontent.com/a-/AOh14GgeJwfn4BdBDCAplWi_kdtB9FRssOpXO7T_aMgg=s64",
      "userId": "01105858832371513140"
     },
     "user_tz": -330
    },
    "id": "FxFk7Gg3hAa8",
    "outputId": "370d1ff4-f36a-4c07-febc-fdf9e62be54f"
   },
   "outputs": [],
   "source": [
    "# find the optimal threshold\n",
    "opt = threshold[score.index(max(score))]\n",
    "print(opt)"
   ]
  },
  {
   "cell_type": "code",
   "execution_count": null,
   "metadata": {
    "id": "_E8xaA0BhAXy"
   },
   "outputs": [],
   "source": [
    "#predictions for optimal threshold\n",
    "y_pred = classify(y_pred_prob, opt)"
   ]
  },
  {
   "cell_type": "code",
   "execution_count": null,
   "metadata": {
    "executionInfo": {
     "elapsed": 1441,
     "status": "ok",
     "timestamp": 1587058766872,
     "user": {
      "displayName": "Aishwarya Singh",
      "photoUrl": "https://lh3.googleusercontent.com/a-/AOh14GgeJwfn4BdBDCAplWi_kdtB9FRssOpXO7T_aMgg=s64",
      "userId": "01105858832371513140"
     },
     "user_tz": -330
    },
    "id": "tyr-2stWhAVB",
    "outputId": "32298b56-5e97-4585-ed7b-174fa151641e"
   },
   "outputs": [],
   "source": [
    "#converting to 1D\n",
    "y_pred_1d = y_pred.ravel()\n",
    "\n",
    "#Classification report\n",
    "print(metrics.classification_report(y_true_1d, y_pred_1d))"
   ]
  },
  {
   "cell_type": "code",
   "execution_count": null,
   "metadata": {
    "id": "FHxsCTdNhAR2"
   },
   "outputs": [],
   "source": [
    "y_pred_label = mlb.inverse_transform(np.array(y_pred))"
   ]
  },
  {
   "cell_type": "code",
   "execution_count": null,
   "metadata": {
    "id": "0hAUPQFNhAP-"
   },
   "outputs": [],
   "source": [
    "df = pd.DataFrame({'comment':queries,'actual':y_true_label,'predictions':y_pred_label})"
   ]
  },
  {
   "cell_type": "code",
   "execution_count": null,
   "metadata": {
    "executionInfo": {
     "elapsed": 1220,
     "status": "ok",
     "timestamp": 1587058807877,
     "user": {
      "displayName": "Aishwarya Singh",
      "photoUrl": "https://lh3.googleusercontent.com/a-/AOh14GgeJwfn4BdBDCAplWi_kdtB9FRssOpXO7T_aMgg=s64",
      "userId": "01105858832371513140"
     },
     "user_tz": -330
    },
    "id": "Fd_7LeiDhAM6",
    "outputId": "eb382699-1ead-4849-c779-b06bc56b5913"
   },
   "outputs": [],
   "source": [
    "df.head()"
   ]
  },
  {
   "cell_type": "code",
   "execution_count": null,
   "metadata": {
    "executionInfo": {
     "elapsed": 1770,
     "status": "ok",
     "timestamp": 1587058826494,
     "user": {
      "displayName": "Aishwarya Singh",
      "photoUrl": "https://lh3.googleusercontent.com/a-/AOh14GgeJwfn4BdBDCAplWi_kdtB9FRssOpXO7T_aMgg=s64",
      "userId": "01105858832371513140"
     },
     "user_tz": -330
    },
    "id": "x4kI46Z4hAJ8",
    "outputId": "1140576f-2310-4d66-c49b-65dc4d07fb05"
   },
   "outputs": [],
   "source": [
    "text = \"For example, in the case of logistic regression, the learning function is a Sigmoid function that tries to separate the 2 classes\"\n",
    "\n",
    "tags = predict_tags(text)\n",
    "print(\"Query: \",text)\n",
    "print(\"Predicted tags:\",tags)"
   ]
  },
  {
   "cell_type": "code",
   "execution_count": null,
   "metadata": {},
   "outputs": [],
   "source": []
  }
 ],
 "metadata": {
  "kaggle": {
   "accelerator": "gpu",
   "dataSources": [
    {
     "datasetId": 263,
     "sourceId": 726720,
     "sourceType": "datasetVersion"
    }
   ],
   "dockerImageVersionId": 30060,
   "isGpuEnabled": true,
   "isInternetEnabled": false,
   "language": "python",
   "sourceType": "notebook"
  },
  "kernelspec": {
   "display_name": "Python 3 (ipykernel)",
   "language": "python",
   "name": "python3"
  },
  "language_info": {
   "codemirror_mode": {
    "name": "ipython",
    "version": 3
   },
   "file_extension": ".py",
   "mimetype": "text/x-python",
   "name": "python",
   "nbconvert_exporter": "python",
   "pygments_lexer": "ipython3",
   "version": "3.10.12"
  }
 },
 "nbformat": 4,
 "nbformat_minor": 4
}
