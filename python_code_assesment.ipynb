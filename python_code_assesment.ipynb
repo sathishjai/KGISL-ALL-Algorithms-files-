{
 "cells": [
  {
   "cell_type": "code",
   "execution_count": 1,
   "id": "a64a56c8-67b2-4aab-ad9c-d7f426a93d3d",
   "metadata": {},
   "outputs": [
    {
     "name": "stdout",
     "output_type": "stream",
     "text": [
      "Inner list 1: [1, 2]\n",
      "Inner list 2: [3, 4]\n",
      "Inner list 3: [5, 6]\n",
      "Inner list 4: [7, 8]\n",
      "Inner list 5: [9, 10]\n",
      "Final output:\n",
      "[[1, 2], [3, 4], [5, 6], [7, 8], [9, 10]]\n"
     ]
    }
   ],
   "source": [
    "def split_list(input_list):\n",
    "    result = [input_list[i:i+2] for i in range(0, len(input_list), 2)]\n",
    "    for i, inner_list in enumerate(result):\n",
    "        print(f\"Inner list {i+1}: {inner_list}\")\n",
    "    return result\n",
    "\n",
    "input_list = [1,2,\n",
    "              3,4,\n",
    "              5,6,\n",
    "              7,8,\n",
    "              9,10]\n",
    "output = split_list(input_list)\n",
    "print(\"Final output:\")\n",
    "print(output)"
   ]
  },
  {
   "cell_type": "code",
   "execution_count": 2,
   "id": "98cffde1-b21e-45ac-9915-6496202c09ca",
   "metadata": {},
   "outputs": [
    {
     "name": "stdout",
     "output_type": "stream",
     "text": [
      "Inner list 1: [1, 2]\n",
      "Inner list 2: [6, 8]\n",
      "Final output:\n",
      "[[1, 2], [6, 8]]\n"
     ]
    }
   ],
   "source": [
    "def split_list(input_list):\n",
    "    result = [input_list[i:i+2] for i in range(0, 4, 2)]\n",
    "    for i, inner_list in enumerate(result):\n",
    "        print(f\"Inner list {i+1}: {inner_list}\")\n",
    "    return result\n",
    "\n",
    "input_list = [1,2,6,8,3,0,3,4,5,6,7,8,9,10]\n",
    "output = split_list(input_list)\n",
    "print(\"Final output:\")\n",
    "print(output)"
   ]
  },
  {
   "cell_type": "code",
   "execution_count": 3,
   "id": "3ad7047a-616c-4d14-9df5-01fd8f206f3f",
   "metadata": {},
   "outputs": [
    {
     "name": "stdout",
     "output_type": "stream",
     "text": [
      "[[1, 2], [3, 4], [5, 6], [7, 8], [9, 10]]\n"
     ]
    }
   ],
   "source": [
    "input_list = [1, 2, 3, 4, 5, 6, 7, 8, 9, 10]\n",
    "output_list = [[input_list[i], input_list[i+1]] for i in range(0, len(input_list), 2)]\n",
    "print(output_list)"
   ]
  },
  {
   "cell_type": "code",
   "execution_count": 4,
   "id": "63907d50-4e00-48e8-b390-b1b6723e839c",
   "metadata": {},
   "outputs": [
    {
     "name": "stdout",
     "output_type": "stream",
     "text": [
      "1 2\n",
      "3 4\n",
      "5 6\n",
      "7 8\n"
     ]
    }
   ],
   "source": [
    "l = [[1,2],[3,4],[5,6],[7,8]]\n",
    "for i in l:\n",
    "    print(i[0],i[1])"
   ]
  },
  {
   "cell_type": "code",
   "execution_count": 22,
   "id": "a5de6718-d404-4c63-9c1a-3f45a9db643f",
   "metadata": {},
   "outputs": [
    {
     "name": "stdout",
     "output_type": "stream",
     "text": [
      " ____\n",
      "|    |\n",
      "|1|2|\n",
      "|3|4|\n",
      "|5|6|\n",
      "|7|8|\n",
      "|9|10|\n",
      "|____|\n",
      "\n"
     ]
    }
   ],
   "source": [
    "def decorator(func):\n",
    "    def nlist(input_list):\n",
    "        output = \" ____\\n|    |\\n\"\n",
    "        for i in range(0, len(input_list), 2):\n",
    "            output += \"|{}|{}|\\n\".format(input_list[i], input_list[i+1])\n",
    "        output += \"|____|\\n\"\n",
    "        return output\n",
    "    return nlist\n",
    "\n",
    "@decorator\n",
    "def process_list(input_list):\n",
    "    return input_list\n",
    "\n",
    "input_list = [1, 2, 3, 4, 5, 6, 7, 8, 9, 10]\n",
    "print(process_list(input_list))"
   ]
  },
  {
   "cell_type": "code",
   "execution_count": 23,
   "id": "ab3f15ff-5dd8-45f8-8a6c-464f0842284d",
   "metadata": {},
   "outputs": [
    {
     "name": "stdout",
     "output_type": "stream",
     "text": [
      "6\n"
     ]
    }
   ],
   "source": [
    "import random\n",
    "\n",
    "input_list = [1, 2, 3, 4, 5, 6, 7, 8, 9, 10]\n",
    "random_value = random.choice(input_list)\n",
    "print(random_value)"
   ]
  },
  {
   "cell_type": "code",
   "execution_count": 30,
   "id": "308f3ede-7273-4ebc-b933-bf33bd6c1946",
   "metadata": {},
   "outputs": [
    {
     "name": "stdout",
     "output_type": "stream",
     "text": [
      "3\n"
     ]
    }
   ],
   "source": [
    "import random\n",
    "\n",
    "input_list = [1, 2, 3, 4, 5, 6, 7, 8, 9, 10]\n",
    "random_value = random.choice(input_list)\n",
    "print(random_value)"
   ]
  },
  {
   "cell_type": "code",
   "execution_count": 36,
   "id": "a4c3e84d-a8f2-4268-aa5b-6444cd9e652f",
   "metadata": {},
   "outputs": [
    {
     "name": "stdout",
     "output_type": "stream",
     "text": [
      "|1|2|\n",
      "|3|4|\n",
      "|5|6|\n",
      "|7|8|\n",
      "|9|10|\n"
     ]
    }
   ],
   "source": [
    "input_list = [[1, 2], [3, 4], [5, 6], [7, 8], [9, 10]]\n",
    "\n",
    "for i in input_list:\n",
    "    print(\"|{}|{}|\".format(i[0], i[1]))"
   ]
  },
  {
   "cell_type": "code",
   "execution_count": 40,
   "id": "64c412cc-1c73-49fc-b7a1-af14b97c0dab",
   "metadata": {},
   "outputs": [
    {
     "name": "stdout",
     "output_type": "stream",
     "text": [
      "[1, 2]\n",
      "[3, 4]\n",
      "[5, 6]\n",
      "[7, 8]\n",
      "[9, 10]\n"
     ]
    },
    {
     "data": {
      "text/plain": [
       "'|None|'"
      ]
     },
     "execution_count": 40,
     "metadata": {},
     "output_type": "execute_result"
    }
   ],
   "source": [
    "def decorator(func):\n",
    "    def list1(*args, **kwargs):\n",
    "        result = func(*args, **kwargs)\n",
    "        return \"|{}|\".format(result)\n",
    "    return list1\n",
    "\n",
    "@decorator\n",
    "def print_numbers(input_list):\n",
    "    for i in input_list:\n",
    "        if i==-1:\n",
    "            break\n",
    "        print(i)\n",
    "\n",
    "input_list = [[1, 2], [3, 4], [5, 6], [7, 8], [9, 10]]\n",
    "print_numbers(input_list)"
   ]
  },
  {
   "cell_type": "code",
   "execution_count": 56,
   "id": "d36abdda-1a8d-44cd-9ef7-52ede5dc61bf",
   "metadata": {},
   "outputs": [
    {
     "name": "stdout",
     "output_type": "stream",
     "text": [
      "[1, 2]\n",
      "[3, 4]\n",
      "[5, 6]\n",
      "[7, 8]\n",
      "[9, 10]\n",
      "\n"
     ]
    }
   ],
   "source": [
    "def decorator(func):\n",
    "    def wrapper(input_list):\n",
    "        output = \"\" \n",
    "        for i in range(0, len(input_list) -0):\n",
    "            output += \"{}\\n\".format(input_list[i], input_list[i])\n",
    "        output += \"\"\n",
    "        return output\n",
    "    return wrapper\n",
    "\n",
    "@decorator\n",
    "def process_list(input_list):\n",
    "    return input_list\n",
    "\n",
    "input_list = [[1, 2], [3, 4], [5, 6], [7, 8], [9, 10]]\n",
    "print(process_list(input_list))"
   ]
  },
  {
   "cell_type": "code",
   "execution_count": null,
   "id": "02107db5-615c-4c6e-828d-80e81ed1f2eb",
   "metadata": {},
   "outputs": [],
   "source": []
  }
 ],
 "metadata": {
  "kernelspec": {
   "display_name": "Python 3 (ipykernel)",
   "language": "python",
   "name": "python3"
  },
  "language_info": {
   "codemirror_mode": {
    "name": "ipython",
    "version": 3
   },
   "file_extension": ".py",
   "mimetype": "text/x-python",
   "name": "python",
   "nbconvert_exporter": "python",
   "pygments_lexer": "ipython3",
   "version": "3.10.12"
  }
 },
 "nbformat": 4,
 "nbformat_minor": 5
}
